{
 "cells": [
  {
   "cell_type": "markdown",
   "metadata": {},
   "source": [
    "# ISLP - Chapter 3 - Exercise 11\n",
    "### Author: pzuehlke"
   ]
  },
  {
   "cell_type": "code",
   "execution_count": 2,
   "metadata": {},
   "outputs": [],
   "source": [
    "import numpy as np\n",
    "import pandas as pd\n",
    "import matplotlib.pyplot as plt\n",
    "import statsmodels.api as sm"
   ]
  },
  {
   "cell_type": "markdown",
   "metadata": {},
   "source": [
    "__11 (a):__"
   ]
  },
  {
   "cell_type": "code",
   "execution_count": 7,
   "metadata": {},
   "outputs": [],
   "source": [
    "rng = np.random.default_rng(1)\n",
    "x = rng.normal(size=100)\n",
    "y = 2 * x + rng.normal(size=100)"
   ]
  },
  {
   "cell_type": "code",
   "execution_count": 8,
   "metadata": {},
   "outputs": [
    {
     "data": {
      "text/html": [
       "<table class=\"simpletable\">\n",
       "<caption>OLS Regression Results</caption>\n",
       "<tr>\n",
       "  <th>Dep. Variable:</th>            <td>y</td>        <th>  R-squared (uncentered):</th>      <td>   0.743</td>\n",
       "</tr>\n",
       "<tr>\n",
       "  <th>Model:</th>                   <td>OLS</td>       <th>  Adj. R-squared (uncentered):</th> <td>   0.740</td>\n",
       "</tr>\n",
       "<tr>\n",
       "  <th>Method:</th>             <td>Least Squares</td>  <th>  F-statistic:       </th>          <td>   285.6</td>\n",
       "</tr>\n",
       "<tr>\n",
       "  <th>Date:</th>             <td>Tue, 04 Feb 2025</td> <th>  Prob (F-statistic):</th>          <td>6.23e-31</td>\n",
       "</tr>\n",
       "<tr>\n",
       "  <th>Time:</th>                 <td>22:29:26</td>     <th>  Log-Likelihood:    </th>          <td> -141.35</td>\n",
       "</tr>\n",
       "<tr>\n",
       "  <th>No. Observations:</th>      <td>   100</td>      <th>  AIC:               </th>          <td>   284.7</td>\n",
       "</tr>\n",
       "<tr>\n",
       "  <th>Df Residuals:</th>          <td>    99</td>      <th>  BIC:               </th>          <td>   287.3</td>\n",
       "</tr>\n",
       "<tr>\n",
       "  <th>Df Model:</th>              <td>     1</td>      <th>                     </th>              <td> </td>   \n",
       "</tr>\n",
       "<tr>\n",
       "  <th>Covariance Type:</th>      <td>nonrobust</td>    <th>                     </th>              <td> </td>   \n",
       "</tr>\n",
       "</table>\n",
       "<table class=\"simpletable\">\n",
       "<tr>\n",
       "   <td></td>     <th>coef</th>     <th>std err</th>      <th>t</th>      <th>P>|t|</th>  <th>[0.025</th>    <th>0.975]</th>  \n",
       "</tr>\n",
       "<tr>\n",
       "  <th>x1</th> <td>    1.9762</td> <td>    0.117</td> <td>   16.898</td> <td> 0.000</td> <td>    1.744</td> <td>    2.208</td>\n",
       "</tr>\n",
       "</table>\n",
       "<table class=\"simpletable\">\n",
       "<tr>\n",
       "  <th>Omnibus:</th>       <td> 1.376</td> <th>  Durbin-Watson:     </th> <td>   2.184</td>\n",
       "</tr>\n",
       "<tr>\n",
       "  <th>Prob(Omnibus):</th> <td> 0.503</td> <th>  Jarque-Bera (JB):  </th> <td>   0.847</td>\n",
       "</tr>\n",
       "<tr>\n",
       "  <th>Skew:</th>          <td> 0.121</td> <th>  Prob(JB):          </th> <td>   0.655</td>\n",
       "</tr>\n",
       "<tr>\n",
       "  <th>Kurtosis:</th>      <td> 3.381</td> <th>  Cond. No.          </th> <td>    1.00</td>\n",
       "</tr>\n",
       "</table><br/><br/>Notes:<br/>[1] R² is computed without centering (uncentered) since the model does not contain a constant.<br/>[2] Standard Errors assume that the covariance matrix of the errors is correctly specified."
      ],
      "text/latex": [
       "\\begin{center}\n",
       "\\begin{tabular}{lclc}\n",
       "\\toprule\n",
       "\\textbf{Dep. Variable:}    &        y         & \\textbf{  R-squared (uncentered):}      &     0.743   \\\\\n",
       "\\textbf{Model:}            &       OLS        & \\textbf{  Adj. R-squared (uncentered):} &     0.740   \\\\\n",
       "\\textbf{Method:}           &  Least Squares   & \\textbf{  F-statistic:       }          &     285.6   \\\\\n",
       "\\textbf{Date:}             & Tue, 04 Feb 2025 & \\textbf{  Prob (F-statistic):}          &  6.23e-31   \\\\\n",
       "\\textbf{Time:}             &     22:29:26     & \\textbf{  Log-Likelihood:    }          &   -141.35   \\\\\n",
       "\\textbf{No. Observations:} &         100      & \\textbf{  AIC:               }          &     284.7   \\\\\n",
       "\\textbf{Df Residuals:}     &          99      & \\textbf{  BIC:               }          &     287.3   \\\\\n",
       "\\textbf{Df Model:}         &           1      & \\textbf{                     }          &             \\\\\n",
       "\\textbf{Covariance Type:}  &    nonrobust     & \\textbf{                     }          &             \\\\\n",
       "\\bottomrule\n",
       "\\end{tabular}\n",
       "\\begin{tabular}{lcccccc}\n",
       "            & \\textbf{coef} & \\textbf{std err} & \\textbf{t} & \\textbf{P$> |$t$|$} & \\textbf{[0.025} & \\textbf{0.975]}  \\\\\n",
       "\\midrule\n",
       "\\textbf{x1} &       1.9762  &        0.117     &    16.898  &         0.000        &        1.744    &        2.208     \\\\\n",
       "\\bottomrule\n",
       "\\end{tabular}\n",
       "\\begin{tabular}{lclc}\n",
       "\\textbf{Omnibus:}       &  1.376 & \\textbf{  Durbin-Watson:     } &    2.184  \\\\\n",
       "\\textbf{Prob(Omnibus):} &  0.503 & \\textbf{  Jarque-Bera (JB):  } &    0.847  \\\\\n",
       "\\textbf{Skew:}          &  0.121 & \\textbf{  Prob(JB):          } &    0.655  \\\\\n",
       "\\textbf{Kurtosis:}      &  3.381 & \\textbf{  Cond. No.          } &     1.00  \\\\\n",
       "\\bottomrule\n",
       "\\end{tabular}\n",
       "%\\caption{OLS Regression Results}\n",
       "\\end{center}\n",
       "\n",
       "Notes: \\newline\n",
       " [1] R² is computed without centering (uncentered) since the model does not contain a constant. \\newline\n",
       " [2] Standard Errors assume that the covariance matrix of the errors is correctly specified."
      ],
      "text/plain": [
       "<class 'statsmodels.iolib.summary.Summary'>\n",
       "\"\"\"\n",
       "                                 OLS Regression Results                                \n",
       "=======================================================================================\n",
       "Dep. Variable:                      y   R-squared (uncentered):                   0.743\n",
       "Model:                            OLS   Adj. R-squared (uncentered):              0.740\n",
       "Method:                 Least Squares   F-statistic:                              285.6\n",
       "Date:                Tue, 04 Feb 2025   Prob (F-statistic):                    6.23e-31\n",
       "Time:                        22:29:26   Log-Likelihood:                         -141.35\n",
       "No. Observations:                 100   AIC:                                      284.7\n",
       "Df Residuals:                      99   BIC:                                      287.3\n",
       "Df Model:                           1                                                  \n",
       "Covariance Type:            nonrobust                                                  \n",
       "==============================================================================\n",
       "                 coef    std err          t      P>|t|      [0.025      0.975]\n",
       "------------------------------------------------------------------------------\n",
       "x1             1.9762      0.117     16.898      0.000       1.744       2.208\n",
       "==============================================================================\n",
       "Omnibus:                        1.376   Durbin-Watson:                   2.184\n",
       "Prob(Omnibus):                  0.503   Jarque-Bera (JB):                0.847\n",
       "Skew:                           0.121   Prob(JB):                        0.655\n",
       "Kurtosis:                       3.381   Cond. No.                         1.00\n",
       "==============================================================================\n",
       "\n",
       "Notes:\n",
       "[1] R² is computed without centering (uncentered) since the model does not contain a constant.\n",
       "[2] Standard Errors assume that the covariance matrix of the errors is correctly specified.\n",
       "\"\"\""
      ]
     },
     "execution_count": 8,
     "metadata": {},
     "output_type": "execute_result"
    }
   ],
   "source": [
    "model = sm.OLS(y, x).fit()\n",
    "model.summary()"
   ]
  },
  {
   "cell_type": "markdown",
   "metadata": {},
   "source": [
    "The coefficient estimate $ \\hat\\beta = 1.9762 $, the standard error is $ 0.117\n",
    "$. The $ t $-statistic is $ 16.898 $ and the $ p $-value associated to the null\n",
    "hypothesis that $ \\beta = 0 $ is essentially zero.  We can therefore confidently\n",
    "reject the null hypothesis."
   ]
  },
  {
   "cell_type": "markdown",
   "metadata": {},
   "source": [
    "__11 (b):__ "
   ]
  },
  {
   "cell_type": "code",
   "execution_count": 5,
   "metadata": {},
   "outputs": [
    {
     "data": {
      "text/html": [
       "<table class=\"simpletable\">\n",
       "<caption>OLS Regression Results</caption>\n",
       "<tr>\n",
       "  <th>Dep. Variable:</th>            <td>y</td>        <th>  R-squared (uncentered):</th>      <td>   0.743</td>\n",
       "</tr>\n",
       "<tr>\n",
       "  <th>Model:</th>                   <td>OLS</td>       <th>  Adj. R-squared (uncentered):</th> <td>   0.740</td>\n",
       "</tr>\n",
       "<tr>\n",
       "  <th>Method:</th>             <td>Least Squares</td>  <th>  F-statistic:       </th>          <td>   285.6</td>\n",
       "</tr>\n",
       "<tr>\n",
       "  <th>Date:</th>             <td>Tue, 04 Feb 2025</td> <th>  Prob (F-statistic):</th>          <td>6.23e-31</td>\n",
       "</tr>\n",
       "<tr>\n",
       "  <th>Time:</th>                 <td>22:26:27</td>     <th>  Log-Likelihood:    </th>          <td> -58.349</td>\n",
       "</tr>\n",
       "<tr>\n",
       "  <th>No. Observations:</th>      <td>   100</td>      <th>  AIC:               </th>          <td>   118.7</td>\n",
       "</tr>\n",
       "<tr>\n",
       "  <th>Df Residuals:</th>          <td>    99</td>      <th>  BIC:               </th>          <td>   121.3</td>\n",
       "</tr>\n",
       "<tr>\n",
       "  <th>Df Model:</th>              <td>     1</td>      <th>                     </th>              <td> </td>   \n",
       "</tr>\n",
       "<tr>\n",
       "  <th>Covariance Type:</th>      <td>nonrobust</td>    <th>                     </th>              <td> </td>   \n",
       "</tr>\n",
       "</table>\n",
       "<table class=\"simpletable\">\n",
       "<tr>\n",
       "   <td></td>     <th>coef</th>     <th>std err</th>      <th>t</th>      <th>P>|t|</th>  <th>[0.025</th>    <th>0.975]</th>  \n",
       "</tr>\n",
       "<tr>\n",
       "  <th>x1</th> <td>    0.3757</td> <td>    0.022</td> <td>   16.898</td> <td> 0.000</td> <td>    0.332</td> <td>    0.420</td>\n",
       "</tr>\n",
       "</table>\n",
       "<table class=\"simpletable\">\n",
       "<tr>\n",
       "  <th>Omnibus:</th>       <td>13.156</td> <th>  Durbin-Watson:     </th> <td>   2.034</td>\n",
       "</tr>\n",
       "<tr>\n",
       "  <th>Prob(Omnibus):</th> <td> 0.001</td> <th>  Jarque-Bera (JB):  </th> <td>  22.596</td>\n",
       "</tr>\n",
       "<tr>\n",
       "  <th>Skew:</th>          <td>-0.528</td> <th>  Prob(JB):          </th> <td>1.24e-05</td>\n",
       "</tr>\n",
       "<tr>\n",
       "  <th>Kurtosis:</th>      <td> 5.075</td> <th>  Cond. No.          </th> <td>    1.00</td>\n",
       "</tr>\n",
       "</table><br/><br/>Notes:<br/>[1] R² is computed without centering (uncentered) since the model does not contain a constant.<br/>[2] Standard Errors assume that the covariance matrix of the errors is correctly specified."
      ],
      "text/latex": [
       "\\begin{center}\n",
       "\\begin{tabular}{lclc}\n",
       "\\toprule\n",
       "\\textbf{Dep. Variable:}    &        y         & \\textbf{  R-squared (uncentered):}      &     0.743   \\\\\n",
       "\\textbf{Model:}            &       OLS        & \\textbf{  Adj. R-squared (uncentered):} &     0.740   \\\\\n",
       "\\textbf{Method:}           &  Least Squares   & \\textbf{  F-statistic:       }          &     285.6   \\\\\n",
       "\\textbf{Date:}             & Tue, 04 Feb 2025 & \\textbf{  Prob (F-statistic):}          &  6.23e-31   \\\\\n",
       "\\textbf{Time:}             &     22:26:27     & \\textbf{  Log-Likelihood:    }          &   -58.349   \\\\\n",
       "\\textbf{No. Observations:} &         100      & \\textbf{  AIC:               }          &     118.7   \\\\\n",
       "\\textbf{Df Residuals:}     &          99      & \\textbf{  BIC:               }          &     121.3   \\\\\n",
       "\\textbf{Df Model:}         &           1      & \\textbf{                     }          &             \\\\\n",
       "\\textbf{Covariance Type:}  &    nonrobust     & \\textbf{                     }          &             \\\\\n",
       "\\bottomrule\n",
       "\\end{tabular}\n",
       "\\begin{tabular}{lcccccc}\n",
       "            & \\textbf{coef} & \\textbf{std err} & \\textbf{t} & \\textbf{P$> |$t$|$} & \\textbf{[0.025} & \\textbf{0.975]}  \\\\\n",
       "\\midrule\n",
       "\\textbf{x1} &       0.3757  &        0.022     &    16.898  &         0.000        &        0.332    &        0.420     \\\\\n",
       "\\bottomrule\n",
       "\\end{tabular}\n",
       "\\begin{tabular}{lclc}\n",
       "\\textbf{Omnibus:}       & 13.156 & \\textbf{  Durbin-Watson:     } &    2.034  \\\\\n",
       "\\textbf{Prob(Omnibus):} &  0.001 & \\textbf{  Jarque-Bera (JB):  } &   22.596  \\\\\n",
       "\\textbf{Skew:}          & -0.528 & \\textbf{  Prob(JB):          } & 1.24e-05  \\\\\n",
       "\\textbf{Kurtosis:}      &  5.075 & \\textbf{  Cond. No.          } &     1.00  \\\\\n",
       "\\bottomrule\n",
       "\\end{tabular}\n",
       "%\\caption{OLS Regression Results}\n",
       "\\end{center}\n",
       "\n",
       "Notes: \\newline\n",
       " [1] R² is computed without centering (uncentered) since the model does not contain a constant. \\newline\n",
       " [2] Standard Errors assume that the covariance matrix of the errors is correctly specified."
      ],
      "text/plain": [
       "<class 'statsmodels.iolib.summary.Summary'>\n",
       "\"\"\"\n",
       "                                 OLS Regression Results                                \n",
       "=======================================================================================\n",
       "Dep. Variable:                      y   R-squared (uncentered):                   0.743\n",
       "Model:                            OLS   Adj. R-squared (uncentered):              0.740\n",
       "Method:                 Least Squares   F-statistic:                              285.6\n",
       "Date:                Tue, 04 Feb 2025   Prob (F-statistic):                    6.23e-31\n",
       "Time:                        22:26:27   Log-Likelihood:                         -58.349\n",
       "No. Observations:                 100   AIC:                                      118.7\n",
       "Df Residuals:                      99   BIC:                                      121.3\n",
       "Df Model:                           1                                                  \n",
       "Covariance Type:            nonrobust                                                  \n",
       "==============================================================================\n",
       "                 coef    std err          t      P>|t|      [0.025      0.975]\n",
       "------------------------------------------------------------------------------\n",
       "x1             0.3757      0.022     16.898      0.000       0.332       0.420\n",
       "==============================================================================\n",
       "Omnibus:                       13.156   Durbin-Watson:                   2.034\n",
       "Prob(Omnibus):                  0.001   Jarque-Bera (JB):               22.596\n",
       "Skew:                          -0.528   Prob(JB):                     1.24e-05\n",
       "Kurtosis:                       5.075   Cond. No.                         1.00\n",
       "==============================================================================\n",
       "\n",
       "Notes:\n",
       "[1] R² is computed without centering (uncentered) since the model does not contain a constant.\n",
       "[2] Standard Errors assume that the covariance matrix of the errors is correctly specified.\n",
       "\"\"\""
      ]
     },
     "execution_count": 5,
     "metadata": {},
     "output_type": "execute_result"
    }
   ],
   "source": [
    "inverted_model = sm.OLS(x, y).fit()\n",
    "inverted_model.summary()"
   ]
  },
  {
   "cell_type": "markdown",
   "metadata": {},
   "source": [
    "Call this coefficient $ \\gamma $ to distinguish it from the previous one. Our\n",
    "estimate for using least squares is $ \\hat\\gamma = 0.3757 $, with standard error\n",
    "is $ 0.022 $. The $ t $-statistic is $ 16.898 $ (same as before) and the $ p\n",
    "$-value associated to the null hypothesis that $ \\gamma = 0 $ is essentially\n",
    "zero.  We can therefore confidently reject the null hypothesis.\n",
    "\n",
    "What is interesting to note is that the estimate for the slope coefficient for\n",
    "the regression of $ x $ on $ y $ is not simply the inverse of the estimate of\n",
    "the slope coefficient for the regression of $ y $ on $ x $."
   ]
  },
  {
   "cell_type": "code",
   "execution_count": 14,
   "metadata": {},
   "outputs": [
    {
     "name": "stdout",
     "output_type": "stream",
     "text": [
      "2.6617 1.9762\n"
     ]
    }
   ],
   "source": [
    "gamma = 0.3757\n",
    "beta = 1.9762\n",
    "print(f\"{1 / gamma:.4f}\", beta)"
   ]
  },
  {
   "cell_type": "markdown",
   "metadata": {},
   "source": [
    "Here's the explanation: Suppose we want to regress $ y $ on $ x $, but without the intercept term.\n",
    "Equivalently, we want to minimize\n",
    "$$\n",
    "    \\Vert \\mathbf{y} - \\beta \\mathbf{x} \\Vert^2\\,,\n",
    "$$\n",
    "were $ \\mathbf x $ and $ \\mathbf y $ are the vectors containing the data values\n",
    "for $ y $ and $ x $ respectively (in the same order). From Linear Algebra, the\n",
    "choice of $ \\beta $ that accomplishes this is the choice that makes the\n",
    "resulting difference $ \\mathbf{y} - \\beta \\mathbf{x} $ orthogonal to $ \\mathbf x $:\n",
    "$$\n",
    "    \\hat{\\beta} = \\frac{\\mathbf{x} \\cdot \\mathbf{y}}{\\mathbf{x} \\cdot \\mathbf{x}}\n",
    "                = \\frac{\\mathbf{x} \\cdot \\mathbf{y}}{\\Vert \\mathbf x \\Vert^2}\n",
    "$$\n",
    "By symmetry, for the opposite regression of $ x $ on $ y $, the\n",
    "associated coefficient $ \\gamma $ is estimated to be\n",
    "$$\n",
    "    \\hat{\\gamma} = \\frac{\\mathbf{y} \\cdot \\mathbf{x}}{\\mathbf{y} \\cdot \\mathbf{y}}\n",
    "                 = \\frac{\\mathbf{y} \\cdot \\mathbf{x}}{\\Vert \\mathbf y \\Vert^2}\n",
    "\n",
    "$$\n",
    "Finally,\n",
    "$$\n",
    "\\hat{\\beta}\\, \\hat{\\gamma} = \\frac{\\big(\\mathbf{x} \\cdot \\mathbf{y}\\big)^2}\n",
    "                                  {\\Vert \\mathbf{x} \\Vert^2 \\Vert \\mathbf{y} \\Vert^2}\n",
    "                           = \\cos^2 \\theta\\,,\n",
    "$$\n",
    "where $ \\theta \\in [0, \\pi] $ is the shortest angle between $ \\mathbf{x} $ and $ \\mathbf{y} $.\n",
    "By the Cauchy-Schwarz inequality, this is always $ \\le 1 $, with equality if and\n",
    "only if $ \\mathbf x $ and $ \\mathbf y $ are linearly dependent (one is a\n",
    "multiple of the other). As this is clearly false for our data, it is not to\n",
    "be expected that $ \\hat{\\gamma} $ be the inverse of $ \\hat{\\beta} $."
   ]
  },
  {
   "cell_type": "markdown",
   "metadata": {},
   "source": [
    "__11 (c):__  The relationship was established in the preceding item: their product\n",
    "equals the square of the cosine of the angle between $ \\mathbf x $ and $ \\mathbf\n",
    "y $. It is almost like the square of the correlation $ \\rho $ (which in turn\n",
    "equals $ R^2 $), except that $ \\mathbf x $ and $ \\mathbf y $ were not centered."
   ]
  },
  {
   "cell_type": "markdown",
   "metadata": {},
   "source": [
    "__11 (d):__ This is a straightforward calculation. We established in item (b) that\n",
    "$$\n",
    "    \\hat{\\beta} = \\frac{\\mathbf{x} \\cdot \\mathbf{y}}{\\Vert \\mathbf x \\Vert^2}\n",
    "$$\n",
    "And from the formula given in the statement,\n",
    "$$\n",
    "\\text{SE}(\\hat{\\beta}) = \\sqrt{\\frac{\\Vert\\mathbf{y} - \\hat{\\beta} \\mathbf{x}\\Vert^2}\n",
    "{(n-1) \\Vert \\mathbf{x} \\Vert^2}}\n",
    "$$\n",
    "Therefore the $ t $-statistic is\n",
    "$$\n",
    "\\frac{\\hat{\\beta}}{\\text{SE}(\\hat{\\beta})} = \\frac{\\sqrt{n-1} \\,(\\mathbf{x} \\cdot \\mathbf{y})}\n",
    "     {\\Vert\\mathbf{x}\\Vert\\,\\Vert\\mathbf{y} - \\hat{\\beta} \\mathbf{x}\\Vert}\n",
    "$$\n",
    "Now recall the formula for $ \\hat{\\beta} $ obtained in item (b), which implies that\n",
    "$$\n",
    "\\begin{aligned}\n",
    "\\Vert \\mathbf{x} \\Vert^2\\Vert\\mathbf{y} - \\hat{\\beta} \\mathbf{x}\\Vert^2 &=\n",
    "    \\Vert\\mathbf{x}\\Vert^2\\Big(\\Vert{y}\\Vert^2 +\n",
    "    \\hat{\\beta}^2\\Vert \\mathbf{x}\\Vert^2 -\n",
    "    2 \\,\\hat{\\beta}\\,\\mathbf{x} \\cdot \\mathbf{y}\\Big) \\\\\n",
    "    &= \\Vert \\mathbf{x}\\Vert^2 \\Vert \\mathbf{y}\\Vert^2 - \\mathbf{x} \\cdot \\mathbf{y}^2\\,.\n",
    "\\end{aligned}\n",
    "$$\n",
    "Substituting this into the formula for the $ t $-statistic we finally get\n",
    "$$\n",
    "\\text{$ t $-statistic} = \n",
    "\\frac{\\hat{\\beta}}{\\text{SE}(\\hat{\\beta})} = \\frac{\\sqrt{n-1} \\,(\\mathbf{x} \\cdot \\mathbf{y})}\n",
    "     {\\sqrt{\\Vert \\mathbf{x}\\Vert^2 \\Vert \\mathbf{y}\\Vert^2 - \\mathbf{x} \\cdot \\mathbf{y}^2}}\n",
    "$$"
   ]
  },
  {
   "cell_type": "markdown",
   "metadata": {},
   "source": [
    "__11 (e):__ The final expression for the $ t $-statistic in (d) is symmetric in\n",
    "$ \\mathbf{x} $ and $ \\mathbf{y} $, hence the $ t $-statistic for $ \\hat{\\gamma}\n",
    "$ is the same as that for $ \\hat{\\beta} $. This is consistent with the values\n",
    "that were obtained numerically with statsmodels in item (b)."
   ]
  },
  {
   "cell_type": "markdown",
   "metadata": {},
   "source": [
    "__11 (f):__ The only thing that changes in this situation is that we replace $\n",
    "\\mathbf{x} $ by the centered vector $ \\mathbf{x}_0 = \\mathbf{x} - \\bar{x}\\,\n",
    "\\mathbf{u} $, where $ \\mathbf{u} = (1, 1, \\cdots, 1) $ ($ n $ coordinates), and\n",
    "similarly for $ \\mathbf{y} $. The formula for the $ t $-statistic will remain\n",
    "symmetric in $ x $ and $ y $. Therefore, the $ t $-statistics for the slope\n",
    "coefficient when regressing $ y $ onto $ x $ will be the same as that for the\n",
    "regression of $ x $ onto $ y $.\n"
   ]
  },
  {
   "cell_type": "markdown",
   "metadata": {},
   "source": []
  }
 ],
 "metadata": {
  "kernelspec": {
   "display_name": "islp",
   "language": "python",
   "name": "python3"
  },
  "language_info": {
   "codemirror_mode": {
    "name": "ipython",
    "version": 3
   },
   "file_extension": ".py",
   "mimetype": "text/x-python",
   "name": "python",
   "nbconvert_exporter": "python",
   "pygments_lexer": "ipython3",
   "version": "3.12.4"
  }
 },
 "nbformat": 4,
 "nbformat_minor": 2
}
