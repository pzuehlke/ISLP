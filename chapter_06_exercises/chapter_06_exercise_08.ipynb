{
 "cells": [
  {
   "cell_type": "markdown",
   "metadata": {},
   "source": [
    "# ISLP - Chapter 6 - Exercise 8\n",
    "### Author: pzuehlke"
   ]
  },
  {
   "cell_type": "code",
   "execution_count": 6,
   "metadata": {},
   "outputs": [],
   "source": [
    "import pandas as pd\n",
    "import numpy as np\n",
    "import matplotlib.pyplot as plt\n",
    "import statsmodels.api as sm\n",
    "from sklearn.linear_model import LassoCV, LinearRegression\n",
    "from sklearn.preprocessing import PolynomialFeatures\n",
    "from sklearn.metrics import mean_squared_error"
   ]
  },
  {
   "cell_type": "markdown",
   "metadata": {},
   "source": [
    "__8 (a):__"
   ]
  },
  {
   "cell_type": "code",
   "execution_count": 5,
   "metadata": {},
   "outputs": [],
   "source": [
    "rng = np.random.default_rng(1)\n",
    "n = 100\n",
    "X = rng.normal(0, 1, size=n)\n",
    "eps = rng.normal(0, 1, size=n)"
   ]
  },
  {
   "cell_type": "markdown",
   "metadata": {},
   "source": [
    "__8 (b):__ Let's choose \n",
    "$$\n",
    "\\beta_0 = 2 ,\\quad  \\beta_1 = 3 ,\\quad  \\beta_2 = 5 ,\\quad  \\beta_3 = 7 .\n",
    "$$"
   ]
  },
  {
   "cell_type": "code",
   "execution_count": 3,
   "metadata": {},
   "outputs": [],
   "source": [
    "beta_0 = 2\n",
    "beta_1 = 3\n",
    "beta_2 = 5\n",
    "beta_3 = 7\n",
    "Y = beta_0 + beta_1 * X + beta_2 * X**2 + beta_3 * X**3 + eps"
   ]
  },
  {
   "cell_type": "code",
   "execution_count": 8,
   "metadata": {},
   "outputs": [
    {
     "name": "stdout",
     "output_type": "stream",
     "text": [
      "['1' 'X' 'X^2' 'X^3' 'X^4' 'X^5' 'X^6' 'X^7' 'X^8' 'X^9' 'X^10']\n"
     ]
    }
   ],
   "source": [
    "poly = PolynomialFeatures(degree=10)\n",
    "X_poly = poly.fit_transform(X.reshape(-1, 1))\n",
    "feature_names = poly.get_feature_names_out(['X'])\n",
    "print(feature_names)"
   ]
  },
  {
   "cell_type": "code",
   "execution_count": null,
   "metadata": {},
   "outputs": [],
   "source": []
  }
 ],
 "metadata": {
  "kernelspec": {
   "display_name": "islp",
   "language": "python",
   "name": "python3"
  },
  "language_info": {
   "codemirror_mode": {
    "name": "ipython",
    "version": 3
   },
   "file_extension": ".py",
   "mimetype": "text/x-python",
   "name": "python",
   "nbconvert_exporter": "python",
   "pygments_lexer": "ipython3",
   "version": "3.12.4"
  }
 },
 "nbformat": 4,
 "nbformat_minor": 2
}
