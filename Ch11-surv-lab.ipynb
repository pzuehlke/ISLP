{
 "cells": [
  {
   "cell_type": "markdown",
   "id": "13a32f39",
   "metadata": {},
   "source": [
    "# Survival Analysis\n",
    "\n",
    "<a target=\"_blank\" href=\"https://colab.research.google.com/github/intro-stat-learning/ISLP_labs/blob/v2.2/Ch11-surv-lab.ipynb\">\n",
    "<img src=\"https://colab.research.google.com/assets/colab-badge.svg\" alt=\"Open In Colab\"/>\n",
    "</a>\n",
    "\n",
    "[![Binder](https://mybinder.org/badge_logo.svg)](https://mybinder.org/v2/gh/intro-stat-learning/ISLP_labs/v2.2?labpath=Ch11-surv-lab.ipynb)"
   ]
  },
  {
   "cell_type": "markdown",
   "id": "ca5893e0",
   "metadata": {},
   "source": [
    " In this lab, we perform survival analyses on three separate data\n",
    "sets. In  Section~\\ref{brain.cancer.sec} we analyze the  `BrainCancer` \n",
    "data  that was first described in Section~\\ref{sec:KM}. In Section~\\ref{time.to.pub.sec}, we examine the  `Publication` \n",
    "data  from Section~\\ref{sec:pub}. Finally,  Section~\\ref{call.center.sec}  explores\n",
    "a simulated call-center data set.\n",
    "\n",
    "We begin by importing some of our libraries at this top\n",
    "level. This makes the code more readable, as scanning the first few\n",
    "lines of the notebook tell us what libraries are used in this\n",
    "notebook."
   ]
  },
  {
   "cell_type": "code",
   "execution_count": null,
   "id": "80c238e6",
   "metadata": {
    "execution": {
     "iopub.execute_input": "2024-06-04T23:19:54.685557Z",
     "iopub.status.busy": "2024-06-04T23:19:54.685198Z",
     "iopub.status.idle": "2024-06-04T23:19:55.549394Z",
     "shell.execute_reply": "2024-06-04T23:19:55.549100Z"
    }
   },
   "outputs": [],
   "source": [
    "from matplotlib.pyplot import subplots\n",
    "import numpy as np\n",
    "import pandas as pd\n",
    "from ISLP.models import ModelSpec as MS\n",
    "from ISLP import load_data"
   ]
  },
  {
   "cell_type": "markdown",
   "id": "67b40107",
   "metadata": {},
   "source": [
    "We  also collect the new imports\n",
    "needed for this lab."
   ]
  },
  {
   "cell_type": "code",
   "execution_count": null,
   "id": "a236fb17",
   "metadata": {
    "execution": {
     "iopub.execute_input": "2024-06-04T23:19:55.551082Z",
     "iopub.status.busy": "2024-06-04T23:19:55.550950Z",
     "iopub.status.idle": "2024-06-04T23:19:55.640426Z",
     "shell.execute_reply": "2024-06-04T23:19:55.640185Z"
    }
   },
   "outputs": [],
   "source": [
    "from lifelines import \\\n",
    "     (KaplanMeierFitter,\n",
    "      CoxPHFitter)\n",
    "from lifelines.statistics import \\\n",
    "     (logrank_test,\n",
    "      multivariate_logrank_test)\n",
    "from ISLP.survival import sim_time"
   ]
  },
  {
   "cell_type": "markdown",
   "id": "b607d160",
   "metadata": {},
   "source": [
    "## Brain Cancer Data\n",
    "\n",
    "We begin with the `BrainCancer` data set, contained in the `ISLP` package."
   ]
  },
  {
   "cell_type": "code",
   "execution_count": null,
   "id": "4dd4ddba",
   "metadata": {
    "execution": {
     "iopub.execute_input": "2024-06-04T23:19:55.642112Z",
     "iopub.status.busy": "2024-06-04T23:19:55.642009Z",
     "iopub.status.idle": "2024-06-04T23:19:55.647994Z",
     "shell.execute_reply": "2024-06-04T23:19:55.647761Z"
    }
   },
   "outputs": [],
   "source": [
    "BrainCancer = load_data('BrainCancer')\n",
    "BrainCancer.columns"
   ]
  },
  {
   "cell_type": "markdown",
   "id": "c02be52d",
   "metadata": {},
   "source": [
    "The rows index the 88 patients, while the 8 columns contain the predictors and outcome variables.\n",
    "We first briefly examine the data."
   ]
  },
  {
   "cell_type": "code",
   "execution_count": null,
   "id": "ae9435b1",
   "metadata": {
    "execution": {
     "iopub.execute_input": "2024-06-04T23:19:55.649419Z",
     "iopub.status.busy": "2024-06-04T23:19:55.649331Z",
     "iopub.status.idle": "2024-06-04T23:19:55.651992Z",
     "shell.execute_reply": "2024-06-04T23:19:55.651800Z"
    }
   },
   "outputs": [],
   "source": [
    "BrainCancer['sex'].value_counts()"
   ]
  },
  {
   "cell_type": "code",
   "execution_count": null,
   "id": "a6e94032",
   "metadata": {
    "execution": {
     "iopub.execute_input": "2024-06-04T23:19:55.653141Z",
     "iopub.status.busy": "2024-06-04T23:19:55.653065Z",
     "iopub.status.idle": "2024-06-04T23:19:55.655301Z",
     "shell.execute_reply": "2024-06-04T23:19:55.655136Z"
    }
   },
   "outputs": [],
   "source": [
    "BrainCancer['diagnosis'].value_counts()"
   ]
  },
  {
   "cell_type": "code",
   "execution_count": null,
   "id": "afa05da1",
   "metadata": {
    "execution": {
     "iopub.execute_input": "2024-06-04T23:19:55.656326Z",
     "iopub.status.busy": "2024-06-04T23:19:55.656246Z",
     "iopub.status.idle": "2024-06-04T23:19:55.658308Z",
     "shell.execute_reply": "2024-06-04T23:19:55.658119Z"
    }
   },
   "outputs": [],
   "source": [
    "BrainCancer['status'].value_counts()"
   ]
  },
  {
   "cell_type": "markdown",
   "id": "a7129324",
   "metadata": {},
   "source": [
    "Before beginning an analysis, it is important to know how the\n",
    "`status` variable has been coded.  Most software\n",
    "uses the convention that a `status` of 1 indicates an\n",
    "uncensored observation (often death), and a `status` of 0 indicates a censored\n",
    "observation. But some scientists might use the opposite coding. For\n",
    "the  `BrainCancer`  data set 35 patients died before the end of\n",
    "the study, so we are using the conventional coding.\n",
    "\n",
    "To begin the analysis, we re-create  the Kaplan-Meier survival curve shown in Figure~\\ref{fig:survbrain}. The main\n",
    "package we will use for survival analysis\n",
    "is `lifelines`.\n",
    "The variable  `time`  corresponds to $y_i$, the time to the $i$th event (either censoring or\n",
    "death). The first argument to `km.fit` is the event time, and the\n",
    "second argument is the censoring variable, with a 1 indicating an observed\n",
    "failure time. The `plot()` method produces a survival curve with pointwise confidence\n",
    "intervals. By default, these are  90% confidence intervals, but this can be changed\n",
    "by setting the `alpha` argument to one minus the desired\n",
    "confidence level."
   ]
  },
  {
   "cell_type": "code",
   "execution_count": null,
   "id": "34c7c534",
   "metadata": {
    "execution": {
     "iopub.execute_input": "2024-06-04T23:19:55.659492Z",
     "iopub.status.busy": "2024-06-04T23:19:55.659420Z",
     "iopub.status.idle": "2024-06-04T23:19:55.846265Z",
     "shell.execute_reply": "2024-06-04T23:19:55.845461Z"
    }
   },
   "outputs": [],
   "source": [
    "fig, ax = subplots(figsize=(8,8))\n",
    "km = KaplanMeierFitter()\n",
    "km_brain = km.fit(BrainCancer['time'], BrainCancer['status'])\n",
    "km_brain.plot(label='Kaplan Meier estimate', ax=ax)"
   ]
  },
  {
   "cell_type": "markdown",
   "id": "118e57ab",
   "metadata": {},
   "source": [
    "Next we create Kaplan-Meier survival curves that are stratified by\n",
    "`sex`, in order to reproduce  Figure~\\ref{fig:survbrain2}.\n",
    "We  do this using the `groupby()` method of  a  dataframe.\n",
    "This  method returns a generator that can\n",
    "be  iterated over in the `for` loop. In this case,\n",
    "the  items  in the `for` loop are  2-tuples  representing\n",
    "the groups: the first entry is the  value\n",
    "of the grouping column  `sex` while the  second  value\n",
    "is the dataframe consisting of all  rows in the\n",
    "dataframe matching that value of `sex`.\n",
    "We will want to use this data below\n",
    "in the log-rank test,  hence we store this\n",
    "information in the dictionary `by_sex`. Finally,\n",
    "we have also used the notion of\n",
    " *string interpolation* to automatically\n",
    "label the  different lines in the  plot. String\n",
    "interpolation is a powerful technique to format strings ---\n",
    "`Python` has many ways to facilitate such operations."
   ]
  },
  {
   "cell_type": "code",
   "execution_count": null,
   "id": "5e742ebe",
   "metadata": {
    "execution": {
     "iopub.execute_input": "2024-06-04T23:19:55.849368Z",
     "iopub.status.busy": "2024-06-04T23:19:55.849075Z",
     "iopub.status.idle": "2024-06-04T23:19:55.960684Z",
     "shell.execute_reply": "2024-06-04T23:19:55.960431Z"
    }
   },
   "outputs": [],
   "source": [
    "fig, ax = subplots(figsize=(8,8))\n",
    "by_sex = {}\n",
    "for sex, df in BrainCancer.groupby('sex'):\n",
    "    by_sex[sex] = df\n",
    "    km_sex = km.fit(df['time'], df['status'])\n",
    "    km_sex.plot(label='Sex=%s' % sex, ax=ax)"
   ]
  },
  {
   "cell_type": "markdown",
   "id": "2d1575e8",
   "metadata": {},
   "source": [
    "As discussed in Section~\\ref{sec:logrank}, we can perform a\n",
    "log-rank test to compare the survival of males to females. We use\n",
    "the `logrank_test()` function from the `lifelines.statistics` module.\n",
    "The first two arguments are the event times, with the second\n",
    "denoting the corresponding (optional) censoring indicators."
   ]
  },
  {
   "cell_type": "code",
   "execution_count": null,
   "id": "4106e397",
   "metadata": {
    "execution": {
     "iopub.execute_input": "2024-06-04T23:19:55.962264Z",
     "iopub.status.busy": "2024-06-04T23:19:55.962134Z",
     "iopub.status.idle": "2024-06-04T23:19:56.004551Z",
     "shell.execute_reply": "2024-06-04T23:19:56.004317Z"
    }
   },
   "outputs": [],
   "source": [
    "logrank_test(by_sex['Male']['time'],\n",
    "             by_sex['Female']['time'],\n",
    "             by_sex['Male']['status'],\n",
    "             by_sex['Female']['status'])"
   ]
  },
  {
   "cell_type": "markdown",
   "id": "ba727cb6",
   "metadata": {},
   "source": [
    "The resulting $p$-value is $0.23$, indicating no evidence of a\n",
    "difference in survival between the two sexes.\n",
    "\n",
    "Next, we  use the `CoxPHFitter()`  estimator\n",
    "from `lifelines` to fit Cox proportional hazards models.\n",
    "To begin, we consider a model that uses  `sex`  as the only predictor."
   ]
  },
  {
   "cell_type": "code",
   "execution_count": null,
   "id": "8962942d",
   "metadata": {
    "execution": {
     "iopub.execute_input": "2024-06-04T23:19:56.005821Z",
     "iopub.status.busy": "2024-06-04T23:19:56.005710Z",
     "iopub.status.idle": "2024-06-04T23:19:56.022741Z",
     "shell.execute_reply": "2024-06-04T23:19:56.022512Z"
    }
   },
   "outputs": [],
   "source": [
    "coxph = CoxPHFitter # shorthand\n",
    "sex_df = BrainCancer[['time', 'status', 'sex']]\n",
    "model_df = MS(['time', 'status', 'sex'],\n",
    "              intercept=False).fit_transform(sex_df)\n",
    "cox_fit = coxph().fit(model_df,\n",
    "                      'time',\n",
    "                      'status')\n",
    "cox_fit.summary[['coef', 'se(coef)', 'p']]"
   ]
  },
  {
   "cell_type": "markdown",
   "id": "cc490686",
   "metadata": {},
   "source": [
    "The first argument to `fit` should be a data frame containing\n",
    "at least the event time (the second argument `time` in this case),\n",
    "as well as an optional censoring variable (the argument `status` in this case).\n",
    "Note also that the Cox model does not include an intercept, which is why\n",
    "we used the `intercept=False` argument to `ModelSpec` above.\n",
    "The `summary()` method delivers many columns; we chose to abbreviate its output here.\n",
    "It is possible to obtain the likelihood ratio test comparing this model to the one\n",
    "with no features as follows:"
   ]
  },
  {
   "cell_type": "code",
   "execution_count": null,
   "id": "d923fe3d",
   "metadata": {
    "execution": {
     "iopub.execute_input": "2024-06-04T23:19:56.024051Z",
     "iopub.status.busy": "2024-06-04T23:19:56.023976Z",
     "iopub.status.idle": "2024-06-04T23:19:56.028225Z",
     "shell.execute_reply": "2024-06-04T23:19:56.027998Z"
    }
   },
   "outputs": [],
   "source": [
    "cox_fit.log_likelihood_ratio_test()"
   ]
  },
  {
   "cell_type": "markdown",
   "id": "154d9df8",
   "metadata": {},
   "source": [
    "Regardless of which test we use, we see that there is no clear\n",
    "evidence for a difference in survival between males and females.  As\n",
    "we learned in this chapter, the score test from the Cox model is\n",
    "exactly equal to the log rank test statistic!\n",
    "\n",
    "Now we fit a  model that makes use of additional predictors. We first note\n",
    "that one of our `diagnosis` values is missing, hence\n",
    "we drop that observation before continuing."
   ]
  },
  {
   "cell_type": "code",
   "execution_count": null,
   "id": "43b23849",
   "metadata": {
    "execution": {
     "iopub.execute_input": "2024-06-04T23:19:56.029525Z",
     "iopub.status.busy": "2024-06-04T23:19:56.029451Z",
     "iopub.status.idle": "2024-06-04T23:19:56.055622Z",
     "shell.execute_reply": "2024-06-04T23:19:56.055386Z"
    }
   },
   "outputs": [],
   "source": [
    "cleaned = BrainCancer.dropna()\n",
    "all_MS = MS(cleaned.columns, intercept=False)\n",
    "all_df = all_MS.fit_transform(cleaned)\n",
    "fit_all = coxph().fit(all_df,\n",
    "                      'time',\n",
    "                      'status')\n",
    "fit_all.summary[['coef', 'se(coef)', 'p']]"
   ]
  },
  {
   "cell_type": "markdown",
   "id": "e8914f60",
   "metadata": {},
   "source": [
    " The `diagnosis` variable has been coded so that the baseline\n",
    "corresponds to HG glioma. The results indicate that the risk associated with HG glioma\n",
    "is more than eight times (i.e. $e^{2.15}=8.62$) the risk associated\n",
    "with meningioma. In other words, after adjusting for the other\n",
    "predictors, patients with HG glioma have much worse survival compared\n",
    "to those with meningioma.  In addition, larger values of the Karnofsky\n",
    "index, `ki`, are associated with lower risk, i.e. longer survival.\n",
    "\n",
    "Finally, we plot estimated survival curves for each diagnosis category,\n",
    "adjusting for the other predictors.  To make these plots, we set the\n",
    "values of the other predictors equal to the mean for quantitative variables\n",
    "and equal to the mode for categorical. To do this, we use the\n",
    "`apply()` method across rows (i.e. `axis=0`) with a function\n",
    "`representative` that checks if a column is categorical\n",
    "or not."
   ]
  },
  {
   "cell_type": "code",
   "execution_count": null,
   "id": "20f95f4d",
   "metadata": {
    "execution": {
     "iopub.execute_input": "2024-06-04T23:19:56.056935Z",
     "iopub.status.busy": "2024-06-04T23:19:56.056860Z",
     "iopub.status.idle": "2024-06-04T23:19:56.059439Z",
     "shell.execute_reply": "2024-06-04T23:19:56.059190Z"
    }
   },
   "outputs": [],
   "source": [
    "levels = cleaned['diagnosis'].unique()\n",
    "def representative(series):\n",
    "    if hasattr(series.dtype, 'categories'):\n",
    "        return pd.Series.mode(series)\n",
    "    else:\n",
    "        return series.mean()\n",
    "modal_data = cleaned.apply(representative, axis=0)"
   ]
  },
  {
   "cell_type": "markdown",
   "id": "c35898c9",
   "metadata": {},
   "source": [
    "We make four\n",
    "copies of the column means and assign the `diagnosis` column to be the four different\n",
    "diagnoses."
   ]
  },
  {
   "cell_type": "code",
   "execution_count": null,
   "id": "18ef52a9",
   "metadata": {
    "execution": {
     "iopub.execute_input": "2024-06-04T23:19:56.060778Z",
     "iopub.status.busy": "2024-06-04T23:19:56.060701Z",
     "iopub.status.idle": "2024-06-04T23:19:56.065090Z",
     "shell.execute_reply": "2024-06-04T23:19:56.064856Z"
    }
   },
   "outputs": [],
   "source": [
    "modal_df = pd.DataFrame(\n",
    "              [modal_data.iloc[0] for _ in range(len(levels))])\n",
    "modal_df['diagnosis'] = levels\n",
    "modal_df"
   ]
  },
  {
   "cell_type": "markdown",
   "id": "3b940735",
   "metadata": {},
   "source": [
    "We then construct the model matrix based on the model specification `all_MS` used to fit\n",
    "the model, and name the rows according to the levels of `diagnosis`."
   ]
  },
  {
   "cell_type": "code",
   "execution_count": null,
   "id": "dc826bbc",
   "metadata": {
    "execution": {
     "iopub.execute_input": "2024-06-04T23:19:56.066333Z",
     "iopub.status.busy": "2024-06-04T23:19:56.066235Z",
     "iopub.status.idle": "2024-06-04T23:19:56.073007Z",
     "shell.execute_reply": "2024-06-04T23:19:56.072802Z"
    }
   },
   "outputs": [],
   "source": [
    "modal_X = all_MS.transform(modal_df)\n",
    "modal_X.index = levels\n",
    "modal_X"
   ]
  },
  {
   "cell_type": "markdown",
   "id": "b38205e5",
   "metadata": {},
   "source": [
    "We can use the `predict_survival_function()` method to obtain the estimated survival function."
   ]
  },
  {
   "cell_type": "code",
   "execution_count": null,
   "id": "867045f7",
   "metadata": {
    "execution": {
     "iopub.execute_input": "2024-06-04T23:19:56.074287Z",
     "iopub.status.busy": "2024-06-04T23:19:56.074217Z",
     "iopub.status.idle": "2024-06-04T23:19:56.079015Z",
     "shell.execute_reply": "2024-06-04T23:19:56.078796Z"
    }
   },
   "outputs": [],
   "source": [
    "predicted_survival = fit_all.predict_survival_function(modal_X)\n",
    "predicted_survival"
   ]
  },
  {
   "cell_type": "markdown",
   "id": "5696e707",
   "metadata": {},
   "source": [
    "This returns a data frame,\n",
    "whose plot methods yields the different survival curves. To avoid clutter in\n",
    "the plots, we do not display confidence intervals."
   ]
  },
  {
   "cell_type": "code",
   "execution_count": null,
   "id": "9fa60bac",
   "metadata": {
    "execution": {
     "iopub.execute_input": "2024-06-04T23:19:56.080399Z",
     "iopub.status.busy": "2024-06-04T23:19:56.080330Z",
     "iopub.status.idle": "2024-06-04T23:19:56.151344Z",
     "shell.execute_reply": "2024-06-04T23:19:56.151104Z"
    }
   },
   "outputs": [],
   "source": [
    "fig, ax = subplots(figsize=(8, 8))\n",
    "predicted_survival.plot(ax=ax);"
   ]
  },
  {
   "cell_type": "markdown",
   "id": "87e8e78f",
   "metadata": {},
   "source": [
    "## Publication Data\n",
    "The  `Publication`  data   presented in Section~\\ref{sec:pub}  can be\n",
    "found in the `ISLP` package.\n",
    "We first reproduce Figure~\\ref{fig:lauersurv}  by plotting the Kaplan-Meier curves\n",
    "stratified on the  `posres`  variable, which records whether the\n",
    "study had a positive or negative result."
   ]
  },
  {
   "cell_type": "code",
   "execution_count": null,
   "id": "f8c1a98e",
   "metadata": {
    "execution": {
     "iopub.execute_input": "2024-06-04T23:19:56.152821Z",
     "iopub.status.busy": "2024-06-04T23:19:56.152701Z",
     "iopub.status.idle": "2024-06-04T23:19:56.230052Z",
     "shell.execute_reply": "2024-06-04T23:19:56.229811Z"
    }
   },
   "outputs": [],
   "source": [
    "fig, ax = subplots(figsize=(8,8))\n",
    "Publication = load_data('Publication')\n",
    "by_result = {}\n",
    "for result, df in Publication.groupby('posres'):\n",
    "    by_result[result] = df\n",
    "    km_result = km.fit(df['time'], df['status'])\n",
    "    km_result.plot(label='Result=%d' % result, ax=ax)"
   ]
  },
  {
   "cell_type": "markdown",
   "id": "21bca65e",
   "metadata": {},
   "source": [
    "As discussed previously, the $p$-values from fitting Cox’s\n",
    "proportional hazards model to the `posres` variable are quite\n",
    "large, providing no evidence of a difference in time-to-publication\n",
    "between studies with positive versus negative results."
   ]
  },
  {
   "cell_type": "code",
   "execution_count": null,
   "id": "cd1ed9ac",
   "metadata": {
    "execution": {
     "iopub.execute_input": "2024-06-04T23:19:56.231448Z",
     "iopub.status.busy": "2024-06-04T23:19:56.231371Z",
     "iopub.status.idle": "2024-06-04T23:19:56.253732Z",
     "shell.execute_reply": "2024-06-04T23:19:56.253504Z"
    }
   },
   "outputs": [],
   "source": [
    "posres_df = MS(['posres',\n",
    "                'time',\n",
    "                'status'],\n",
    "                intercept=False).fit_transform(Publication)\n",
    "posres_fit = coxph().fit(posres_df,\n",
    "                         'time',\n",
    "                         'status')\n",
    "posres_fit.summary[['coef', 'se(coef)', 'p']]"
   ]
  },
  {
   "cell_type": "markdown",
   "id": "a4f00766",
   "metadata": {},
   "source": [
    "However, the results change dramatically when we include other\n",
    "predictors in the model. Here we exclude the funding mechanism\n",
    "variable."
   ]
  },
  {
   "cell_type": "code",
   "execution_count": null,
   "id": "d53335b0",
   "metadata": {
    "execution": {
     "iopub.execute_input": "2024-06-04T23:19:56.255073Z",
     "iopub.status.busy": "2024-06-04T23:19:56.255003Z",
     "iopub.status.idle": "2024-06-04T23:19:56.284350Z",
     "shell.execute_reply": "2024-06-04T23:19:56.284045Z"
    }
   },
   "outputs": [],
   "source": [
    "model = MS(Publication.columns.drop('mech'),\n",
    "           intercept=False)\n",
    "coxph().fit(model.fit_transform(Publication),\n",
    "            'time',\n",
    "            'status').summary[['coef', 'se(coef)', 'p']]"
   ]
  },
  {
   "cell_type": "markdown",
   "id": "c1b2efa5",
   "metadata": {},
   "source": [
    "We see that there are a number of statistically significant variables,\n",
    "including whether the trial focused on a clinical endpoint, the impact\n",
    "of the study, and whether the study had positive or negative results."
   ]
  },
  {
   "cell_type": "markdown",
   "id": "838d91d3",
   "metadata": {},
   "source": [
    "## Call Center Data\n",
    "\n",
    "In this section, we will simulate survival data using the relationship\n",
    "between cumulative hazard and\n",
    "the survival function explored in Exercise \\ref{ex:all3}.\n",
    "Our simulated data will represent the observed\n",
    "wait times (in seconds) for 2,000 customers who have phoned a call\n",
    "center.  In this context, censoring occurs if a customer hangs up\n",
    "before his or her call is answered.\n",
    "\n",
    "There are three covariates: `Operators` (the number of call\n",
    "center operators available at the time of the call, which can range\n",
    "from $5$ to $15$), `Center` (either A, B, or C), and\n",
    "`Time` of day (Morning, Afternoon, or Evening). We generate data\n",
    "for these covariates so that all possibilities are equally likely: for\n",
    "instance, morning, afternoon and evening calls are equally likely, and\n",
    "any number of operators from $5$ to $15$ is equally likely."
   ]
  },
  {
   "cell_type": "code",
   "execution_count": null,
   "id": "582c992b",
   "metadata": {
    "execution": {
     "iopub.execute_input": "2024-06-04T23:19:56.285647Z",
     "iopub.status.busy": "2024-06-04T23:19:56.285576Z",
     "iopub.status.idle": "2024-06-04T23:19:56.288228Z",
     "shell.execute_reply": "2024-06-04T23:19:56.287999Z"
    }
   },
   "outputs": [],
   "source": [
    "rng = np.random.default_rng(10)\n",
    "N = 2000\n",
    "Operators = rng.choice(np.arange(5, 16),\n",
    "                       N,\n",
    "                       replace=True)\n",
    "Center = rng.choice(['A', 'B', 'C'],\n",
    "                    N,\n",
    "                    replace=True)\n",
    "Time = rng.choice(['Morn.', 'After.', 'Even.'],\n",
    "                   N,\n",
    "                   replace=True)\n",
    "D = pd.DataFrame({'Operators': Operators,\n",
    "                  'Center': pd.Categorical(Center),\n",
    "                  'Time': pd.Categorical(Time)})"
   ]
  },
  {
   "cell_type": "markdown",
   "id": "9b823f59",
   "metadata": {},
   "source": [
    "We then build a model matrix (omitting the intercept)"
   ]
  },
  {
   "cell_type": "code",
   "execution_count": null,
   "id": "f3367dad",
   "metadata": {
    "execution": {
     "iopub.execute_input": "2024-06-04T23:19:56.289419Z",
     "iopub.status.busy": "2024-06-04T23:19:56.289350Z",
     "iopub.status.idle": "2024-06-04T23:19:56.295467Z",
     "shell.execute_reply": "2024-06-04T23:19:56.295239Z"
    }
   },
   "outputs": [],
   "source": [
    "model = MS(['Operators',\n",
    "            'Center',\n",
    "            'Time'],\n",
    "           intercept=False)\n",
    "X = model.fit_transform(D)"
   ]
  },
  {
   "cell_type": "markdown",
   "id": "229c9b6b",
   "metadata": {},
   "source": [
    "It is worthwhile to take a peek at the model matrix `X`, so\n",
    "that we can be sure that we understand how the variables have been coded. By default,\n",
    "the levels of categorical variables are sorted and, as usual, the first column of the one-hot encoding\n",
    "of the variable is dropped."
   ]
  },
  {
   "cell_type": "code",
   "execution_count": null,
   "id": "fdfd2789",
   "metadata": {
    "execution": {
     "iopub.execute_input": "2024-06-04T23:19:56.296977Z",
     "iopub.status.busy": "2024-06-04T23:19:56.296905Z",
     "iopub.status.idle": "2024-06-04T23:19:56.300297Z",
     "shell.execute_reply": "2024-06-04T23:19:56.300080Z"
    }
   },
   "outputs": [],
   "source": [
    "X[:5]"
   ]
  },
  {
   "cell_type": "markdown",
   "id": "1b1edac0",
   "metadata": {},
   "source": [
    "Next,  we specify the coefficients and the hazard function."
   ]
  },
  {
   "cell_type": "code",
   "execution_count": null,
   "id": "1a9b68c8",
   "metadata": {
    "execution": {
     "iopub.execute_input": "2024-06-04T23:19:56.301604Z",
     "iopub.status.busy": "2024-06-04T23:19:56.301530Z",
     "iopub.status.idle": "2024-06-04T23:19:56.305801Z",
     "shell.execute_reply": "2024-06-04T23:19:56.305262Z"
    }
   },
   "outputs": [],
   "source": [
    "true_beta = np.array([0.04, -0.3, 0, 0.2, -0.2])\n",
    "true_linpred = X.dot(true_beta)\n",
    "hazard = lambda t: 1e-5 * t"
   ]
  },
  {
   "cell_type": "markdown",
   "id": "e481dba7",
   "metadata": {},
   "source": [
    "Here, we have set the coefficient associated with `Operators` to\n",
    "equal $0.04$; in other words, each additional operator leads to a\n",
    "$e^{0.04}=1.041$-fold increase in the “risk” that the call will be\n",
    "answered, given the `Center` and `Time` covariates. This\n",
    "makes sense: the greater the number of operators at hand, the shorter\n",
    "the wait time! The coefficient associated with `Center == B` is\n",
    "$-0.3$, and `Center == A` is treated as the baseline. This means\n",
    "that the risk of a call being answered at Center B is 0.74 times the\n",
    "risk that it will be answered at Center A; in other words, the wait\n",
    "times are a bit longer at Center B.\n",
    "\n",
    "Recall from Section~\\ref{Ch2-statlearn-lab:loading-data} the use of `lambda`\n",
    "for creating short functions on the fly.\n",
    "We use the function\n",
    "`sim_time()` from the `ISLP.survival` package. This function\n",
    "uses the relationship between the survival function\n",
    "and cumulative hazard $S(t) = \\exp(-H(t))$ and the specific\n",
    "form of the cumulative hazard function in the Cox model\n",
    "to simulate data based on values of the linear predictor\n",
    "`true_linpred` and the cumulative hazard. \n",
    " We need to provide the cumulative hazard function, which we do here."
   ]
  },
  {
   "cell_type": "code",
   "execution_count": null,
   "id": "d2118fdd",
   "metadata": {
    "execution": {
     "iopub.execute_input": "2024-06-04T23:19:56.310515Z",
     "iopub.status.busy": "2024-06-04T23:19:56.310277Z",
     "iopub.status.idle": "2024-06-04T23:19:56.313678Z",
     "shell.execute_reply": "2024-06-04T23:19:56.312612Z"
    }
   },
   "outputs": [],
   "source": [
    "cum_hazard = lambda t: 1e-5 * t**2 / 2"
   ]
  },
  {
   "cell_type": "markdown",
   "id": "dc9ceb02",
   "metadata": {},
   "source": [
    "We are now ready to generate data under the Cox proportional hazards\n",
    "model. We truncate the maximum time to 1000 seconds to keep\n",
    "simulated wait times reasonable. The function\n",
    "`sim_time()` takes a linear predictor,\n",
    "a cumulative hazard function and a\n",
    "random number generator."
   ]
  },
  {
   "cell_type": "code",
   "execution_count": null,
   "id": "68304ba6",
   "metadata": {
    "execution": {
     "iopub.execute_input": "2024-06-04T23:19:56.316852Z",
     "iopub.status.busy": "2024-06-04T23:19:56.316648Z",
     "iopub.status.idle": "2024-06-04T23:19:56.419919Z",
     "shell.execute_reply": "2024-06-04T23:19:56.419384Z"
    }
   },
   "outputs": [],
   "source": [
    "W = np.array([sim_time(l, cum_hazard, rng)\n",
    "              for l in true_linpred])\n",
    "D['Wait time'] = np.clip(W, 0, 1000)"
   ]
  },
  {
   "cell_type": "markdown",
   "id": "876110e5",
   "metadata": {},
   "source": [
    "We now simulate our censoring variable, for which we assume\n",
    "90% of calls were answered (`Failed==1`) before the\n",
    "customer hung up (`Failed==0`)."
   ]
  },
  {
   "cell_type": "code",
   "execution_count": null,
   "id": "becf4cd2",
   "metadata": {
    "execution": {
     "iopub.execute_input": "2024-06-04T23:19:56.423676Z",
     "iopub.status.busy": "2024-06-04T23:19:56.423359Z",
     "iopub.status.idle": "2024-06-04T23:19:56.434279Z",
     "shell.execute_reply": "2024-06-04T23:19:56.433259Z"
    }
   },
   "outputs": [],
   "source": [
    "D['Failed'] = rng.choice([1, 0],\n",
    "                         N,\n",
    "                         p=[0.9, 0.1])\n",
    "D[:5]"
   ]
  },
  {
   "cell_type": "code",
   "execution_count": null,
   "id": "e480331c",
   "metadata": {
    "execution": {
     "iopub.execute_input": "2024-06-04T23:19:56.437399Z",
     "iopub.status.busy": "2024-06-04T23:19:56.437090Z",
     "iopub.status.idle": "2024-06-04T23:19:56.442236Z",
     "shell.execute_reply": "2024-06-04T23:19:56.441064Z"
    }
   },
   "outputs": [],
   "source": [
    "D['Failed'].mean()"
   ]
  },
  {
   "cell_type": "markdown",
   "id": "79caaaf0",
   "metadata": {},
   "source": [
    "We now plot  Kaplan-Meier survival curves. First, we stratify by `Center`."
   ]
  },
  {
   "cell_type": "code",
   "execution_count": null,
   "id": "a194c96e",
   "metadata": {
    "execution": {
     "iopub.execute_input": "2024-06-04T23:19:56.445459Z",
     "iopub.status.busy": "2024-06-04T23:19:56.445197Z",
     "iopub.status.idle": "2024-06-04T23:19:56.618294Z",
     "shell.execute_reply": "2024-06-04T23:19:56.618033Z"
    }
   },
   "outputs": [],
   "source": [
    "fig, ax = subplots(figsize=(8,8))\n",
    "by_center = {}\n",
    "for center, df in D.groupby('Center'):\n",
    "    by_center[center] = df\n",
    "    km_center = km.fit(df['Wait time'], df['Failed'])\n",
    "    km_center.plot(label='Center=%s' % center, ax=ax)\n",
    "ax.set_title(\"Probability of Still Being on Hold\")"
   ]
  },
  {
   "cell_type": "markdown",
   "id": "a794d828",
   "metadata": {},
   "source": [
    "Next, we stratify by `Time`."
   ]
  },
  {
   "cell_type": "code",
   "execution_count": null,
   "id": "3c9eae8a",
   "metadata": {
    "execution": {
     "iopub.execute_input": "2024-06-04T23:19:56.619764Z",
     "iopub.status.busy": "2024-06-04T23:19:56.619647Z",
     "iopub.status.idle": "2024-06-04T23:19:56.725906Z",
     "shell.execute_reply": "2024-06-04T23:19:56.725634Z"
    }
   },
   "outputs": [],
   "source": [
    "fig, ax = subplots(figsize=(8,8))\n",
    "by_time = {}\n",
    "for time, df in D.groupby('Time'):\n",
    "    by_time[time] = df\n",
    "    km_time = km.fit(df['Wait time'], df['Failed'])\n",
    "    km_time.plot(label='Time=%s' % time, ax=ax)\n",
    "ax.set_title(\"Probability of Still Being on Hold\")"
   ]
  },
  {
   "cell_type": "markdown",
   "id": "9bf0f501",
   "metadata": {},
   "source": [
    "It seems that calls at Call Center B take longer to be answered than\n",
    "calls at Centers A and C. Similarly, it appears that wait times are\n",
    "longest in the morning and shortest in the evening hours. We can use a\n",
    "log-rank test to determine whether these differences are statistically\n",
    "significant using the function `multivariate_logrank_test()`."
   ]
  },
  {
   "cell_type": "code",
   "execution_count": null,
   "id": "bb8a37eb",
   "metadata": {
    "execution": {
     "iopub.execute_input": "2024-06-04T23:19:56.727330Z",
     "iopub.status.busy": "2024-06-04T23:19:56.727224Z",
     "iopub.status.idle": "2024-06-04T23:19:56.739716Z",
     "shell.execute_reply": "2024-06-04T23:19:56.739485Z"
    }
   },
   "outputs": [],
   "source": [
    "multivariate_logrank_test(D['Wait time'],\n",
    "                          D['Center'],\n",
    "                          D['Failed'])"
   ]
  },
  {
   "cell_type": "markdown",
   "id": "c798ea63",
   "metadata": {},
   "source": [
    "Next, we consider the  effect of `Time`."
   ]
  },
  {
   "cell_type": "code",
   "execution_count": null,
   "id": "e3299d19",
   "metadata": {
    "execution": {
     "iopub.execute_input": "2024-06-04T23:19:56.741062Z",
     "iopub.status.busy": "2024-06-04T23:19:56.740984Z",
     "iopub.status.idle": "2024-06-04T23:19:56.753655Z",
     "shell.execute_reply": "2024-06-04T23:19:56.753435Z"
    }
   },
   "outputs": [],
   "source": [
    "multivariate_logrank_test(D['Wait time'],\n",
    "                          D['Time'],\n",
    "                          D['Failed'])"
   ]
  },
  {
   "cell_type": "markdown",
   "id": "8a3bb55e",
   "metadata": {},
   "source": [
    "As in the case of a categorical variable with 2 levels, these\n",
    "results are similar to the likelihood ratio test\n",
    "from the Cox proportional hazards model. First, we\n",
    "look at the results for  `Center`."
   ]
  },
  {
   "cell_type": "code",
   "execution_count": null,
   "id": "b9004e25",
   "metadata": {
    "execution": {
     "iopub.execute_input": "2024-06-04T23:19:56.755032Z",
     "iopub.status.busy": "2024-06-04T23:19:56.754959Z",
     "iopub.status.idle": "2024-06-04T23:19:56.856726Z",
     "shell.execute_reply": "2024-06-04T23:19:56.856494Z"
    }
   },
   "outputs": [],
   "source": [
    "X = MS(['Wait time',\n",
    "        'Failed',\n",
    "        'Center'],\n",
    "        intercept=False).fit_transform(D)\n",
    "F = coxph().fit(X, 'Wait time', 'Failed')\n",
    "F.log_likelihood_ratio_test()"
   ]
  },
  {
   "cell_type": "markdown",
   "id": "dbd4b435",
   "metadata": {},
   "source": [
    "Next, we look at the results for `Time`."
   ]
  },
  {
   "cell_type": "code",
   "execution_count": null,
   "id": "1780384e",
   "metadata": {
    "execution": {
     "iopub.execute_input": "2024-06-04T23:19:56.858260Z",
     "iopub.status.busy": "2024-06-04T23:19:56.858163Z",
     "iopub.status.idle": "2024-06-04T23:19:56.951866Z",
     "shell.execute_reply": "2024-06-04T23:19:56.951640Z"
    }
   },
   "outputs": [],
   "source": [
    "X = MS(['Wait time',\n",
    "        'Failed',\n",
    "        'Time'],\n",
    "       intercept=False).fit_transform(D)\n",
    "F = coxph().fit(X, 'Wait time', 'Failed')\n",
    "F.log_likelihood_ratio_test()"
   ]
  },
  {
   "cell_type": "markdown",
   "id": "5b02d23b",
   "metadata": {},
   "source": [
    "We find that differences between centers are highly significant, as\n",
    "are differences between times of day.\n",
    "\n",
    "Finally, we fit Cox's proportional hazards model to the data."
   ]
  },
  {
   "cell_type": "code",
   "execution_count": null,
   "id": "19f93f96",
   "metadata": {
    "execution": {
     "iopub.execute_input": "2024-06-04T23:19:56.953169Z",
     "iopub.status.busy": "2024-06-04T23:19:56.953096Z",
     "iopub.status.idle": "2024-06-04T23:19:57.089908Z",
     "shell.execute_reply": "2024-06-04T23:19:57.089269Z"
    }
   },
   "outputs": [],
   "source": [
    "X = MS(D.columns,\n",
    "       intercept=False).fit_transform(D)\n",
    "fit_queuing = coxph().fit(\n",
    "                  X,\n",
    "                 'Wait time',\n",
    "                 'Failed')\n",
    "fit_queuing.summary[['coef', 'se(coef)', 'p']]"
   ]
  },
  {
   "cell_type": "markdown",
   "id": "e5870174",
   "metadata": {},
   "source": [
    "The $p$-values for Center B and evening time\n",
    "are very small. It is also clear that the\n",
    "hazard --- that is, the instantaneous risk that a call will be\n",
    "answered --- increases with the number of operators. Since we\n",
    "generated the data ourselves, we know that the true coefficients for\n",
    " `Operators`, `Center = B`, `Center = C`, \n",
    "`Time = Even.` and `Time = Morn.`   are $0.04$, $-0.3$,\n",
    "$0$,   $0.2$, and $-0.2$, respectively. The coefficient estimates\n",
    "from the fitted Cox model are fairly accurate."
   ]
  }
 ],
 "metadata": {
  "jupytext": {
   "cell_metadata_filter": "-all",
   "formats": "Rmd,ipynb",
   "main_language": "python"
  },
  "language_info": {
   "codemirror_mode": {
    "name": "ipython",
    "version": 3
   },
   "file_extension": ".py",
   "mimetype": "text/x-python",
   "name": "python",
   "nbconvert_exporter": "python",
   "pygments_lexer": "ipython3",
   "version": "3.12.3"
  }
 },
 "nbformat": 4,
 "nbformat_minor": 5
}
