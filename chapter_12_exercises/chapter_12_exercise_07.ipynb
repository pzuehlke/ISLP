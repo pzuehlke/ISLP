{
 "cells": [
  {
   "cell_type": "markdown",
   "metadata": {},
   "source": [
    "# ISLP - Chapter 12 - Exercise 7\n",
    "### Author: pzuehlke"
   ]
  },
  {
   "cell_type": "markdown",
   "metadata": {},
   "source": [
    "To prove this fact, let $ \\mathbf{x} $ and $ \\mathbf{y} $ be two vectors in $\n",
    "\\mathbb{R}^p $, corresponding to observations $ i $ and $ j $, respectively. By the formula\n",
    "for the standard deviation,\n",
    "$$\n",
    "    \\operatorname{std dev}(\\mathbf{x}) = \\sqrt{\\frac{1}{p}\\sum_{k=1}^{p} (x_k - \\bar{x})^2}\n",
    "    = \\frac{1}{\\sqrt{p}}\\Vert\\mathbf{x - \\bar{x}\\,\\mathbf{1}}\\Vert\\,.\n",
    "$$\n",
    "Thus, if $ \\mathbf{x} $ and $ \\mathbf{y} $ both have mean zero and standard\n",
    "deviation $ 1 $, then\n",
    "$$ \\Vert \\mathbf{x} \\Vert = \\Vert \\mathbf{y} \\Vert = \\sqrt{p}\\,. $$\n",
    "Therefore,\n",
    "$$\n",
    "    \\Vert \\mathbf{x} - \\mathbf{y} \\Vert^2 = \\Vert \\mathbf{x} \\Vert^2\n",
    "        + \\Vert \\mathbf{y} \\Vert^2 - 2\\,\\mathbf{x} \\cdot \\mathbf{y}\n",
    "        = 2p\\,(1 - \\cos \\measuredangle (\\mathbf{x} , \\mathbf{y})\\big) = 2p\\,(1 - r_{ij})\\,,\n",
    "$$\n",
    "because by the definition of correlation,\n",
    "$$\n",
    "    r_{ij} = \\frac{\\mathbf{x} \\cdot \\mathbf{y}}{\\Vert \\mathbf{x} \\Vert \\, \\Vert \\mathbf{y} \\Vert }\n",
    "        = \\cos \\measuredangle (\\mathbf{x} , \\mathbf{y}) \\,. \\tag*{$ \\blacksquare $}\n",
    "$$\n",
    "\n",
    "Now let's verify this proportion in the `USArrests` dataset:"
   ]
  },
  {
   "cell_type": "code",
   "execution_count": 8,
   "metadata": {},
   "outputs": [],
   "source": [
    "import numpy as np\n",
    "import pandas as pd\n",
    "from statsmodels.datasets import get_rdataset\n",
    "from sklearn.metrics import pairwise_distances\n",
    "from sklearn.preprocessing import StandardScaler"
   ]
  },
  {
   "cell_type": "code",
   "execution_count": 9,
   "metadata": {},
   "outputs": [
    {
     "name": "stdout",
     "output_type": "stream",
     "text": [
      "<class 'pandas.core.frame.DataFrame'>\n",
      "Index: 50 entries, Alabama to Wyoming\n",
      "Data columns (total 4 columns):\n",
      " #   Column    Non-Null Count  Dtype  \n",
      "---  ------    --------------  -----  \n",
      " 0   Murder    50 non-null     float64\n",
      " 1   Assault   50 non-null     int64  \n",
      " 2   UrbanPop  50 non-null     int64  \n",
      " 3   Rape      50 non-null     float64\n",
      "dtypes: float64(2), int64(2)\n",
      "memory usage: 2.0+ KB\n",
      "None\n"
     ]
    }
   ],
   "source": [
    "arrests = get_rdataset(\"USArrests\").data\n",
    "print(arrests.info())\n",
    "n, p = arrests.shape  # n = 50, p = 4"
   ]
  },
  {
   "cell_type": "code",
   "execution_count": 10,
   "metadata": {},
   "outputs": [
    {
     "data": {
      "text/html": [
       "<div>\n",
       "<style scoped>\n",
       "    .dataframe tbody tr th:only-of-type {\n",
       "        vertical-align: middle;\n",
       "    }\n",
       "\n",
       "    .dataframe tbody tr th {\n",
       "        vertical-align: top;\n",
       "    }\n",
       "\n",
       "    .dataframe thead th {\n",
       "        text-align: right;\n",
       "    }\n",
       "</style>\n",
       "<table border=\"1\" class=\"dataframe\">\n",
       "  <thead>\n",
       "    <tr style=\"text-align: right;\">\n",
       "      <th></th>\n",
       "      <th>Murder</th>\n",
       "      <th>Assault</th>\n",
       "      <th>UrbanPop</th>\n",
       "      <th>Rape</th>\n",
       "    </tr>\n",
       "    <tr>\n",
       "      <th>rownames</th>\n",
       "      <th></th>\n",
       "      <th></th>\n",
       "      <th></th>\n",
       "      <th></th>\n",
       "    </tr>\n",
       "  </thead>\n",
       "  <tbody>\n",
       "    <tr>\n",
       "      <th>Alabama</th>\n",
       "      <td>13.2</td>\n",
       "      <td>236</td>\n",
       "      <td>58</td>\n",
       "      <td>21.2</td>\n",
       "    </tr>\n",
       "    <tr>\n",
       "      <th>Alaska</th>\n",
       "      <td>10.0</td>\n",
       "      <td>263</td>\n",
       "      <td>48</td>\n",
       "      <td>44.5</td>\n",
       "    </tr>\n",
       "    <tr>\n",
       "      <th>Arizona</th>\n",
       "      <td>8.1</td>\n",
       "      <td>294</td>\n",
       "      <td>80</td>\n",
       "      <td>31.0</td>\n",
       "    </tr>\n",
       "    <tr>\n",
       "      <th>Arkansas</th>\n",
       "      <td>8.8</td>\n",
       "      <td>190</td>\n",
       "      <td>50</td>\n",
       "      <td>19.5</td>\n",
       "    </tr>\n",
       "    <tr>\n",
       "      <th>California</th>\n",
       "      <td>9.0</td>\n",
       "      <td>276</td>\n",
       "      <td>91</td>\n",
       "      <td>40.6</td>\n",
       "    </tr>\n",
       "    <tr>\n",
       "      <th>Colorado</th>\n",
       "      <td>7.9</td>\n",
       "      <td>204</td>\n",
       "      <td>78</td>\n",
       "      <td>38.7</td>\n",
       "    </tr>\n",
       "    <tr>\n",
       "      <th>Connecticut</th>\n",
       "      <td>3.3</td>\n",
       "      <td>110</td>\n",
       "      <td>77</td>\n",
       "      <td>11.1</td>\n",
       "    </tr>\n",
       "    <tr>\n",
       "      <th>Delaware</th>\n",
       "      <td>5.9</td>\n",
       "      <td>238</td>\n",
       "      <td>72</td>\n",
       "      <td>15.8</td>\n",
       "    </tr>\n",
       "    <tr>\n",
       "      <th>Florida</th>\n",
       "      <td>15.4</td>\n",
       "      <td>335</td>\n",
       "      <td>80</td>\n",
       "      <td>31.9</td>\n",
       "    </tr>\n",
       "    <tr>\n",
       "      <th>Georgia</th>\n",
       "      <td>17.4</td>\n",
       "      <td>211</td>\n",
       "      <td>60</td>\n",
       "      <td>25.8</td>\n",
       "    </tr>\n",
       "  </tbody>\n",
       "</table>\n",
       "</div>"
      ],
      "text/plain": [
       "             Murder  Assault  UrbanPop  Rape\n",
       "rownames                                    \n",
       "Alabama        13.2      236        58  21.2\n",
       "Alaska         10.0      263        48  44.5\n",
       "Arizona         8.1      294        80  31.0\n",
       "Arkansas        8.8      190        50  19.5\n",
       "California      9.0      276        91  40.6\n",
       "Colorado        7.9      204        78  38.7\n",
       "Connecticut     3.3      110        77  11.1\n",
       "Delaware        5.9      238        72  15.8\n",
       "Florida        15.4      335        80  31.9\n",
       "Georgia        17.4      211        60  25.8"
      ]
     },
     "execution_count": 10,
     "metadata": {},
     "output_type": "execute_result"
    }
   ],
   "source": [
    "arrests.head(10)"
   ]
  },
  {
   "cell_type": "markdown",
   "metadata": {},
   "source": [
    "The strategy is simple: we standardize the _rows_ of the dataset by applying\n",
    "`StandardScaler` and then compute the correlation matrix and squared distances\n",
    "between rows to verify the relationship with $ p = 4 $."
   ]
  },
  {
   "cell_type": "code",
   "execution_count": 11,
   "metadata": {},
   "outputs": [
    {
     "name": "stdout",
     "output_type": "stream",
     "text": [
      "(50, 4)\n"
     ]
    }
   ],
   "source": [
    "scaler = StandardScaler()\n",
    "X = scaler.fit_transform(arrests.T).T  # transpose to standardize the _rows_, then transpose back\n",
    "print(X.shape)"
   ]
  },
  {
   "cell_type": "markdown",
   "metadata": {},
   "source": [
    "Let's verify that each row now has norm $ \\sqrt{p} = \\sqrt{4} = 2 $:"
   ]
  },
  {
   "cell_type": "code",
   "execution_count": 12,
   "metadata": {},
   "outputs": [
    {
     "name": "stdout",
     "output_type": "stream",
     "text": [
      "[2. 2. 2. 2. 2. 2. 2. 2. 2. 2. 2. 2. 2. 2. 2. 2. 2. 2. 2. 2. 2. 2. 2. 2.\n",
      " 2. 2. 2. 2. 2. 2. 2. 2. 2. 2. 2. 2. 2. 2. 2. 2. 2. 2. 2. 2. 2. 2. 2. 2.\n",
      " 2. 2.]\n"
     ]
    }
   ],
   "source": [
    "print(np.linalg.norm(X, axis=1))"
   ]
  },
  {
   "cell_type": "markdown",
   "metadata": {},
   "source": [
    "Now let's compute the correlation coefficients and squared distances:"
   ]
  },
  {
   "cell_type": "code",
   "execution_count": 14,
   "metadata": {},
   "outputs": [
    {
     "name": "stdout",
     "output_type": "stream",
     "text": [
      "(50, 50)\n",
      "(50, 50)\n"
     ]
    }
   ],
   "source": [
    "correlation_matrix = np.corrcoef(X, rowvar=True)\n",
    "squared_distances = pairwise_distances(X, metric=\"euclidean\")**2\n",
    "print(correlation_matrix.shape)\n",
    "print(squared_distances.shape)"
   ]
  },
  {
   "cell_type": "markdown",
   "metadata": {},
   "source": [
    "Finally, we compare $ 2p\\,(1 - r_{ij}) $ to $ \\Vert\\mathbf{x}_i - \\mathbf{x}_j\\Vert^2 $ for each $ i,\\,j $:"
   ]
  },
  {
   "cell_type": "code",
   "execution_count": 16,
   "metadata": {},
   "outputs": [
    {
     "name": "stdout",
     "output_type": "stream",
     "text": [
      "[[0.    0.073 0.011 ... 0.259 3.3   0.087]\n",
      " [0.073 0.    0.082 ... 0.521 3.915 0.26 ]\n",
      " [0.011 0.082 0.    ... 0.196 3.052 0.051]\n",
      " ...\n",
      " [0.259 0.521 0.196 ... 0.    1.821 0.047]\n",
      " [3.3   3.915 3.052 ... 1.821 0.    2.399]\n",
      " [0.087 0.26  0.051 ... 0.047 2.399 0.   ]]\n"
     ]
    }
   ],
   "source": [
    "A = 2 * p * (1 - correlation_matrix)\n",
    "print(np.round(A, 3))"
   ]
  },
  {
   "cell_type": "code",
   "execution_count": 18,
   "metadata": {},
   "outputs": [
    {
     "name": "stdout",
     "output_type": "stream",
     "text": [
      "[[0.    0.073 0.011 ... 0.259 3.3   0.087]\n",
      " [0.073 0.    0.082 ... 0.521 3.915 0.26 ]\n",
      " [0.011 0.082 0.    ... 0.196 3.052 0.051]\n",
      " ...\n",
      " [0.259 0.521 0.196 ... 0.    1.821 0.047]\n",
      " [3.3   3.915 3.052 ... 1.821 0.    2.399]\n",
      " [0.087 0.26  0.051 ... 0.047 2.399 0.   ]]\n"
     ]
    }
   ],
   "source": [
    "B = squared_distances\n",
    "print(np.round(B, 3))"
   ]
  },
  {
   "cell_type": "markdown",
   "metadata": {},
   "source": [
    "Looks right, but let's verify this conclusively:"
   ]
  },
  {
   "cell_type": "code",
   "execution_count": 21,
   "metadata": {},
   "outputs": [
    {
     "data": {
      "text/plain": [
       "True"
      ]
     },
     "execution_count": 21,
     "metadata": {},
     "output_type": "execute_result"
    }
   ],
   "source": [
    "np.allclose(A, B, rtol=1e-5, atol=1e-8)"
   ]
  }
 ],
 "metadata": {
  "kernelspec": {
   "display_name": "islp",
   "language": "python",
   "name": "python3"
  },
  "language_info": {
   "codemirror_mode": {
    "name": "ipython",
    "version": 3
   },
   "file_extension": ".py",
   "mimetype": "text/x-python",
   "name": "python",
   "nbconvert_exporter": "python",
   "pygments_lexer": "ipython3",
   "version": "3.12.4"
  }
 },
 "nbformat": 4,
 "nbformat_minor": 2
}
