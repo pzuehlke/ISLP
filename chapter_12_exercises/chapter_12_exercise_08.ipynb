{
 "cells": [
  {
   "cell_type": "markdown",
   "metadata": {},
   "source": [
    "# ISLP - Chapter 12 - Exercise 8\n",
    "### Author: pzuehlke"
   ]
  },
  {
   "cell_type": "code",
   "execution_count": 2,
   "metadata": {},
   "outputs": [],
   "source": [
    "import numpy as np\n",
    "import pandas as pd\n",
    "from statsmodels.datasets import get_rdataset\n",
    "from sklearn.preprocessing import StandardScaler\n",
    "from sklearn.decomposition import PCA"
   ]
  },
  {
   "cell_type": "code",
   "execution_count": 3,
   "metadata": {},
   "outputs": [
    {
     "name": "stdout",
     "output_type": "stream",
     "text": [
      "<class 'pandas.core.frame.DataFrame'>\n",
      "Index: 50 entries, Alabama to Wyoming\n",
      "Data columns (total 4 columns):\n",
      " #   Column    Non-Null Count  Dtype  \n",
      "---  ------    --------------  -----  \n",
      " 0   Murder    50 non-null     float64\n",
      " 1   Assault   50 non-null     int64  \n",
      " 2   UrbanPop  50 non-null     int64  \n",
      " 3   Rape      50 non-null     float64\n",
      "dtypes: float64(2), int64(2)\n",
      "memory usage: 2.0+ KB\n"
     ]
    }
   ],
   "source": [
    "arrests = get_rdataset(\"USArrests\").data\n",
    "n, p = arrests.shape\n",
    "arrests.info()"
   ]
  },
  {
   "cell_type": "code",
   "execution_count": 4,
   "metadata": {},
   "outputs": [
    {
     "data": {
      "text/html": [
       "<div>\n",
       "<style scoped>\n",
       "    .dataframe tbody tr th:only-of-type {\n",
       "        vertical-align: middle;\n",
       "    }\n",
       "\n",
       "    .dataframe tbody tr th {\n",
       "        vertical-align: top;\n",
       "    }\n",
       "\n",
       "    .dataframe thead th {\n",
       "        text-align: right;\n",
       "    }\n",
       "</style>\n",
       "<table border=\"1\" class=\"dataframe\">\n",
       "  <thead>\n",
       "    <tr style=\"text-align: right;\">\n",
       "      <th></th>\n",
       "      <th>Murder</th>\n",
       "      <th>Assault</th>\n",
       "      <th>UrbanPop</th>\n",
       "      <th>Rape</th>\n",
       "    </tr>\n",
       "    <tr>\n",
       "      <th>rownames</th>\n",
       "      <th></th>\n",
       "      <th></th>\n",
       "      <th></th>\n",
       "      <th></th>\n",
       "    </tr>\n",
       "  </thead>\n",
       "  <tbody>\n",
       "    <tr>\n",
       "      <th>Alabama</th>\n",
       "      <td>13.2</td>\n",
       "      <td>236</td>\n",
       "      <td>58</td>\n",
       "      <td>21.2</td>\n",
       "    </tr>\n",
       "    <tr>\n",
       "      <th>Alaska</th>\n",
       "      <td>10.0</td>\n",
       "      <td>263</td>\n",
       "      <td>48</td>\n",
       "      <td>44.5</td>\n",
       "    </tr>\n",
       "    <tr>\n",
       "      <th>Arizona</th>\n",
       "      <td>8.1</td>\n",
       "      <td>294</td>\n",
       "      <td>80</td>\n",
       "      <td>31.0</td>\n",
       "    </tr>\n",
       "    <tr>\n",
       "      <th>Arkansas</th>\n",
       "      <td>8.8</td>\n",
       "      <td>190</td>\n",
       "      <td>50</td>\n",
       "      <td>19.5</td>\n",
       "    </tr>\n",
       "    <tr>\n",
       "      <th>California</th>\n",
       "      <td>9.0</td>\n",
       "      <td>276</td>\n",
       "      <td>91</td>\n",
       "      <td>40.6</td>\n",
       "    </tr>\n",
       "  </tbody>\n",
       "</table>\n",
       "</div>"
      ],
      "text/plain": [
       "            Murder  Assault  UrbanPop  Rape\n",
       "rownames                                   \n",
       "Alabama       13.2      236        58  21.2\n",
       "Alaska        10.0      263        48  44.5\n",
       "Arizona        8.1      294        80  31.0\n",
       "Arkansas       8.8      190        50  19.5\n",
       "California     9.0      276        91  40.6"
      ]
     },
     "execution_count": 4,
     "metadata": {},
     "output_type": "execute_result"
    }
   ],
   "source": [
    "arrests.head()"
   ]
  },
  {
   "cell_type": "code",
   "execution_count": 5,
   "metadata": {},
   "outputs": [],
   "source": [
    "scaler = StandardScaler()\n",
    "arrests_scaled = scaler.fit_transform(arrests)"
   ]
  },
  {
   "cell_type": "markdown",
   "metadata": {},
   "source": [
    "__8 (a):__ We only need to perform PCA on the data and then compute the PVE\n",
    "using `explained_variance_ratio_` as suggested in the statement:"
   ]
  },
  {
   "cell_type": "code",
   "execution_count": 6,
   "metadata": {},
   "outputs": [],
   "source": [
    "pca = PCA(n_components=p)\n",
    "pca_results = pca.fit_transform(arrests_scaled)"
   ]
  },
  {
   "cell_type": "code",
   "execution_count": 7,
   "metadata": {},
   "outputs": [
    {
     "name": "stdout",
     "output_type": "stream",
     "text": [
      "PC1: 0.6201\n",
      "PC2: 0.2474\n",
      "PC3: 0.0891\n",
      "PC4: 0.0434\n",
      "Total PVE: 1.0000\n"
     ]
    }
   ],
   "source": [
    "pve_method_a = pca.explained_variance_ratio_\n",
    "for j, pve in enumerate(pve_method_a):\n",
    "    print(f\"PC{j + 1}: {pve:.4f}\")\n",
    "print(f\"Total PVE: {sum(pve_method_a):.4f}\")"
   ]
  },
  {
   "cell_type": "markdown",
   "metadata": {},
   "source": [
    "__8 (b):__ We begin by computing the loading vectors of each principal component:"
   ]
  },
  {
   "cell_type": "code",
   "execution_count": 8,
   "metadata": {},
   "outputs": [
    {
     "name": "stdout",
     "output_type": "stream",
     "text": [
      "[[ 0.53589947  0.58318363  0.27819087  0.54343209]\n",
      " [-0.41818087 -0.1879856   0.87280619  0.16731864]\n",
      " [-0.34123273 -0.26814843 -0.37801579  0.81777791]\n",
      " [-0.6492278   0.74340748 -0.13387773 -0.08902432]]\n"
     ]
    }
   ],
   "source": [
    "loadings = pca.components_\n",
    "print(loadings)"
   ]
  },
  {
   "cell_type": "markdown",
   "metadata": {},
   "source": [
    "Note that `pca_results` is a $ 50 \\times 4 $ array whose $ (i, j) $-th element\n",
    "is the principal component scores for the $ i $-th state on the $ j $-th\n",
    "component, or, in the notation of this chapter:\n",
    "$$\n",
    "    z_{ij} = \\sum_{k=1}^{p}\\phi_{kj}\\,x_{ik}\\,.\n",
    "$$"
   ]
  },
  {
   "cell_type": "code",
   "execution_count": 9,
   "metadata": {},
   "outputs": [
    {
     "name": "stdout",
     "output_type": "stream",
     "text": [
      "(50, 4)\n"
     ]
    }
   ],
   "source": [
    "print(pca_results.shape)"
   ]
  },
  {
   "cell_type": "markdown",
   "metadata": {},
   "source": [
    "The variance explained by the $ j $-th component is thus the variance of the $ j\n",
    "$-th column (for $ j = 1, \\dots, 4 $):\n",
    "$$\n",
    "    \\text{variance explained by $ j $-th component}\n",
    "    = \\frac{1}{n} \\sum_{i=1}^n z_{ij}^2\n",
    "    = \\frac{1}{n}\\sum_{i=1}^{n}\\left(\\sum_{k=1}^{p}\\phi_{kj}\\,x_{ik}\\right)^2\\,.\n",
    "$$\n",
    "Equivalently, this is expression (12.9) on p. 511, with $ m $ replaced by $ j $.\n",
    "Let's compute these variances:"
   ]
  },
  {
   "cell_type": "code",
   "execution_count": 10,
   "metadata": {},
   "outputs": [
    {
     "name": "stdout",
     "output_type": "stream",
     "text": [
      "[2.48024158 0.98976515 0.35656318 0.17343009]\n"
     ]
    }
   ],
   "source": [
    "pcs_variance = np.var(pca_results, axis=0)\n",
    "print(pcs_variance)"
   ]
  },
  {
   "cell_type": "markdown",
   "metadata": {},
   "source": [
    "Now we compute the total variance of the scaled data, namely\n",
    "$$\n",
    "    \\text{total variance} = \\sum_{j=1}^p\\frac{1}{n}\\sum_{i=1}^{n}x_{ij}^2\\,.\n",
    "$$"
   ]
  },
  {
   "cell_type": "code",
   "execution_count": null,
   "metadata": {},
   "outputs": [],
   "source": [
    "total_variance = np.sum(np.var(arrests_scaled, axis=0))"
   ]
  },
  {
   "cell_type": "markdown",
   "metadata": {},
   "source": [
    "Now to obtain the proportion of variance explained by the $ j $-th component, $ \\text{PVE}_j $,\n",
    "we just need to divide these two:\n",
    "$$\n",
    "    \\text{PVE}_j = \\frac{\\text{variance explained by the $ j $-th component}}{\\text{total variance}}\\,.\n",
    "$$"
   ]
  },
  {
   "cell_type": "code",
   "execution_count": 13,
   "metadata": {},
   "outputs": [
    {
     "name": "stdout",
     "output_type": "stream",
     "text": [
      "PC1: 0.6201\n",
      "PC2: 0.2474\n",
      "PC3: 0.0891\n",
      "PC4: 0.0434\n",
      "Sum of PVE: 1.0000\n"
     ]
    }
   ],
   "source": [
    "pve_method_b = pcs_variance / total_variance\n",
    "for j, pve in enumerate(pve_method_b):\n",
    "    print(f\"PC{j + 1}: {pve:.4f}\")\n",
    "print(f\"Sum of PVE: {sum(pve_method_b):.4f}\")"
   ]
  },
  {
   "cell_type": "markdown",
   "metadata": {},
   "source": [
    "Finally, we compare the answers we have arrived at:"
   ]
  },
  {
   "cell_type": "code",
   "execution_count": 14,
   "metadata": {},
   "outputs": [
    {
     "name": "stdout",
     "output_type": "stream",
     "text": [
      "PC1: 0.00000000\n",
      "PC2: 0.00000000\n",
      "PC3: 0.00000000\n",
      "PC4: 0.00000000\n"
     ]
    }
   ],
   "source": [
    "for j in range(p):\n",
    "    print(f\"PC{j + 1}: {abs(pve_method_a[j] - pve_method_b[j]):.8f}\")"
   ]
  },
  {
   "cell_type": "markdown",
   "metadata": {},
   "source": [
    "Conclusion: the two methods yield the same PVEs, as expected."
   ]
  },
  {
   "cell_type": "markdown",
   "metadata": {},
   "source": []
  }
 ],
 "metadata": {
  "kernelspec": {
   "display_name": "islp",
   "language": "python",
   "name": "python3"
  },
  "language_info": {
   "codemirror_mode": {
    "name": "ipython",
    "version": 3
   },
   "file_extension": ".py",
   "mimetype": "text/x-python",
   "name": "python",
   "nbconvert_exporter": "python",
   "pygments_lexer": "ipython3",
   "version": "3.12.4"
  }
 },
 "nbformat": 4,
 "nbformat_minor": 2
}
