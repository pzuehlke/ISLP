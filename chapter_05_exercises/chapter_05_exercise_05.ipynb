{
 "cells": [
  {
   "cell_type": "markdown",
   "metadata": {},
   "source": [
    "# ISLP - Chapter 5 - Exercise 5\n",
    "### Author: pzuehlke"
   ]
  },
  {
   "cell_type": "code",
   "execution_count": 1,
   "metadata": {},
   "outputs": [],
   "source": [
    "import pandas as pd\n",
    "import numpy as np\n",
    "from sklearn.model_selection import train_test_split\n",
    "from sklearn.linear_model import LogisticRegression\n",
    "from sklearn.preprocessing import LabelEncoder"
   ]
  },
  {
   "cell_type": "markdown",
   "metadata": {},
   "source": [
    "__5 (a):__"
   ]
  },
  {
   "cell_type": "code",
   "execution_count": 30,
   "metadata": {},
   "outputs": [
    {
     "name": "stdout",
     "output_type": "stream",
     "text": [
      "<class 'pandas.core.frame.DataFrame'>\n",
      "RangeIndex: 10000 entries, 0 to 9999\n",
      "Data columns (total 4 columns):\n",
      " #   Column   Non-Null Count  Dtype  \n",
      "---  ------   --------------  -----  \n",
      " 0   default  10000 non-null  object \n",
      " 1   student  10000 non-null  object \n",
      " 2   balance  10000 non-null  float64\n",
      " 3   income   10000 non-null  float64\n",
      "dtypes: float64(2), object(2)\n",
      "memory usage: 312.6+ KB\n",
      "None\n",
      "\n"
     ]
    },
    {
     "data": {
      "text/html": [
       "<div>\n",
       "<style scoped>\n",
       "    .dataframe tbody tr th:only-of-type {\n",
       "        vertical-align: middle;\n",
       "    }\n",
       "\n",
       "    .dataframe tbody tr th {\n",
       "        vertical-align: top;\n",
       "    }\n",
       "\n",
       "    .dataframe thead th {\n",
       "        text-align: right;\n",
       "    }\n",
       "</style>\n",
       "<table border=\"1\" class=\"dataframe\">\n",
       "  <thead>\n",
       "    <tr style=\"text-align: right;\">\n",
       "      <th></th>\n",
       "      <th>default</th>\n",
       "      <th>student</th>\n",
       "      <th>balance</th>\n",
       "      <th>income</th>\n",
       "    </tr>\n",
       "  </thead>\n",
       "  <tbody>\n",
       "    <tr>\n",
       "      <th>0</th>\n",
       "      <td>No</td>\n",
       "      <td>No</td>\n",
       "      <td>729.526495</td>\n",
       "      <td>44361.625074</td>\n",
       "    </tr>\n",
       "    <tr>\n",
       "      <th>1</th>\n",
       "      <td>No</td>\n",
       "      <td>Yes</td>\n",
       "      <td>817.180407</td>\n",
       "      <td>12106.134700</td>\n",
       "    </tr>\n",
       "    <tr>\n",
       "      <th>2</th>\n",
       "      <td>No</td>\n",
       "      <td>No</td>\n",
       "      <td>1073.549164</td>\n",
       "      <td>31767.138947</td>\n",
       "    </tr>\n",
       "    <tr>\n",
       "      <th>3</th>\n",
       "      <td>No</td>\n",
       "      <td>No</td>\n",
       "      <td>529.250605</td>\n",
       "      <td>35704.493935</td>\n",
       "    </tr>\n",
       "    <tr>\n",
       "      <th>4</th>\n",
       "      <td>No</td>\n",
       "      <td>No</td>\n",
       "      <td>785.655883</td>\n",
       "      <td>38463.495879</td>\n",
       "    </tr>\n",
       "  </tbody>\n",
       "</table>\n",
       "</div>"
      ],
      "text/plain": [
       "  default student      balance        income\n",
       "0      No      No   729.526495  44361.625074\n",
       "1      No     Yes   817.180407  12106.134700\n",
       "2      No      No  1073.549164  31767.138947\n",
       "3      No      No   529.250605  35704.493935\n",
       "4      No      No   785.655883  38463.495879"
      ]
     },
     "execution_count": 30,
     "metadata": {},
     "output_type": "execute_result"
    }
   ],
   "source": [
    "default_data = pd.read_csv(\"Default.csv\")\n",
    "print(default_data.info(), end=\"\\n\\n\")\n",
    "default_data.head()\n"
   ]
  },
  {
   "cell_type": "code",
   "execution_count": 31,
   "metadata": {},
   "outputs": [],
   "source": [
    "# Convert 'default' to numeric (Yes = 1, No = 0):\n",
    "le = LabelEncoder()\n",
    "default_data[\"default\"] = le.fit_transform(default_data[\"default\"])"
   ]
  },
  {
   "cell_type": "code",
   "execution_count": 32,
   "metadata": {},
   "outputs": [
    {
     "name": "stdout",
     "output_type": "stream",
     "text": [
      "Income: 0.0000\n",
      "Balance: 0.0056\n",
      "Intercept: -11.5405\n"
     ]
    }
   ],
   "source": [
    "X = default_data[[\"income\", \"balance\"]]\n",
    "y = default_data[\"default\"]\n",
    "\n",
    "model = LogisticRegression(random_state=0)\n",
    "model.fit(X, y)\n",
    "\n",
    "print(f\"Income: {model.coef_[0][0]:.4f}\")\n",
    "print(f\"Balance: {model.coef_[0][1]:.4f}\")\n",
    "print(f\"Intercept: {model.intercept_[0]:.4f}\")"
   ]
  },
  {
   "cell_type": "markdown",
   "metadata": {},
   "source": [
    "__5 (b):__ We divide the original dataset in half, use one of these halves to\n",
    "train the model and the other to estimate the error rate (or rather, the\n",
    "accuracy). By default the model uses $ 0.5 $ as the probability threshold already."
   ]
  },
  {
   "cell_type": "code",
   "execution_count": 33,
   "metadata": {},
   "outputs": [
    {
     "name": "stdout",
     "output_type": "stream",
     "text": [
      "Training error rate: 0.0240\n",
      "Validation error rate: 0.0290\n"
     ]
    }
   ],
   "source": [
    "X_train, X_test, y_train, y_test = train_test_split(\n",
    "    X, y, test_size=0.5, random_state=0\n",
    ")\n",
    "\n",
    "model = LogisticRegression(random_state=0)\n",
    "model.fit(X_train, y_train)\n",
    "\n",
    "train_score = model.score(X_train, y_train)  # accuracy, not error rate\n",
    "test_score = model.score(X_test, y_test)\n",
    "\n",
    "print(f\"Training error rate: {1 - train_score:.4f}\")\n",
    "print(f\"Validation error rate: {1 - test_score:.4f}\")"
   ]
  },
  {
   "cell_type": "markdown",
   "metadata": {},
   "source": [
    "__5 (c):__ We repeat the same code as above, but use a different random seed to\n",
    "split the dataset in two:"
   ]
  },
  {
   "cell_type": "code",
   "execution_count": 34,
   "metadata": {},
   "outputs": [
    {
     "name": "stdout",
     "output_type": "stream",
     "text": [
      "\n",
      "split 1:\n",
      "--------------------\n",
      "Training error rate: 0.0240\n",
      "Validation error rate: 0.0290\n",
      "\n",
      "split 2:\n",
      "--------------------\n",
      "Training error rate: 0.0282\n",
      "Validation error rate: 0.0250\n",
      "\n",
      "split 3:\n",
      "--------------------\n",
      "Training error rate: 0.0278\n",
      "Validation error rate: 0.0248\n"
     ]
    }
   ],
   "source": [
    "for split_seed in range(3):\n",
    "    print(f\"\\nsplit {split_seed + 1}:\")\n",
    "    print(\"-\" * 20)\n",
    "    X_train, X_test, y_train, y_test = train_test_split(\n",
    "        X, y, test_size=0.5, random_state=split_seed\n",
    "    )\n",
    "\n",
    "    model = LogisticRegression(random_state=0)\n",
    "    model.fit(X_train, y_train)\n",
    "\n",
    "    train_score = model.score(X_train, y_train)  # accuracy, not error rate\n",
    "    test_score = model.score(X_test, y_test)\n",
    "\n",
    "    print(f\"Training error rate: {1 - train_score:.4f}\")\n",
    "    print(f\"Validation error rate: {1 - test_score:.4f}\")"
   ]
  },
  {
   "cell_type": "markdown",
   "metadata": {},
   "source": [
    "We see that the validation and training error rates differ by $ 10 $ to $ 20\\% $ from\n",
    "each other for all three splits, and that for two of the splits, the test error\n",
    "rate is actually lower. However, all of the error rates fall in the $ 2.4 $ to $\n",
    "3\\% $ range, similarly to the error rates obtained using other models in Chapter\n",
    "4. Recall also from p. $ 152 $ that only $ 3.33\\% $ of the individuals in the dataset defaulted,\n",
    "so the classifier that assigns everyone to the default category is not much\n",
    "worse than the one above."
   ]
  },
  {
   "cell_type": "markdown",
   "metadata": {},
   "source": [
    "__5 (d):__ We begin converting `student` to a numeric variable that can only\n",
    "take on the values $ 1 $ and $ 0 $ for \"Yes\" and \"No\", respectively."
   ]
  },
  {
   "cell_type": "code",
   "execution_count": 35,
   "metadata": {},
   "outputs": [],
   "source": [
    "default_data[\"student\"] = (default_data[\"student\"] == \"Yes\").astype(int)\n",
    "X = default_data[[\"student\", \"income\", \"balance\"]]\n",
    "y = default_data[\"default\"]"
   ]
  },
  {
   "cell_type": "markdown",
   "metadata": {},
   "source": [
    "Now we use the same three splits to fit a model and estimate the error rates:"
   ]
  },
  {
   "cell_type": "code",
   "execution_count": 36,
   "metadata": {},
   "outputs": [
    {
     "name": "stdout",
     "output_type": "stream",
     "text": [
      "\n",
      "split 1:\n",
      "--------------------\n",
      "Training error rate: 0.0252\n",
      "Validation error rate: 0.0294\n",
      "\n",
      "split 2:\n",
      "--------------------\n",
      "Training error rate: 0.0270\n",
      "Validation error rate: 0.0262\n",
      "\n",
      "split 3:\n",
      "--------------------\n",
      "Training error rate: 0.0280\n",
      "Validation error rate: 0.0250\n"
     ]
    }
   ],
   "source": [
    "for split_seed in range(3):\n",
    "    print(f\"\\nsplit {split_seed + 1}:\")\n",
    "    print(\"-\" * 20)\n",
    "    X_train, X_test, y_train, y_test = train_test_split(\n",
    "        X, y, test_size=0.5, random_state=split_seed\n",
    "    )\n",
    "\n",
    "    model = LogisticRegression(random_state=0)\n",
    "    model.fit(X_train, y_train)\n",
    "\n",
    "    train_score = model.score(X_train, y_train)  # accuracy, not error rate\n",
    "    test_score = model.score(X_test, y_test)\n",
    "\n",
    "    print(f\"Training error rate: {1 - train_score:.4f}\")\n",
    "    print(f\"Validation error rate: {1 - test_score:.4f}\")"
   ]
  },
  {
   "cell_type": "markdown",
   "metadata": {},
   "source": [
    "Note that all of the validation error rates have increased when compared to the models\n",
    "that do not include student status as one of the variables. This suggests that\n",
    "the relationship between `default` and `student` may not be statistically\n",
    "significant."
   ]
  }
 ],
 "metadata": {
  "kernelspec": {
   "display_name": "islp",
   "language": "python",
   "name": "python3"
  },
  "language_info": {
   "codemirror_mode": {
    "name": "ipython",
    "version": 3
   },
   "file_extension": ".py",
   "mimetype": "text/x-python",
   "name": "python",
   "nbconvert_exporter": "python",
   "pygments_lexer": "ipython3",
   "version": "3.12.4"
  }
 },
 "nbformat": 4,
 "nbformat_minor": 2
}
