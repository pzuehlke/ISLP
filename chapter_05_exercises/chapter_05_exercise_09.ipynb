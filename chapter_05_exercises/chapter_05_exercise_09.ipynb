{
 "cells": [
  {
   "cell_type": "markdown",
   "metadata": {},
   "source": [
    "# ISLP - Chapter 5 - Exercise 9\n",
    "### Author: pzuehlke"
   ]
  },
  {
   "cell_type": "code",
   "execution_count": 1,
   "metadata": {},
   "outputs": [],
   "source": [
    "import pandas as pd\n",
    "import numpy as np\n",
    "import matplotlib.pyplot as plt\n",
    "import statsmodels.api as sm"
   ]
  },
  {
   "cell_type": "code",
   "execution_count": 2,
   "metadata": {},
   "outputs": [
    {
     "name": "stdout",
     "output_type": "stream",
     "text": [
      "<class 'pandas.core.frame.DataFrame'>\n",
      "Index: 506 entries, 1 to 506\n",
      "Data columns (total 13 columns):\n",
      " #   Column   Non-Null Count  Dtype  \n",
      "---  ------   --------------  -----  \n",
      " 0   crim     506 non-null    float64\n",
      " 1   zn       506 non-null    float64\n",
      " 2   indus    506 non-null    float64\n",
      " 3   chas     506 non-null    int64  \n",
      " 4   nox      506 non-null    float64\n",
      " 5   rm       506 non-null    float64\n",
      " 6   age      506 non-null    float64\n",
      " 7   dis      506 non-null    float64\n",
      " 8   rad      506 non-null    int64  \n",
      " 9   tax      506 non-null    int64  \n",
      " 10  ptratio  506 non-null    float64\n",
      " 11  lstat    506 non-null    float64\n",
      " 12  medv     506 non-null    float64\n",
      "dtypes: float64(10), int64(3)\n",
      "memory usage: 55.3 KB\n",
      "None\n"
     ]
    },
    {
     "data": {
      "text/html": [
       "<div>\n",
       "<style scoped>\n",
       "    .dataframe tbody tr th:only-of-type {\n",
       "        vertical-align: middle;\n",
       "    }\n",
       "\n",
       "    .dataframe tbody tr th {\n",
       "        vertical-align: top;\n",
       "    }\n",
       "\n",
       "    .dataframe thead th {\n",
       "        text-align: right;\n",
       "    }\n",
       "</style>\n",
       "<table border=\"1\" class=\"dataframe\">\n",
       "  <thead>\n",
       "    <tr style=\"text-align: right;\">\n",
       "      <th></th>\n",
       "      <th>crim</th>\n",
       "      <th>zn</th>\n",
       "      <th>indus</th>\n",
       "      <th>chas</th>\n",
       "      <th>nox</th>\n",
       "      <th>rm</th>\n",
       "      <th>age</th>\n",
       "      <th>dis</th>\n",
       "      <th>rad</th>\n",
       "      <th>tax</th>\n",
       "      <th>ptratio</th>\n",
       "      <th>lstat</th>\n",
       "      <th>medv</th>\n",
       "    </tr>\n",
       "    <tr>\n",
       "      <th>property</th>\n",
       "      <th></th>\n",
       "      <th></th>\n",
       "      <th></th>\n",
       "      <th></th>\n",
       "      <th></th>\n",
       "      <th></th>\n",
       "      <th></th>\n",
       "      <th></th>\n",
       "      <th></th>\n",
       "      <th></th>\n",
       "      <th></th>\n",
       "      <th></th>\n",
       "      <th></th>\n",
       "    </tr>\n",
       "  </thead>\n",
       "  <tbody>\n",
       "    <tr>\n",
       "      <th>1</th>\n",
       "      <td>0.00632</td>\n",
       "      <td>18.0</td>\n",
       "      <td>2.31</td>\n",
       "      <td>0</td>\n",
       "      <td>0.538</td>\n",
       "      <td>6.575</td>\n",
       "      <td>65.2</td>\n",
       "      <td>4.0900</td>\n",
       "      <td>1</td>\n",
       "      <td>296</td>\n",
       "      <td>15.3</td>\n",
       "      <td>4.98</td>\n",
       "      <td>24.0</td>\n",
       "    </tr>\n",
       "    <tr>\n",
       "      <th>2</th>\n",
       "      <td>0.02731</td>\n",
       "      <td>0.0</td>\n",
       "      <td>7.07</td>\n",
       "      <td>0</td>\n",
       "      <td>0.469</td>\n",
       "      <td>6.421</td>\n",
       "      <td>78.9</td>\n",
       "      <td>4.9671</td>\n",
       "      <td>2</td>\n",
       "      <td>242</td>\n",
       "      <td>17.8</td>\n",
       "      <td>9.14</td>\n",
       "      <td>21.6</td>\n",
       "    </tr>\n",
       "    <tr>\n",
       "      <th>3</th>\n",
       "      <td>0.02729</td>\n",
       "      <td>0.0</td>\n",
       "      <td>7.07</td>\n",
       "      <td>0</td>\n",
       "      <td>0.469</td>\n",
       "      <td>7.185</td>\n",
       "      <td>61.1</td>\n",
       "      <td>4.9671</td>\n",
       "      <td>2</td>\n",
       "      <td>242</td>\n",
       "      <td>17.8</td>\n",
       "      <td>4.03</td>\n",
       "      <td>34.7</td>\n",
       "    </tr>\n",
       "    <tr>\n",
       "      <th>4</th>\n",
       "      <td>0.03237</td>\n",
       "      <td>0.0</td>\n",
       "      <td>2.18</td>\n",
       "      <td>0</td>\n",
       "      <td>0.458</td>\n",
       "      <td>6.998</td>\n",
       "      <td>45.8</td>\n",
       "      <td>6.0622</td>\n",
       "      <td>3</td>\n",
       "      <td>222</td>\n",
       "      <td>18.7</td>\n",
       "      <td>2.94</td>\n",
       "      <td>33.4</td>\n",
       "    </tr>\n",
       "    <tr>\n",
       "      <th>5</th>\n",
       "      <td>0.06905</td>\n",
       "      <td>0.0</td>\n",
       "      <td>2.18</td>\n",
       "      <td>0</td>\n",
       "      <td>0.458</td>\n",
       "      <td>7.147</td>\n",
       "      <td>54.2</td>\n",
       "      <td>6.0622</td>\n",
       "      <td>3</td>\n",
       "      <td>222</td>\n",
       "      <td>18.7</td>\n",
       "      <td>5.33</td>\n",
       "      <td>36.2</td>\n",
       "    </tr>\n",
       "  </tbody>\n",
       "</table>\n",
       "</div>"
      ],
      "text/plain": [
       "             crim    zn  indus  chas    nox     rm   age     dis  rad  tax  \\\n",
       "property                                                                     \n",
       "1         0.00632  18.0   2.31     0  0.538  6.575  65.2  4.0900    1  296   \n",
       "2         0.02731   0.0   7.07     0  0.469  6.421  78.9  4.9671    2  242   \n",
       "3         0.02729   0.0   7.07     0  0.469  7.185  61.1  4.9671    2  242   \n",
       "4         0.03237   0.0   2.18     0  0.458  6.998  45.8  6.0622    3  222   \n",
       "5         0.06905   0.0   2.18     0  0.458  7.147  54.2  6.0622    3  222   \n",
       "\n",
       "          ptratio  lstat  medv  \n",
       "property                        \n",
       "1            15.3   4.98  24.0  \n",
       "2            17.8   9.14  21.6  \n",
       "3            17.8   4.03  34.7  \n",
       "4            18.7   2.94  33.4  \n",
       "5            18.7   5.33  36.2  "
      ]
     },
     "execution_count": 2,
     "metadata": {},
     "output_type": "execute_result"
    }
   ],
   "source": [
    "housing = pd.read_csv(\"Boston.csv\")\n",
    "# Let's rename the index column and also set it as the de facto index:\n",
    "housing = housing.rename(columns={\"Unnamed: 0\": \"property\"})\n",
    "housing = housing.set_index(\"property\")\n",
    "\n",
    "print(housing.info())\n",
    "housing.head()"
   ]
  },
  {
   "cell_type": "markdown",
   "metadata": {},
   "source": [
    "__9 (a):__ Below we obtain the estimate $ \\hat{\\mu} = 22.5328 $."
   ]
  },
  {
   "cell_type": "code",
   "execution_count": null,
   "metadata": {},
   "outputs": [
    {
     "name": "stdout",
     "output_type": "stream",
     "text": [
      "22.5328\n"
     ]
    }
   ],
   "source": [
    "mu_hat = housing[\"medv\"].mean()\n",
    "print(round(mu_hat, 4))  # looks reasonable"
   ]
  },
  {
   "cell_type": "markdown",
   "metadata": {},
   "source": [
    "__9 (b):__ Following the formula in the hint:"
   ]
  },
  {
   "cell_type": "code",
   "execution_count": 4,
   "metadata": {},
   "outputs": [
    {
     "name": "stdout",
     "output_type": "stream",
     "text": [
      "Sample standard deviation: 9.1971\n",
      "Standard error of the mean: 0.4089\n"
     ]
    }
   ],
   "source": [
    "# sample standard deviation (estimate for sigma, the population standard deviation):\n",
    "s = housing[\"medv\"].std()\n",
    "print(f\"Sample standard deviation: {s:.4f}\")\n",
    "\n",
    "# standard error of the mean (estimate for sigma / sqrt(n)):\n",
    "n = len(housing)\n",
    "std_err = s / np.sqrt(n)\n",
    "print(f\"Standard error of the mean: {std_err:.4f}\")\n"
   ]
  },
  {
   "cell_type": "markdown",
   "metadata": {},
   "source": [
    "__9 (c):__ The estimate for the standard error computed using the bootstrap is\n",
    "quite close to the estimate computed using the sample standard deviation."
   ]
  },
  {
   "cell_type": "code",
   "execution_count": 23,
   "metadata": {},
   "outputs": [
    {
     "name": "stdout",
     "output_type": "stream",
     "text": [
      "0.4153379484767965\n"
     ]
    }
   ],
   "source": [
    "rng = np.random.default_rng(1)\n",
    "B = 1000\n",
    "bootstrap_means = np.zeros(B)\n",
    "for b in range(B):\n",
    "    boot_sample = rng.choice(n, size=n, replace=True)\n",
    "    boot_mu_estimate = housing[\"medv\"].iloc[boot_sample].mean()\n",
    "    bootstrap_means[b] = boot_mu_estimate\n",
    "bootstrap_se = bootstrap_means.std()\n",
    "print(bootstrap_se)"
   ]
  },
  {
   "cell_type": "markdown",
   "metadata": {},
   "source": [
    "__9 (d):__ Again, the two methods provide results that are very close."
   ]
  },
  {
   "cell_type": "code",
   "execution_count": 26,
   "metadata": {},
   "outputs": [
    {
     "name": "stdout",
     "output_type": "stream",
     "text": [
      "[21.70865119 23.35789032]\n",
      "[21.71508403 23.35052862]\n"
     ]
    }
   ],
   "source": [
    "confidence_int_boot = np.percentile(bootstrap_means, [2.5, 97.5])\n",
    "print(confidence_int_boot)\n",
    "confidence_int_2se = np.array([mu_hat - 2 * std_err, mu_hat + 2 * std_err])\n",
    "print(confidence_int_2se)"
   ]
  },
  {
   "cell_type": "markdown",
   "metadata": {},
   "source": [
    "__9 (e):__ An estimate for the population median is the sample median, which equals $ 21.2 $."
   ]
  },
  {
   "cell_type": "code",
   "execution_count": 31,
   "metadata": {},
   "outputs": [
    {
     "name": "stdout",
     "output_type": "stream",
     "text": [
      "21.2\n"
     ]
    }
   ],
   "source": [
    "median_hat = housing[\"medv\"].median()\n",
    "print(median_hat)"
   ]
  },
  {
   "cell_type": "markdown",
   "metadata": {},
   "source": [
    "__9 (f):__"
   ]
  },
  {
   "cell_type": "code",
   "execution_count": 39,
   "metadata": {},
   "outputs": [
    {
     "name": "stdout",
     "output_type": "stream",
     "text": [
      "0.38542053655714786\n"
     ]
    }
   ],
   "source": [
    "B = 1000\n",
    "rng = np.random.default_rng(1)\n",
    "bootstrap_medians = np.zeros(B)\n",
    "for b in range(B):\n",
    "    bootstrap_sample = rng.choice(n, size=n, replace=True)\n",
    "    mean_estimate = housing[\"medv\"].iloc[bootstrap_sample].median()\n",
    "    bootstrap_medians[b] = mean_estimate\n",
    "bootstrap_median_se = bootstrap_medians.std()\n",
    "print(bootstrap_median_se)"
   ]
  },
  {
   "cell_type": "markdown",
   "metadata": {},
   "source": [
    "__9 (g):__ An estimate for the tenth percentile of `medv` based on the dataset is $ 12.75 $."
   ]
  },
  {
   "cell_type": "code",
   "execution_count": 43,
   "metadata": {},
   "outputs": [
    {
     "name": "stdout",
     "output_type": "stream",
     "text": [
      "12.75\n"
     ]
    }
   ],
   "source": [
    "print(np.percentile(housing[\"medv\"], 10))"
   ]
  },
  {
   "cell_type": "markdown",
   "metadata": {},
   "source": [
    "__9 (h):__ Based on bootstrapping, an estimate for the standard error of $ \\hat{\\mu}_{0.1} $ is\n",
    "$ 0.523 $."
   ]
  },
  {
   "cell_type": "code",
   "execution_count": 47,
   "metadata": {},
   "outputs": [
    {
     "name": "stdout",
     "output_type": "stream",
     "text": [
      "0.5226133465574717\n"
     ]
    }
   ],
   "source": [
    "B = 1000\n",
    "rng = np.random.default_rng(1)\n",
    "bootstrap_percentiles = np.zeros(B)\n",
    "for b in range(B):\n",
    "    bootstrap_sample = rng.choice(n, size=n, replace=True)\n",
    "    bootstrap_percentiles[b] = np.percentile(housing[\"medv\"].iloc[bootstrap_sample], 10)\n",
    "bootstrap_percentile_se = bootstrap_percentiles.std()\n",
    "print(bootstrap_percentile_se)"
   ]
  },
  {
   "cell_type": "code",
   "execution_count": null,
   "metadata": {},
   "outputs": [],
   "source": []
  }
 ],
 "metadata": {
  "kernelspec": {
   "display_name": "islp",
   "language": "python",
   "name": "python3"
  },
  "language_info": {
   "codemirror_mode": {
    "name": "ipython",
    "version": 3
   },
   "file_extension": ".py",
   "mimetype": "text/x-python",
   "name": "python",
   "nbconvert_exporter": "python",
   "pygments_lexer": "ipython3",
   "version": "3.12.4"
  }
 },
 "nbformat": 4,
 "nbformat_minor": 2
}
