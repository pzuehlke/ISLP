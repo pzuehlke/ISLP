{
 "cells": [
  {
   "cell_type": "markdown",
   "metadata": {},
   "source": [
    "# ISLP - Chapter 5 - Exercise 6\n",
    "### Author: pzuehlke"
   ]
  },
  {
   "cell_type": "code",
   "execution_count": 24,
   "metadata": {},
   "outputs": [],
   "source": [
    "import pandas as pd\n",
    "import numpy as np\n",
    "import statsmodels.api as sm"
   ]
  },
  {
   "cell_type": "code",
   "execution_count": 95,
   "metadata": {},
   "outputs": [
    {
     "name": "stdout",
     "output_type": "stream",
     "text": [
      "<class 'pandas.core.frame.DataFrame'>\n",
      "RangeIndex: 10000 entries, 0 to 9999\n",
      "Data columns (total 4 columns):\n",
      " #   Column   Non-Null Count  Dtype  \n",
      "---  ------   --------------  -----  \n",
      " 0   default  10000 non-null  int64  \n",
      " 1   student  10000 non-null  object \n",
      " 2   balance  10000 non-null  float64\n",
      " 3   income   10000 non-null  float64\n",
      "dtypes: float64(2), int64(1), object(1)\n",
      "memory usage: 312.6+ KB\n",
      "None\n",
      "\n",
      "default\n",
      "0    9667\n",
      "1     333\n",
      "Name: count, dtype: int64\n",
      "\n"
     ]
    },
    {
     "data": {
      "text/html": [
       "<div>\n",
       "<style scoped>\n",
       "    .dataframe tbody tr th:only-of-type {\n",
       "        vertical-align: middle;\n",
       "    }\n",
       "\n",
       "    .dataframe tbody tr th {\n",
       "        vertical-align: top;\n",
       "    }\n",
       "\n",
       "    .dataframe thead th {\n",
       "        text-align: right;\n",
       "    }\n",
       "</style>\n",
       "<table border=\"1\" class=\"dataframe\">\n",
       "  <thead>\n",
       "    <tr style=\"text-align: right;\">\n",
       "      <th></th>\n",
       "      <th>default</th>\n",
       "      <th>student</th>\n",
       "      <th>balance</th>\n",
       "      <th>income</th>\n",
       "    </tr>\n",
       "  </thead>\n",
       "  <tbody>\n",
       "    <tr>\n",
       "      <th>0</th>\n",
       "      <td>0</td>\n",
       "      <td>No</td>\n",
       "      <td>0.729526</td>\n",
       "      <td>44.361625</td>\n",
       "    </tr>\n",
       "    <tr>\n",
       "      <th>1</th>\n",
       "      <td>0</td>\n",
       "      <td>Yes</td>\n",
       "      <td>0.817180</td>\n",
       "      <td>12.106135</td>\n",
       "    </tr>\n",
       "    <tr>\n",
       "      <th>2</th>\n",
       "      <td>0</td>\n",
       "      <td>No</td>\n",
       "      <td>1.073549</td>\n",
       "      <td>31.767139</td>\n",
       "    </tr>\n",
       "    <tr>\n",
       "      <th>3</th>\n",
       "      <td>0</td>\n",
       "      <td>No</td>\n",
       "      <td>0.529251</td>\n",
       "      <td>35.704494</td>\n",
       "    </tr>\n",
       "    <tr>\n",
       "      <th>4</th>\n",
       "      <td>0</td>\n",
       "      <td>No</td>\n",
       "      <td>0.785656</td>\n",
       "      <td>38.463496</td>\n",
       "    </tr>\n",
       "  </tbody>\n",
       "</table>\n",
       "</div>"
      ],
      "text/plain": [
       "   default student   balance     income\n",
       "0        0      No  0.729526  44.361625\n",
       "1        0     Yes  0.817180  12.106135\n",
       "2        0      No  1.073549  31.767139\n",
       "3        0      No  0.529251  35.704494\n",
       "4        0      No  0.785656  38.463496"
      ]
     },
     "execution_count": 95,
     "metadata": {},
     "output_type": "execute_result"
    }
   ],
   "source": [
    "# The preliminaries are similar to the ones used for exercise 5:\n",
    "default_data = pd.read_csv(\"Default.csv\")\n",
    "\n",
    "# Convert 'default' to binary (No -> 0 / Yes -> 1):\n",
    "default_data[\"default\"] = (default_data[\"default\"] == \"Yes\").astype(int)\n",
    "\n",
    "# This time, let's also divide both income and balance by 1000 (so that they\n",
    "# will now be denominated in thousands of dollars) to make the regression\n",
    "# coefficients larger:\n",
    "default_data[[\"income\", \"balance\"]] /= 1000\n",
    "\n",
    "print(default_data.info(), end=\"\\n\\n\")\n",
    "print(default_data[\"default\"].value_counts(), end=\"\\n\\n\")\n",
    "default_data.head()"
   ]
  },
  {
   "cell_type": "markdown",
   "metadata": {},
   "source": [
    "__6 (a):__ The coefficients associated to `income` and `balance` (here\n",
    "denominated in thousands of dollars) are $ 0.0208 $ and $ 5.6471 $, respectively,\n",
    "while the intercept is $ -11.5405 $. All of them seem to be statistically significant.\n",
    "\n",
    "The estimates provided for the standard errors are:\n",
    "* $ 0.005 $ for `income`;\n",
    "* $ 0.227 $ for `balance`;\n",
    "* $ 0.435 $ for the intercept.\n"
   ]
  },
  {
   "cell_type": "code",
   "execution_count": 30,
   "metadata": {},
   "outputs": [
    {
     "name": "stdout",
     "output_type": "stream",
     "text": [
      "default\n",
      "0    9667\n",
      "1     333\n",
      "Name: count, dtype: int64\n",
      "                 Generalized Linear Model Regression Results                  \n",
      "==============================================================================\n",
      "Dep. Variable:                default   No. Observations:                10000\n",
      "Model:                            GLM   Df Residuals:                     9997\n",
      "Model Family:                Binomial   Df Model:                            2\n",
      "Link Function:                  Logit   Scale:                          1.0000\n",
      "Method:                          IRLS   Log-Likelihood:                -789.48\n",
      "Date:                Sun, 09 Feb 2025   Deviance:                       1579.0\n",
      "Time:                        21:16:11   Pearson chi2:                 6.95e+03\n",
      "No. Iterations:                     9   Pseudo R-squ. (CS):             0.1256\n",
      "Covariance Type:            nonrobust                                         \n",
      "==============================================================================\n",
      "                 coef    std err          z      P>|z|      [0.025      0.975]\n",
      "------------------------------------------------------------------------------\n",
      "const        -11.5405      0.435    -26.544      0.000     -12.393     -10.688\n",
      "income         0.0208      0.005      4.174      0.000       0.011       0.031\n",
      "balance        5.6471      0.227     24.835      0.000       5.201       6.093\n",
      "==============================================================================\n"
     ]
    }
   ],
   "source": [
    "X = sm.add_constant(default_data[[\"income\", \"balance\"]])\n",
    "y = default_data[\"default\"]\n",
    "model = sm.GLM(y, X, family=sm.families.Binomial())\n",
    "results = model.fit()\n",
    "print(default_data[\"default\"].value_counts())\n",
    "\n",
    "print(results.summary())"
   ]
  },
  {
   "cell_type": "markdown",
   "metadata": {},
   "source": [
    "__6 (b):__ Basically, all that we have to do is to encode the solution of part\n",
    "(a) as a separate function:"
   ]
  },
  {
   "cell_type": "code",
   "execution_count": 94,
   "metadata": {},
   "outputs": [],
   "source": [
    "def boot_fn(data, indices):\n",
    "    boot_sample = data.iloc[indices]\n",
    "    X = sm.add_constant(boot_sample[[\"income\", \"balance\"]])\n",
    "    y = boot_sample[\"default\"]\n",
    "    model = sm.GLM(y, X, family=sm.families.Binomial())\n",
    "    results = model.fit()\n",
    "    # results.params order: [constant, income, balance]\n",
    "    return np.array([results.params[\"income\"], results.params[\"balance\"]])"
   ]
  },
  {
   "cell_type": "markdown",
   "metadata": {},
   "source": [
    "Let's test the function using as sample all of the indices. We can check that\n",
    "the results are the same as in part (b):"
   ]
  },
  {
   "cell_type": "code",
   "execution_count": 77,
   "metadata": {},
   "outputs": [
    {
     "name": "stdout",
     "output_type": "stream",
     "text": [
      "income coefficient: 0.020809\n",
      "balance coefficient: 5.647103\n"
     ]
    }
   ],
   "source": [
    "n = len(default_data)\n",
    "coefs = boot_fn(default_data, np.arange(n))\n",
    "print(f\"income coefficient: {coefs[0]:4f}\")\n",
    "print(f\"balance coefficient: {coefs[1]:4f}\")"
   ]
  },
  {
   "cell_type": "markdown",
   "metadata": {},
   "source": [
    "For another test, now let's use a bootstrap sample to estimate the coefficients.\n",
    "Note that there is no advantage to doing this: these estimates are very likely\n",
    "worse than the ones using the entire dataset without replacement."
   ]
  },
  {
   "cell_type": "code",
   "execution_count": 78,
   "metadata": {},
   "outputs": [
    {
     "name": "stdout",
     "output_type": "stream",
     "text": [
      "income coefficient: 0.018778\n",
      "balance coefficient: 5.738776\n"
     ]
    }
   ],
   "source": [
    "rng = np.random.default_rng(0)\n",
    "boot_estimates = boot_fn(default_data, rng.choice(n, size=n, replace=True))\n",
    "print(f\"income coefficient: {boot_estimates[0]:4f}\")\n",
    "print(f\"balance coefficient: {boot_estimates[1]:4f}\")"
   ]
  },
  {
   "cell_type": "markdown",
   "metadata": {},
   "source": [
    "__6 (c):__"
   ]
  },
  {
   "cell_type": "code",
   "execution_count": 90,
   "metadata": {},
   "outputs": [],
   "source": [
    "def boot_se(data, B, rng):\n",
    "    bootstrap_estimates = np.zeros((B, 2))  # `income` and `balance` coefficients\n",
    "    for i in range(B):\n",
    "        indices = rng.choice(n, size=n, replace=True)\n",
    "        bootstrap_estimates[i, :] = boot_fn(data, indices)\n",
    "\n",
    "    return np.std(bootstrap_estimates, axis=0)  # estimates for the standard errors"
   ]
  },
  {
   "cell_type": "code",
   "execution_count": 93,
   "metadata": {},
   "outputs": [
    {
     "name": "stdout",
     "output_type": "stream",
     "text": [
      "standard error for coef. of income: 0.0056\n",
      "standard error for coef. of balance: 0.2353\n"
     ]
    }
   ],
   "source": [
    "rng = np.random.default_rng(0)\n",
    "n = len(default_data)\n",
    "B = 10\n",
    "bootstrap_std_errors = boot_se(default_data, B, rng)\n",
    "print(f\"standard error for coef. of income: {bootstrap_std_errors[0]:.4f}\")\n",
    "print(f\"standard error for coef. of balance: {bootstrap_std_errors[1]:.4f}\")"
   ]
  },
  {
   "cell_type": "markdown",
   "metadata": {},
   "source": [
    "__6(d):__ Here is a summary of the estimates for the standard errors obtained by the two methods:\n",
    "\n",
    "|            | GLM std err  | bootstrap std err |\n",
    "|------------|--------------|-------------------|\n",
    "| _Income_   | 0.005        | 0.0056            |\n",
    "| _Balance_  | 0.227        | 0.2353            |\n",
    "\n",
    "We see that the bootstrap standard errors are quite close to those obtained\n",
    "from GLM, which validates both approaches and suggests that our model is\n",
    "well-specified for this data. Also, both bootstrap estimates are slightly\n",
    "larger.  This is a common and desirable characteristic of bootstrap standard\n",
    "errors, because they can capture more sources of variability in the data\n",
    "and are more robust to potential violations of model assumptions."
   ]
  }
 ],
 "metadata": {
  "kernelspec": {
   "display_name": "islp",
   "language": "python",
   "name": "python3"
  },
  "language_info": {
   "codemirror_mode": {
    "name": "ipython",
    "version": 3
   },
   "file_extension": ".py",
   "mimetype": "text/x-python",
   "name": "python",
   "nbconvert_exporter": "python",
   "pygments_lexer": "ipython3",
   "version": "3.12.4"
  }
 },
 "nbformat": 4,
 "nbformat_minor": 2
}
