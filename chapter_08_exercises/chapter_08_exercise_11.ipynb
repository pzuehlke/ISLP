{
 "cells": [
  {
   "cell_type": "markdown",
   "metadata": {},
   "source": [
    "# ISLP - Chapter 8 - Exercise 11\n",
    "### Author: pzuehlke"
   ]
  },
  {
   "cell_type": "code",
   "execution_count": 2,
   "metadata": {},
   "outputs": [],
   "source": [
    "import numpy as np\n",
    "import matplotlib.pyplot as plt\n",
    "import pandas as pd\n",
    "import seaborn as sns\n",
    "from sklearn.ensemble import GradientBoostingClassifier\n",
    "from sklearn.metrics import mean_squared_error\n",
    "from sklearn.metrics import confusion_matrix, classification_report\n",
    "from sklearn.preprocessing import LabelEncoder\n",
    "from sklearn.neighbors import KNeighborsClassifier\n",
    "from sklearn.linear_model import LogisticRegression"
   ]
  },
  {
   "cell_type": "code",
   "execution_count": 3,
   "metadata": {},
   "outputs": [
    {
     "name": "stdout",
     "output_type": "stream",
     "text": [
      "<class 'pandas.core.frame.DataFrame'>\n",
      "RangeIndex: 5822 entries, 0 to 5821\n",
      "Data columns (total 86 columns):\n",
      " #   Column    Non-Null Count  Dtype \n",
      "---  ------    --------------  ----- \n",
      " 0   MOSTYPE   5822 non-null   int64 \n",
      " 1   MAANTHUI  5822 non-null   int64 \n",
      " 2   MGEMOMV   5822 non-null   int64 \n",
      " 3   MGEMLEEF  5822 non-null   int64 \n",
      " 4   MOSHOOFD  5822 non-null   int64 \n",
      " 5   MGODRK    5822 non-null   int64 \n",
      " 6   MGODPR    5822 non-null   int64 \n",
      " 7   MGODOV    5822 non-null   int64 \n",
      " 8   MGODGE    5822 non-null   int64 \n",
      " 9   MRELGE    5822 non-null   int64 \n",
      " 10  MRELSA    5822 non-null   int64 \n",
      " 11  MRELOV    5822 non-null   int64 \n",
      " 12  MFALLEEN  5822 non-null   int64 \n",
      " 13  MFGEKIND  5822 non-null   int64 \n",
      " 14  MFWEKIND  5822 non-null   int64 \n",
      " 15  MOPLHOOG  5822 non-null   int64 \n",
      " 16  MOPLMIDD  5822 non-null   int64 \n",
      " 17  MOPLLAAG  5822 non-null   int64 \n",
      " 18  MBERHOOG  5822 non-null   int64 \n",
      " 19  MBERZELF  5822 non-null   int64 \n",
      " 20  MBERBOER  5822 non-null   int64 \n",
      " 21  MBERMIDD  5822 non-null   int64 \n",
      " 22  MBERARBG  5822 non-null   int64 \n",
      " 23  MBERARBO  5822 non-null   int64 \n",
      " 24  MSKA      5822 non-null   int64 \n",
      " 25  MSKB1     5822 non-null   int64 \n",
      " 26  MSKB2     5822 non-null   int64 \n",
      " 27  MSKC      5822 non-null   int64 \n",
      " 28  MSKD      5822 non-null   int64 \n",
      " 29  MHHUUR    5822 non-null   int64 \n",
      " 30  MHKOOP    5822 non-null   int64 \n",
      " 31  MAUT1     5822 non-null   int64 \n",
      " 32  MAUT2     5822 non-null   int64 \n",
      " 33  MAUT0     5822 non-null   int64 \n",
      " 34  MZFONDS   5822 non-null   int64 \n",
      " 35  MZPART    5822 non-null   int64 \n",
      " 36  MINKM30   5822 non-null   int64 \n",
      " 37  MINK3045  5822 non-null   int64 \n",
      " 38  MINK4575  5822 non-null   int64 \n",
      " 39  MINK7512  5822 non-null   int64 \n",
      " 40  MINK123M  5822 non-null   int64 \n",
      " 41  MINKGEM   5822 non-null   int64 \n",
      " 42  MKOOPKLA  5822 non-null   int64 \n",
      " 43  PWAPART   5822 non-null   int64 \n",
      " 44  PWABEDR   5822 non-null   int64 \n",
      " 45  PWALAND   5822 non-null   int64 \n",
      " 46  PPERSAUT  5822 non-null   int64 \n",
      " 47  PBESAUT   5822 non-null   int64 \n",
      " 48  PMOTSCO   5822 non-null   int64 \n",
      " 49  PVRAAUT   5822 non-null   int64 \n",
      " 50  PAANHANG  5822 non-null   int64 \n",
      " 51  PTRACTOR  5822 non-null   int64 \n",
      " 52  PWERKT    5822 non-null   int64 \n",
      " 53  PBROM     5822 non-null   int64 \n",
      " 54  PLEVEN    5822 non-null   int64 \n",
      " 55  PPERSONG  5822 non-null   int64 \n",
      " 56  PGEZONG   5822 non-null   int64 \n",
      " 57  PWAOREG   5822 non-null   int64 \n",
      " 58  PBRAND    5822 non-null   int64 \n",
      " 59  PZEILPL   5822 non-null   int64 \n",
      " 60  PPLEZIER  5822 non-null   int64 \n",
      " 61  PFIETS    5822 non-null   int64 \n",
      " 62  PINBOED   5822 non-null   int64 \n",
      " 63  PBYSTAND  5822 non-null   int64 \n",
      " 64  AWAPART   5822 non-null   int64 \n",
      " 65  AWABEDR   5822 non-null   int64 \n",
      " 66  AWALAND   5822 non-null   int64 \n",
      " 67  APERSAUT  5822 non-null   int64 \n",
      " 68  ABESAUT   5822 non-null   int64 \n",
      " 69  AMOTSCO   5822 non-null   int64 \n",
      " 70  AVRAAUT   5822 non-null   int64 \n",
      " 71  AAANHANG  5822 non-null   int64 \n",
      " 72  ATRACTOR  5822 non-null   int64 \n",
      " 73  AWERKT    5822 non-null   int64 \n",
      " 74  ABROM     5822 non-null   int64 \n",
      " 75  ALEVEN    5822 non-null   int64 \n",
      " 76  APERSONG  5822 non-null   int64 \n",
      " 77  AGEZONG   5822 non-null   int64 \n",
      " 78  AWAOREG   5822 non-null   int64 \n",
      " 79  ABRAND    5822 non-null   int64 \n",
      " 80  AZEILPL   5822 non-null   int64 \n",
      " 81  APLEZIER  5822 non-null   int64 \n",
      " 82  AFIETS    5822 non-null   int64 \n",
      " 83  AINBOED   5822 non-null   int64 \n",
      " 84  ABYSTAND  5822 non-null   int64 \n",
      " 85  Purchase  5822 non-null   object\n",
      "dtypes: int64(85), object(1)\n",
      "memory usage: 3.8+ MB\n"
     ]
    }
   ],
   "source": [
    "caravan = pd.read_csv(\"Caravan.csv\")\n",
    "caravan = caravan.dropna()\n",
    "caravan.info()"
   ]
  },
  {
   "cell_type": "markdown",
   "metadata": {},
   "source": [
    "We can see from this output that all columns in this dataset except for one have\n",
    "type `int64`. The only categorical variable, in fact, is the response\n",
    "`Purchase`, and it only takes on the values `Yes` or `No`:"
   ]
  },
  {
   "cell_type": "code",
   "execution_count": 4,
   "metadata": {},
   "outputs": [
    {
     "name": "stdout",
     "output_type": "stream",
     "text": [
      "['Purchase']\n",
      "['No' 'Yes']\n"
     ]
    }
   ],
   "source": [
    "object_cols = caravan.select_dtypes(include=[\"object\"]).columns\n",
    "print(list(object_cols))\n",
    "print(caravan[\"Purchase\"].unique())"
   ]
  },
  {
   "cell_type": "code",
   "execution_count": 48,
   "metadata": {},
   "outputs": [
    {
     "data": {
      "text/html": [
       "<div>\n",
       "<style scoped>\n",
       "    .dataframe tbody tr th:only-of-type {\n",
       "        vertical-align: middle;\n",
       "    }\n",
       "\n",
       "    .dataframe tbody tr th {\n",
       "        vertical-align: top;\n",
       "    }\n",
       "\n",
       "    .dataframe thead th {\n",
       "        text-align: right;\n",
       "    }\n",
       "</style>\n",
       "<table border=\"1\" class=\"dataframe\">\n",
       "  <thead>\n",
       "    <tr style=\"text-align: right;\">\n",
       "      <th></th>\n",
       "      <th>MOSTYPE</th>\n",
       "      <th>MAANTHUI</th>\n",
       "      <th>MGEMOMV</th>\n",
       "      <th>MGEMLEEF</th>\n",
       "      <th>MOSHOOFD</th>\n",
       "      <th>MGODRK</th>\n",
       "      <th>MGODPR</th>\n",
       "      <th>MGODOV</th>\n",
       "      <th>MGODGE</th>\n",
       "      <th>MRELGE</th>\n",
       "      <th>...</th>\n",
       "      <th>APERSONG</th>\n",
       "      <th>AGEZONG</th>\n",
       "      <th>AWAOREG</th>\n",
       "      <th>ABRAND</th>\n",
       "      <th>AZEILPL</th>\n",
       "      <th>APLEZIER</th>\n",
       "      <th>AFIETS</th>\n",
       "      <th>AINBOED</th>\n",
       "      <th>ABYSTAND</th>\n",
       "      <th>Purchase</th>\n",
       "    </tr>\n",
       "  </thead>\n",
       "  <tbody>\n",
       "    <tr>\n",
       "      <th>0</th>\n",
       "      <td>33</td>\n",
       "      <td>1</td>\n",
       "      <td>3</td>\n",
       "      <td>2</td>\n",
       "      <td>8</td>\n",
       "      <td>0</td>\n",
       "      <td>5</td>\n",
       "      <td>1</td>\n",
       "      <td>3</td>\n",
       "      <td>7</td>\n",
       "      <td>...</td>\n",
       "      <td>0</td>\n",
       "      <td>0</td>\n",
       "      <td>0</td>\n",
       "      <td>1</td>\n",
       "      <td>0</td>\n",
       "      <td>0</td>\n",
       "      <td>0</td>\n",
       "      <td>0</td>\n",
       "      <td>0</td>\n",
       "      <td>No</td>\n",
       "    </tr>\n",
       "    <tr>\n",
       "      <th>1</th>\n",
       "      <td>37</td>\n",
       "      <td>1</td>\n",
       "      <td>2</td>\n",
       "      <td>2</td>\n",
       "      <td>8</td>\n",
       "      <td>1</td>\n",
       "      <td>4</td>\n",
       "      <td>1</td>\n",
       "      <td>4</td>\n",
       "      <td>6</td>\n",
       "      <td>...</td>\n",
       "      <td>0</td>\n",
       "      <td>0</td>\n",
       "      <td>0</td>\n",
       "      <td>1</td>\n",
       "      <td>0</td>\n",
       "      <td>0</td>\n",
       "      <td>0</td>\n",
       "      <td>0</td>\n",
       "      <td>0</td>\n",
       "      <td>No</td>\n",
       "    </tr>\n",
       "    <tr>\n",
       "      <th>2</th>\n",
       "      <td>37</td>\n",
       "      <td>1</td>\n",
       "      <td>2</td>\n",
       "      <td>2</td>\n",
       "      <td>8</td>\n",
       "      <td>0</td>\n",
       "      <td>4</td>\n",
       "      <td>2</td>\n",
       "      <td>4</td>\n",
       "      <td>3</td>\n",
       "      <td>...</td>\n",
       "      <td>0</td>\n",
       "      <td>0</td>\n",
       "      <td>0</td>\n",
       "      <td>1</td>\n",
       "      <td>0</td>\n",
       "      <td>0</td>\n",
       "      <td>0</td>\n",
       "      <td>0</td>\n",
       "      <td>0</td>\n",
       "      <td>No</td>\n",
       "    </tr>\n",
       "    <tr>\n",
       "      <th>3</th>\n",
       "      <td>9</td>\n",
       "      <td>1</td>\n",
       "      <td>3</td>\n",
       "      <td>3</td>\n",
       "      <td>3</td>\n",
       "      <td>2</td>\n",
       "      <td>3</td>\n",
       "      <td>2</td>\n",
       "      <td>4</td>\n",
       "      <td>5</td>\n",
       "      <td>...</td>\n",
       "      <td>0</td>\n",
       "      <td>0</td>\n",
       "      <td>0</td>\n",
       "      <td>1</td>\n",
       "      <td>0</td>\n",
       "      <td>0</td>\n",
       "      <td>0</td>\n",
       "      <td>0</td>\n",
       "      <td>0</td>\n",
       "      <td>No</td>\n",
       "    </tr>\n",
       "    <tr>\n",
       "      <th>4</th>\n",
       "      <td>40</td>\n",
       "      <td>1</td>\n",
       "      <td>4</td>\n",
       "      <td>2</td>\n",
       "      <td>10</td>\n",
       "      <td>1</td>\n",
       "      <td>4</td>\n",
       "      <td>1</td>\n",
       "      <td>4</td>\n",
       "      <td>7</td>\n",
       "      <td>...</td>\n",
       "      <td>0</td>\n",
       "      <td>0</td>\n",
       "      <td>0</td>\n",
       "      <td>1</td>\n",
       "      <td>0</td>\n",
       "      <td>0</td>\n",
       "      <td>0</td>\n",
       "      <td>0</td>\n",
       "      <td>0</td>\n",
       "      <td>No</td>\n",
       "    </tr>\n",
       "  </tbody>\n",
       "</table>\n",
       "<p>5 rows × 86 columns</p>\n",
       "</div>"
      ],
      "text/plain": [
       "   MOSTYPE  MAANTHUI  MGEMOMV  MGEMLEEF  MOSHOOFD  MGODRK  MGODPR  MGODOV  \\\n",
       "0       33         1        3         2         8       0       5       1   \n",
       "1       37         1        2         2         8       1       4       1   \n",
       "2       37         1        2         2         8       0       4       2   \n",
       "3        9         1        3         3         3       2       3       2   \n",
       "4       40         1        4         2        10       1       4       1   \n",
       "\n",
       "   MGODGE  MRELGE  ...  APERSONG  AGEZONG  AWAOREG  ABRAND  AZEILPL  APLEZIER  \\\n",
       "0       3       7  ...         0        0        0       1        0         0   \n",
       "1       4       6  ...         0        0        0       1        0         0   \n",
       "2       4       3  ...         0        0        0       1        0         0   \n",
       "3       4       5  ...         0        0        0       1        0         0   \n",
       "4       4       7  ...         0        0        0       1        0         0   \n",
       "\n",
       "   AFIETS  AINBOED  ABYSTAND  Purchase  \n",
       "0       0        0         0        No  \n",
       "1       0        0         0        No  \n",
       "2       0        0         0        No  \n",
       "3       0        0         0        No  \n",
       "4       0        0         0        No  \n",
       "\n",
       "[5 rows x 86 columns]"
      ]
     },
     "execution_count": 48,
     "metadata": {},
     "output_type": "execute_result"
    }
   ],
   "source": [
    "caravan.head()"
   ]
  },
  {
   "cell_type": "markdown",
   "metadata": {},
   "source": [
    "__11 (a):__ Note that there are $ n = 5822 $ observations in total and that the\n",
    "statement doesn't ask for a random split of the data as in most exercises, but\n",
    "rather for the first $ t = 1\\,000 $ observations to go into the training data."
   ]
  },
  {
   "cell_type": "code",
   "execution_count": 5,
   "metadata": {},
   "outputs": [],
   "source": [
    "X = caravan.drop([\"Purchase\"], axis=1)\n",
    "le = LabelEncoder()  # LabelEncoder is alphabetical: `No` -> 0, `Yes` -> 1\n",
    "y = pd.Series(le.fit_transform(caravan[\"Purchase\"]))\n",
    "\n",
    "t = 1_000\n",
    "X_train = X.iloc[:t]\n",
    "y_train = y.iloc[:t]\n",
    "X_test = X.iloc[t:]\n",
    "y_test = y.iloc[t:]"
   ]
  },
  {
   "cell_type": "markdown",
   "metadata": {},
   "source": [
    "__11 (b):__"
   ]
  },
  {
   "cell_type": "code",
   "execution_count": 6,
   "metadata": {},
   "outputs": [
    {
     "name": "stdout",
     "output_type": "stream",
     "text": [
      "Training error rate: 0.0280\n"
     ]
    }
   ],
   "source": [
    "gbc = GradientBoostingClassifier(\n",
    "    n_estimators=1_000, learning_rate=0.01, random_state=0\n",
    ")\n",
    "gbc.fit(X_train, y_train)\n",
    "training_pred = gbc.predict(X_train)\n",
    "\n",
    "train_accuracy = gbc.score(X_train, y_train)\n",
    "train_error_rate = 1 - train_accuracy\n",
    "print(f\"Training error rate: {train_error_rate:.4f}\")"
   ]
  },
  {
   "cell_type": "code",
   "execution_count": 7,
   "metadata": {},
   "outputs": [],
   "source": [
    "feature_importances = pd.DataFrame({\n",
    "    \"Feature\": X.columns,\n",
    "    \"Importance\": gbc.feature_importances_,\n",
    "}).sort_values(\"Importance\", ascending=False)"
   ]
  },
  {
   "cell_type": "markdown",
   "metadata": {},
   "source": [
    "The top $ 10 $ features are the following:"
   ]
  },
  {
   "cell_type": "code",
   "execution_count": 8,
   "metadata": {},
   "outputs": [
    {
     "name": "stdout",
     "output_type": "stream",
     "text": [
      "     Feature  Importance\n",
      "46  PPERSAUT    0.074593\n",
      "0    MOSTYPE    0.067753\n",
      "79    ABRAND    0.056449\n",
      "8     MGODGE    0.052966\n",
      "42  MKOOPKLA    0.047598\n",
      "15  MOPLHOOG    0.045629\n",
      "21  MBERMIDD    0.040828\n",
      "60  PPLEZIER    0.033812\n",
      "6     MGODPR    0.033330\n",
      "69   AMOTSCO    0.030323\n"
     ]
    }
   ],
   "source": [
    "print(feature_importances.head(10))"
   ]
  },
  {
   "cell_type": "markdown",
   "metadata": {},
   "source": [
    "__11 (c):__ If we use the default probability of $ 50\\% $ to predict purchases, then the test error rate is approximately $ 6.6\\% $:"
   ]
  },
  {
   "cell_type": "code",
   "execution_count": 9,
   "metadata": {},
   "outputs": [
    {
     "name": "stdout",
     "output_type": "stream",
     "text": [
      "Test error rate: 0.0662\n"
     ]
    }
   ],
   "source": [
    "test_pred = gbc.predict(X_test)\n",
    "test_accuracy = gbc.score(X_test, y_test)\n",
    "test_error_rate = 1 - test_accuracy\n",
    "print(f\"Test error rate: {test_error_rate:.4f}\")"
   ]
  },
  {
   "cell_type": "markdown",
   "metadata": {},
   "source": [
    "If we use a threshold of $ 20\\% $ to predict purchases, then the test error rate rises to $ 9.3\\% $:"
   ]
  },
  {
   "cell_type": "code",
   "execution_count": 10,
   "metadata": {},
   "outputs": [
    {
     "name": "stdout",
     "output_type": "stream",
     "text": [
      "Test error rate: 0.0931\n"
     ]
    }
   ],
   "source": [
    "y_probs = gbc.predict_proba(X_test)[:, 1]\n",
    "y_pred = (y_probs > 0.2).astype(int)\n",
    "test_error_rate = 1 - np.mean(y_pred == y_test)\n",
    "print(f\"Test error rate: {test_error_rate:.4f}\")"
   ]
  },
  {
   "cell_type": "markdown",
   "metadata": {},
   "source": [
    "Let's determine and plot the confusion matrix:"
   ]
  },
  {
   "cell_type": "code",
   "execution_count": 11,
   "metadata": {},
   "outputs": [],
   "source": [
    "conf_matrix = confusion_matrix(y_test, y_pred)"
   ]
  },
  {
   "cell_type": "code",
   "execution_count": 12,
   "metadata": {},
   "outputs": [
    {
     "data": {
      "image/png": "[encoded data removed]",
      "text/plain": [
       "<Figure size 400x400 with 1 Axes>"
      ]
     },
     "metadata": {},
     "output_type": "display_data"
    }
   ],
   "source": [
    "plt.figure(figsize=(4, 4))\n",
    "sns.heatmap(conf_matrix, \n",
    "            annot=True, \n",
    "            cbar=False,\n",
    "            fmt=\"d\",\n",
    "            cmap=\"Blues\",\n",
    "            xticklabels=[\"No\", \"Yes\"],\n",
    "            yticklabels=[\"No\", \"Yes\"])\n",
    "plt.title(\"Confusion matrix\")\n",
    "plt.xlabel(\"predicted\")\n",
    "plt.ylabel(\"actual\")\n",
    "plt.tight_layout()"
   ]
  },
  {
   "cell_type": "markdown",
   "metadata": {},
   "source": [
    "The fraction of people predicted to make a purchase who do actually make a\n",
    "purchase (i.e., the _precision_) is $ 16.1\\% $ when using a $ 20\\% $ threshold."
   ]
  },
  {
   "cell_type": "code",
   "execution_count": 13,
   "metadata": {},
   "outputs": [
    {
     "name": "stdout",
     "output_type": "stream",
     "text": [
      "0.16101694915254236\n"
     ]
    }
   ],
   "source": [
    "fp, tp = conf_matrix[:, 1]\n",
    "precision = tp / (fp + tp)\n",
    "print(precision)"
   ]
  },
  {
   "cell_type": "markdown",
   "metadata": {},
   "source": [
    "For comparison, using a $ 50\\% $ threshold to predict purchases, the precision improves to $ 25\\% $:"
   ]
  },
  {
   "cell_type": "code",
   "execution_count": 14,
   "metadata": {},
   "outputs": [
    {
     "name": "stdout",
     "output_type": "stream",
     "text": [
      "0.25\n"
     ]
    }
   ],
   "source": [
    "conf_matrix = confusion_matrix(y_test, test_pred)\n",
    "fp_50, tp_50 = conf_matrix[:, 1]\n",
    "precision_50 = tp_50 / (fp_50 + tp_50)\n",
    "print(precision_50)"
   ]
  },
  {
   "cell_type": "markdown",
   "metadata": {},
   "source": [
    "Now let's fit a logistic regression and KNN models, and compare them to boosting. We begin\n",
    "with the following function to evaluate each model's performance:"
   ]
  },
  {
   "cell_type": "code",
   "execution_count": 15,
   "metadata": {},
   "outputs": [],
   "source": [
    "def get_metrics(model, X_test, y_test, threshold=0.2):\n",
    "    y_prob = model.predict_proba(X_test)[:, 1]\n",
    "    y_pred = (y_prob > threshold).astype(int)\n",
    "    conf_matrix = confusion_matrix(y_test, y_pred)\n",
    "    accuracy = model.score(X_test, y_test)\n",
    "    error_rate = 1 - accuracy\n",
    "    precision = conf_matrix[1, 1] / (conf_matrix[1, 1] + conf_matrix[0, 1])\n",
    "    return error_rate, precision, conf_matrix"
   ]
  },
  {
   "cell_type": "markdown",
   "metadata": {},
   "source": [
    "We begin by fitting the LR model and evaluating its performance:"
   ]
  },
  {
   "cell_type": "code",
   "execution_count": 22,
   "metadata": {},
   "outputs": [
    {
     "name": "stdout",
     "output_type": "stream",
     "text": [
      "Test error rate for logistic regression: 0.0655\n",
      "Precision for logistic regression: 0.1777\n",
      "\n",
      "Test error rate for the boosting model: 0.0931\n",
      "Precision for the boosting model: 0.1515\n"
     ]
    }
   ],
   "source": [
    "lr = LogisticRegression(max_iter=1_000, random_state=0)\n",
    "lr.fit(X_train, y_train)\n",
    "lr_error_rate, lr_precision, lr_conf_matrix = \\\n",
    "    get_metrics(lr, X_test, y_test, threshold=0.2)\n",
    "\n",
    "print(f\"Test error rate for logistic regression: {lr_error_rate:.4f}\")\n",
    "print(f\"Precision for logistic regression: {lr_precision:.4f}\")\n",
    "print(f\"\\nTest error rate for the boosting model: {test_error_rate:.4f}\")\n",
    "print(f\"Precision for the boosting model: {precision:.4f}\")"
   ]
  },
  {
   "cell_type": "markdown",
   "metadata": {},
   "source": [
    "In summary, logistic regression yields both a better error rate and a better precision than the boosting model \n",
    "when a threshold of $ 20\\% $ is used for both in predicting a purchase."
   ]
  },
  {
   "cell_type": "code",
   "execution_count": 16,
   "metadata": {},
   "outputs": [],
   "source": [
    "K_values = list(range(1, 41, 2))\n",
    "knn_results = []\n",
    "\n",
    "for K in K_values:\n",
    "    knn = KNeighborsClassifier(n_neighbors=K)\n",
    "    knn.fit(X_train, y_train)\n",
    "    error, precision, conf = get_metrics(knn, X_test, y_test)\n",
    "    knn_results.append({\n",
    "        \"K\": K,\n",
    "        \"error_rate\": error,\n",
    "        \"precision\": precision,\n",
    "        \"model\": knn,\n",
    "        \"conf_matrix\": conf\n",
    "    })\n",
    "\n",
    "# Find the best KNN model based on error rate:\n",
    "best_index = np.argmin([result[\"error_rate\"] for result in knn_results])\n",
    "best_K = K_values[best_index]\n",
    "best_knn_model = knn_results[best_index][\"model\"]\n",
    "best_knn_error = knn_results[best_index][\"error_rate\"]\n",
    "best_knn_precision = knn_results[best_index][\"precision\"]\n",
    "best_knn_conf = knn_results[best_index][\"conf_matrix\"]"
   ]
  },
  {
   "cell_type": "code",
   "execution_count": 17,
   "metadata": {},
   "outputs": [
    {
     "name": "stdout",
     "output_type": "stream",
     "text": [
      "\n",
      "Best K value: 13\n",
      "Test error rate for KNN-13: 0.0599\n",
      "Precision for KNN-13: 0.1514\n"
     ]
    }
   ],
   "source": [
    "print(f\"\\nBest K value: {best_K}\")\n",
    "print(f\"Test error rate for KNN-{best_K}: {best_knn_error:.4f}\")\n",
    "print(f\"Precision for KNN-{best_K}: {best_knn_precision:.4f}\")"
   ]
  },
  {
   "cell_type": "markdown",
   "metadata": {},
   "source": [
    "We conclude that KNN yields the best error rate (though not by much) and has almost exactly the same precision as the boosting model, which is worse than that of logistic regression."
   ]
  },
  {
   "cell_type": "markdown",
   "metadata": {},
   "source": []
  }
 ],
 "metadata": {
  "kernelspec": {
   "display_name": "islp",
   "language": "python",
   "name": "python3"
  },
  "language_info": {
   "codemirror_mode": {
    "name": "ipython",
    "version": 3
   },
   "file_extension": ".py",
   "mimetype": "text/x-python",
   "name": "python",
   "nbconvert_exporter": "python",
   "pygments_lexer": "ipython3",
   "version": "3.12.4"
  }
 },
 "nbformat": 4,
 "nbformat_minor": 2
}
