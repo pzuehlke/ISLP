{
 "cells": [
  {
   "cell_type": "markdown",
   "metadata": {},
   "source": [
    "# ISLP - Chapter 9 - Exercise 8\n",
    "### Author: pzuehlke"
   ]
  },
  {
   "cell_type": "code",
   "execution_count": 1,
   "metadata": {},
   "outputs": [],
   "source": [
    "import numpy as np\n",
    "import pandas as pd\n",
    "import matplotlib.pyplot as plt\n",
    "\n",
    "from sklearn.model_selection import train_test_split, GridSearchCV\n",
    "from sklearn.preprocessing import StandardScaler\n",
    "from sklearn.svm import SVC\n",
    "from sklearn.metrics import accuracy_score"
   ]
  },
  {
   "cell_type": "markdown",
   "metadata": {},
   "source": [
    "As always, we begin by reading and cleaning the data:"
   ]
  },
  {
   "cell_type": "code",
   "execution_count": 2,
   "metadata": {},
   "outputs": [
    {
     "name": "stdout",
     "output_type": "stream",
     "text": [
      "<class 'pandas.core.frame.DataFrame'>\n",
      "RangeIndex: 1070 entries, 0 to 1069\n",
      "Data columns (total 18 columns):\n",
      " #   Column          Non-Null Count  Dtype  \n",
      "---  ------          --------------  -----  \n",
      " 0   Purchase        1070 non-null   object \n",
      " 1   WeekofPurchase  1070 non-null   int64  \n",
      " 2   StoreID         1070 non-null   int64  \n",
      " 3   PriceCH         1070 non-null   float64\n",
      " 4   PriceMM         1070 non-null   float64\n",
      " 5   DiscCH          1070 non-null   float64\n",
      " 6   DiscMM          1070 non-null   float64\n",
      " 7   SpecialCH       1070 non-null   int64  \n",
      " 8   SpecialMM       1070 non-null   int64  \n",
      " 9   LoyalCH         1070 non-null   float64\n",
      " 10  SalePriceMM     1070 non-null   float64\n",
      " 11  SalePriceCH     1070 non-null   float64\n",
      " 12  PriceDiff       1070 non-null   float64\n",
      " 13  Store7          1070 non-null   object \n",
      " 14  PctDiscMM       1070 non-null   float64\n",
      " 15  PctDiscCH       1070 non-null   float64\n",
      " 16  ListPriceDiff   1070 non-null   float64\n",
      " 17  STORE           1070 non-null   int64  \n",
      "dtypes: float64(11), int64(5), object(2)\n",
      "memory usage: 150.6+ KB\n"
     ]
    }
   ],
   "source": [
    "oj = pd.read_csv(\"OJ.csv\")\n",
    "oj.dropna(inplace=True)\n",
    "oj.info()"
   ]
  },
  {
   "cell_type": "code",
   "execution_count": 3,
   "metadata": {},
   "outputs": [
    {
     "data": {
      "text/html": [
       "<div>\n",
       "<style scoped>\n",
       "    .dataframe tbody tr th:only-of-type {\n",
       "        vertical-align: middle;\n",
       "    }\n",
       "\n",
       "    .dataframe tbody tr th {\n",
       "        vertical-align: top;\n",
       "    }\n",
       "\n",
       "    .dataframe thead th {\n",
       "        text-align: right;\n",
       "    }\n",
       "</style>\n",
       "<table border=\"1\" class=\"dataframe\">\n",
       "  <thead>\n",
       "    <tr style=\"text-align: right;\">\n",
       "      <th></th>\n",
       "      <th>Purchase</th>\n",
       "      <th>WeekofPurchase</th>\n",
       "      <th>StoreID</th>\n",
       "      <th>PriceCH</th>\n",
       "      <th>PriceMM</th>\n",
       "      <th>DiscCH</th>\n",
       "      <th>DiscMM</th>\n",
       "      <th>SpecialCH</th>\n",
       "      <th>SpecialMM</th>\n",
       "      <th>LoyalCH</th>\n",
       "      <th>SalePriceMM</th>\n",
       "      <th>SalePriceCH</th>\n",
       "      <th>PriceDiff</th>\n",
       "      <th>Store7</th>\n",
       "      <th>PctDiscMM</th>\n",
       "      <th>PctDiscCH</th>\n",
       "      <th>ListPriceDiff</th>\n",
       "      <th>STORE</th>\n",
       "    </tr>\n",
       "  </thead>\n",
       "  <tbody>\n",
       "    <tr>\n",
       "      <th>0</th>\n",
       "      <td>CH</td>\n",
       "      <td>237</td>\n",
       "      <td>1</td>\n",
       "      <td>1.75</td>\n",
       "      <td>1.99</td>\n",
       "      <td>0.00</td>\n",
       "      <td>0.0</td>\n",
       "      <td>0</td>\n",
       "      <td>0</td>\n",
       "      <td>0.500000</td>\n",
       "      <td>1.99</td>\n",
       "      <td>1.75</td>\n",
       "      <td>0.24</td>\n",
       "      <td>No</td>\n",
       "      <td>0.000000</td>\n",
       "      <td>0.000000</td>\n",
       "      <td>0.24</td>\n",
       "      <td>1</td>\n",
       "    </tr>\n",
       "    <tr>\n",
       "      <th>1</th>\n",
       "      <td>CH</td>\n",
       "      <td>239</td>\n",
       "      <td>1</td>\n",
       "      <td>1.75</td>\n",
       "      <td>1.99</td>\n",
       "      <td>0.00</td>\n",
       "      <td>0.3</td>\n",
       "      <td>0</td>\n",
       "      <td>1</td>\n",
       "      <td>0.600000</td>\n",
       "      <td>1.69</td>\n",
       "      <td>1.75</td>\n",
       "      <td>-0.06</td>\n",
       "      <td>No</td>\n",
       "      <td>0.150754</td>\n",
       "      <td>0.000000</td>\n",
       "      <td>0.24</td>\n",
       "      <td>1</td>\n",
       "    </tr>\n",
       "    <tr>\n",
       "      <th>2</th>\n",
       "      <td>CH</td>\n",
       "      <td>245</td>\n",
       "      <td>1</td>\n",
       "      <td>1.86</td>\n",
       "      <td>2.09</td>\n",
       "      <td>0.17</td>\n",
       "      <td>0.0</td>\n",
       "      <td>0</td>\n",
       "      <td>0</td>\n",
       "      <td>0.680000</td>\n",
       "      <td>2.09</td>\n",
       "      <td>1.69</td>\n",
       "      <td>0.40</td>\n",
       "      <td>No</td>\n",
       "      <td>0.000000</td>\n",
       "      <td>0.091398</td>\n",
       "      <td>0.23</td>\n",
       "      <td>1</td>\n",
       "    </tr>\n",
       "    <tr>\n",
       "      <th>3</th>\n",
       "      <td>MM</td>\n",
       "      <td>227</td>\n",
       "      <td>1</td>\n",
       "      <td>1.69</td>\n",
       "      <td>1.69</td>\n",
       "      <td>0.00</td>\n",
       "      <td>0.0</td>\n",
       "      <td>0</td>\n",
       "      <td>0</td>\n",
       "      <td>0.400000</td>\n",
       "      <td>1.69</td>\n",
       "      <td>1.69</td>\n",
       "      <td>0.00</td>\n",
       "      <td>No</td>\n",
       "      <td>0.000000</td>\n",
       "      <td>0.000000</td>\n",
       "      <td>0.00</td>\n",
       "      <td>1</td>\n",
       "    </tr>\n",
       "    <tr>\n",
       "      <th>4</th>\n",
       "      <td>CH</td>\n",
       "      <td>228</td>\n",
       "      <td>7</td>\n",
       "      <td>1.69</td>\n",
       "      <td>1.69</td>\n",
       "      <td>0.00</td>\n",
       "      <td>0.0</td>\n",
       "      <td>0</td>\n",
       "      <td>0</td>\n",
       "      <td>0.956535</td>\n",
       "      <td>1.69</td>\n",
       "      <td>1.69</td>\n",
       "      <td>0.00</td>\n",
       "      <td>Yes</td>\n",
       "      <td>0.000000</td>\n",
       "      <td>0.000000</td>\n",
       "      <td>0.00</td>\n",
       "      <td>0</td>\n",
       "    </tr>\n",
       "  </tbody>\n",
       "</table>\n",
       "</div>"
      ],
      "text/plain": [
       "  Purchase  WeekofPurchase  StoreID  PriceCH  PriceMM  DiscCH  DiscMM  \\\n",
       "0       CH             237        1     1.75     1.99    0.00     0.0   \n",
       "1       CH             239        1     1.75     1.99    0.00     0.3   \n",
       "2       CH             245        1     1.86     2.09    0.17     0.0   \n",
       "3       MM             227        1     1.69     1.69    0.00     0.0   \n",
       "4       CH             228        7     1.69     1.69    0.00     0.0   \n",
       "\n",
       "   SpecialCH  SpecialMM   LoyalCH  SalePriceMM  SalePriceCH  PriceDiff Store7  \\\n",
       "0          0          0  0.500000         1.99         1.75       0.24     No   \n",
       "1          0          1  0.600000         1.69         1.75      -0.06     No   \n",
       "2          0          0  0.680000         2.09         1.69       0.40     No   \n",
       "3          0          0  0.400000         1.69         1.69       0.00     No   \n",
       "4          0          0  0.956535         1.69         1.69       0.00    Yes   \n",
       "\n",
       "   PctDiscMM  PctDiscCH  ListPriceDiff  STORE  \n",
       "0   0.000000   0.000000           0.24      1  \n",
       "1   0.150754   0.000000           0.24      1  \n",
       "2   0.000000   0.091398           0.23      1  \n",
       "3   0.000000   0.000000           0.00      1  \n",
       "4   0.000000   0.000000           0.00      0  "
      ]
     },
     "execution_count": 3,
     "metadata": {},
     "output_type": "execute_result"
    }
   ],
   "source": [
    "oj.head()"
   ]
  },
  {
   "cell_type": "markdown",
   "metadata": {},
   "source": [
    "We will remove the column `Store7` from consideration since it is redundant with\n",
    "the column `STORE` (besides having a datatype that would need to be converted to\n",
    "work with our models)."
   ]
  },
  {
   "cell_type": "code",
   "execution_count": 4,
   "metadata": {},
   "outputs": [],
   "source": [
    "X = oj.drop(columns=[\"Purchase\", \"Store7\"], axis=1)\n",
    "y = oj[\"Purchase\"]"
   ]
  },
  {
   "cell_type": "markdown",
   "metadata": {},
   "source": [
    "__8 (a):__ The feature matrix has $ 16 $ columns, the training sets will have $ 800 $ observations\n",
    "while the test set will contain the remaining $ 270 $."
   ]
  },
  {
   "cell_type": "code",
   "execution_count": 5,
   "metadata": {},
   "outputs": [
    {
     "name": "stdout",
     "output_type": "stream",
     "text": [
      "Training set shape: (800, 16)\n",
      "Test set shape: (270, 16)\n"
     ]
    }
   ],
   "source": [
    "X_train, X_test, y_train, y_test = train_test_split(\n",
    "    X, y, train_size=800, random_state=0, shuffle=True\n",
    ")\n",
    "print(f\"Training set shape: {X_train.shape}\")\n",
    "print(f\"Test set shape: {X_test.shape}\")"
   ]
  },
  {
   "cell_type": "markdown",
   "metadata": {},
   "source": [
    "Since the SVC is based on the euclidean distance between observations, we should\n",
    "standardize the scale of the features."
   ]
  },
  {
   "cell_type": "code",
   "execution_count": 6,
   "metadata": {},
   "outputs": [],
   "source": [
    "scaler = StandardScaler()\n",
    "X_train = scaler.fit_transform(X_train)\n",
    "X_test  = scaler.transform(X_test)"
   ]
  },
  {
   "cell_type": "markdown",
   "metadata": {},
   "source": [
    "__8 (b):__ There are $ 429 = 215 + 214 $ support vectors for this model:"
   ]
  },
  {
   "cell_type": "code",
   "execution_count": 7,
   "metadata": {},
   "outputs": [
    {
     "name": "stdout",
     "output_type": "stream",
     "text": [
      "Number of support vectors = 429\n",
      "Distribution of the support vectors on either side: [215 214]\n"
     ]
    }
   ],
   "source": [
    "svc_linear = SVC(kernel=\"linear\", C=0.01)\n",
    "svc_linear.fit(X_train, y_train)\n",
    "\n",
    "n_support_linear = svc_linear.n_support_.sum()\n",
    "print(f\"Number of support vectors = {n_support_linear}\")\n",
    "print(f\"Distribution of the support vectors on either side: {svc_linear.n_support_}\")"
   ]
  },
  {
   "cell_type": "markdown",
   "metadata": {},
   "source": [
    "__8 (c):__ The training and test error rates are $ 16.13\\% $ and $ 18.89\\% $,\n",
    "respectively."
   ]
  },
  {
   "cell_type": "code",
   "execution_count": 8,
   "metadata": {},
   "outputs": [
    {
     "name": "stdout",
     "output_type": "stream",
     "text": [
      "Training error rate: 0.1613\n",
      "Test error rate: 0.1889\n"
     ]
    }
   ],
   "source": [
    "y_train_pred_linear = svc_linear.predict(X_train)\n",
    "y_test_pred_linear = svc_linear.predict(X_test)\n",
    "\n",
    "train_error_linear = 1 - accuracy_score(y_train, y_train_pred_linear)\n",
    "test_error_linear = 1 - accuracy_score(y_test, y_test_pred_linear)\n",
    "\n",
    "print(f\"Training error rate: {train_error_linear:.4f}\")\n",
    "print(f\"Test error rate: {test_error_linear:.4f}\")"
   ]
  },
  {
   "cell_type": "markdown",
   "metadata": {},
   "source": [
    "__8 (d):__ We use `GridSearchCV` to find the optimal value of $ C $ in the\n",
    "requested range."
   ]
  },
  {
   "cell_type": "code",
   "execution_count": 9,
   "metadata": {},
   "outputs": [
    {
     "name": "stdout",
     "output_type": "stream",
     "text": [
      "Optimal C value: 6.95\n"
     ]
    }
   ],
   "source": [
    "C_values = np.logspace(-2, 1, 20)\n",
    "\n",
    "grid_search_linear = GridSearchCV(\n",
    "    SVC(kernel=\"linear\"), \n",
    "    {\"C\": C_values}, \n",
    "    cv=5, \n",
    "    scoring=\"accuracy\"\n",
    ")\n",
    "grid_search_linear.fit(X_train, y_train)\n",
    "\n",
    "best_C_linear = grid_search_linear.best_params_[\"C\"]\n",
    "print(f\"Optimal C value: {best_C_linear:.2f}\")"
   ]
  },
  {
   "cell_type": "markdown",
   "metadata": {},
   "source": [
    "Let's plot the CV error rates against $ C $:"
   ]
  },
  {
   "cell_type": "code",
   "execution_count": 10,
   "metadata": {},
   "outputs": [
    {
     "data": {
      "image/png": "[encoded data removed]",
      "text/plain": [
       "<Figure size 800x500 with 1 Axes>"
      ]
     },
     "metadata": {},
     "output_type": "display_data"
    }
   ],
   "source": [
    "linear_error_rates = 1 - grid_search_linear.cv_results_[\"mean_test_score\"]\n",
    "\n",
    "fig, ax = plt.subplots(figsize=(8, 5))\n",
    "ax.semilogx(C_values, linear_error_rates, \"-o\")\n",
    "ax.set_xlabel(\"$ C $ (log scale)\")\n",
    "ax.set_ylabel(\"Cross-validation accuracy\")\n",
    "ax.set_title(\"Cross-validation accuracy vs $ C $ for linear kernel\")\n",
    "ax.grid(linestyle=\"--\", alpha=0.3)\n",
    "plt.show()"
   ]
  },
  {
   "cell_type": "markdown",
   "metadata": {},
   "source": [
    "__8 (e):__ The training and test error rates for the optimal model\n",
    "($ C = 6.95 $) are $ 15.87\\% $ and $ 18.52\\% $, respectively, only a slight\n",
    "improvement to the the corresponding rates of the original model ($ C = 0.01 $)."
   ]
  },
  {
   "cell_type": "code",
   "execution_count": 11,
   "metadata": {},
   "outputs": [
    {
     "name": "stdout",
     "output_type": "stream",
     "text": [
      "Training error rate with optimal C: 0.1587\n",
      "Test error rate with optimal C: 0.1852\n"
     ]
    }
   ],
   "source": [
    "svc_linear_optimal = SVC(kernel=\"linear\", C=best_C_linear)\n",
    "svc_linear_optimal.fit(X_train, y_train)\n",
    "\n",
    "y_train_pred_optimal = svc_linear_optimal.predict(X_train)\n",
    "y_test_pred_optimal = svc_linear_optimal.predict(X_test)\n",
    "\n",
    "train_error_linear_optimal = 1 - accuracy_score(y_train, y_train_pred_optimal)\n",
    "test_error_linear_optimal = 1 - accuracy_score(y_test, y_test_pred_optimal)\n",
    "\n",
    "print(f\"Training error rate with optimal C: {train_error_linear_optimal:.4f}\")\n",
    "print(f\"Test error rate with optimal C: {test_error_linear_optimal:.4f}\")"
   ]
  },
  {
   "cell_type": "markdown",
   "metadata": {},
   "source": [
    "__8 (f):__ Basically we just need to copy and paste the code for these items,\n",
    "changing the kernel parameter to \"rbf\":"
   ]
  },
  {
   "cell_type": "code",
   "execution_count": 12,
   "metadata": {},
   "outputs": [
    {
     "name": "stdout",
     "output_type": "stream",
     "text": [
      "RBF kernel - Number of support vectors: 605\n"
     ]
    }
   ],
   "source": [
    "svm_rbf = SVC(kernel=\"rbf\", C=0.01)\n",
    "svm_rbf.fit(X_train, y_train)\n",
    "\n",
    "n_support_rbf = svm_rbf.n_support_.sum()\n",
    "print(f\"RBF kernel - Number of support vectors: {n_support_rbf}\")"
   ]
  },
  {
   "cell_type": "code",
   "execution_count": 13,
   "metadata": {},
   "outputs": [
    {
     "name": "stdout",
     "output_type": "stream",
     "text": [
      "RBF kernel - Optimal C value: 0.5456\n"
     ]
    }
   ],
   "source": [
    "grid_search_rbf = GridSearchCV(\n",
    "    SVC(kernel=\"rbf\"), \n",
    "    {\"C\": C_values}, \n",
    "    cv=5, \n",
    "    scoring=\"accuracy\"\n",
    ")\n",
    "grid_search_rbf.fit(X_train, y_train)\n",
    "\n",
    "best_C_rbf = grid_search_rbf.best_params_[\"C\"]\n",
    "print(f\"RBF kernel - Optimal C value: {best_C_rbf:.4f}\")"
   ]
  },
  {
   "cell_type": "code",
   "execution_count": 14,
   "metadata": {},
   "outputs": [
    {
     "name": "stdout",
     "output_type": "stream",
     "text": [
      "RBF kernel - Training error rate with optimal C: 0.1488\n",
      "RBF kernel - Test error rate with optimal C: 0.1889\n"
     ]
    }
   ],
   "source": [
    "svm_rbf_optimal = SVC(kernel=\"rbf\", C=best_C_rbf)\n",
    "svm_rbf_optimal.fit(X_train, y_train)\n",
    "\n",
    "y_train_pred_rbf_optimal = svm_rbf_optimal.predict(X_train)\n",
    "y_test_pred_rbf_optimal = svm_rbf_optimal.predict(X_test)\n",
    "\n",
    "train_error_rbf_optimal = 1 - accuracy_score(y_train, y_train_pred_rbf_optimal)\n",
    "test_error_rbf_optimal = 1 - accuracy_score(y_test, y_test_pred_rbf_optimal)\n",
    "\n",
    "print(f\"RBF kernel - Training error rate with optimal C: {train_error_rbf_optimal:.4f}\")\n",
    "print(f\"RBF kernel - Test error rate with optimal C: {test_error_rbf_optimal:.4f}\")"
   ]
  },
  {
   "cell_type": "markdown",
   "metadata": {},
   "source": [
    "The training and test error rates for the optimal SVM with radial kernel\n",
    "($ C = 0.55 $) are $ 14.88\\% $ and $ 18.89\\% $, so while the training error\n",
    "rate is slightly better than that of the optimal SVC, the test error rate\n",
    "is slightly worse."
   ]
  },
  {
   "cell_type": "markdown",
   "metadata": {},
   "source": [
    "__8 (g):__"
   ]
  },
  {
   "cell_type": "code",
   "execution_count": 15,
   "metadata": {},
   "outputs": [
    {
     "name": "stdout",
     "output_type": "stream",
     "text": [
      "Polynomial kernel - Number of support vectors: 605\n"
     ]
    }
   ],
   "source": [
    "svm_poly = SVC(kernel=\"poly\", degree=2, C=0.01)\n",
    "svm_poly.fit(X_train, y_train)\n",
    "\n",
    "n_support_poly = svm_poly.n_support_.sum()\n",
    "print(f\"Polynomial kernel - Number of support vectors: {n_support_poly}\")"
   ]
  },
  {
   "cell_type": "code",
   "execution_count": 16,
   "metadata": {},
   "outputs": [
    {
     "name": "stdout",
     "output_type": "stream",
     "text": [
      "Polynomial kernel - Optimal C value: 10.0000\n"
     ]
    }
   ],
   "source": [
    "grid_search_poly = GridSearchCV(\n",
    "    SVC(kernel=\"poly\", degree=2), \n",
    "    {\"C\": C_values}, \n",
    "    cv=5, \n",
    "    scoring=\"accuracy\"\n",
    ")\n",
    "grid_search_poly.fit(X_train, y_train)\n",
    "\n",
    "best_C_poly = grid_search_poly.best_params_[\"C\"]\n",
    "print(f\"Polynomial kernel - Optimal C value: {best_C_poly:.4f}\")\n"
   ]
  },
  {
   "cell_type": "code",
   "execution_count": 17,
   "metadata": {},
   "outputs": [
    {
     "name": "stdout",
     "output_type": "stream",
     "text": [
      "Polynomial kernel - Training error rate with optimal C: 0.2100\n",
      "Polynomial kernel - Test error rate with optimal C: 0.2333\n"
     ]
    }
   ],
   "source": [
    "svm_poly_optimal = SVC(kernel=\"poly\", degree=2, C=best_C_poly)\n",
    "svm_poly_optimal.fit(X_train, y_train)\n",
    "\n",
    "y_train_pred_poly_optimal = svm_poly_optimal.predict(X_train)\n",
    "y_test_pred_poly_optimal = svm_poly_optimal.predict(X_test)\n",
    "\n",
    "train_error_poly_optimal = 1 - accuracy_score(y_train, y_train_pred_poly_optimal)\n",
    "test_error_poly_optimal = 1 - accuracy_score(y_test, y_test_pred_poly_optimal)\n",
    "\n",
    "print(f\"Polynomial kernel - Training error rate with optimal C: {train_error_poly_optimal:.4f}\")\n",
    "print(f\"Polynomial kernel - Test error rate with optimal C: {test_error_poly_optimal:.4f}\")"
   ]
  },
  {
   "cell_type": "markdown",
   "metadata": {},
   "source": [
    "__8 (h):__ Based on the test error rates, the best performance is achieved by\n",
    "the support vector classifier with regularization parameter $ C = 6.95 $, closely\n",
    "followed by the SVM with radial kernel and $ C = 0.55 $. The training and test\n",
    "error rates for the optimal degree $ 2 $ polynomial SVM are clearly worse than\n",
    "for the other two models."
   ]
  },
  {
   "cell_type": "code",
   "execution_count": null,
   "metadata": {},
   "outputs": [],
   "source": []
  }
 ],
 "metadata": {
  "kernelspec": {
   "display_name": "islp",
   "language": "python",
   "name": "python3"
  },
  "language_info": {
   "codemirror_mode": {
    "name": "ipython",
    "version": 3
   },
   "file_extension": ".py",
   "mimetype": "text/x-python",
   "name": "python",
   "nbconvert_exporter": "python",
   "pygments_lexer": "ipython3",
   "version": "3.12.4"
  }
 },
 "nbformat": 4,
 "nbformat_minor": 2
}
