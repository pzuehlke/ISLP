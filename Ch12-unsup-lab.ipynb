{
 "cells": [
  {
   "cell_type": "markdown",
   "id": "7ceca7f5",
   "metadata": {},
   "source": [
    "# Unsupervised Learning\n",
    "\n",
    "<a target=\"_blank\" href=\"https://colab.research.google.com/github/intro-stat-learning/ISLP_labs/blob/v2.2/Ch12-unsup-lab.ipynb\">\n",
    "<img src=\"https://colab.research.google.com/assets/colab-badge.svg\" alt=\"Open In Colab\"/>\n",
    "</a>\n",
    "\n",
    "[![Binder](https://mybinder.org/badge_logo.svg)](https://mybinder.org/v2/gh/intro-stat-learning/ISLP_labs/v2.2?labpath=Ch12-unsup-lab.ipynb)"
   ]
  },
  {
   "cell_type": "markdown",
   "id": "7c613d6b",
   "metadata": {},
   "source": [
    "In this lab we demonstrate PCA and clustering on several datasets.\n",
    "As in other labs, we import some of our libraries at this top\n",
    "level. This makes the code more readable, as scanning the first few\n",
    "lines of the notebook tell us what libraries are used in this\n",
    "notebook."
   ]
  },
  {
   "cell_type": "code",
   "execution_count": null,
   "id": "1f7a6c07",
   "metadata": {
    "execution": {
     "iopub.execute_input": "2024-06-04T23:19:58.245147Z",
     "iopub.status.busy": "2024-06-04T23:19:58.244639Z",
     "iopub.status.idle": "2024-06-04T23:19:58.980175Z",
     "shell.execute_reply": "2024-06-04T23:19:58.979888Z"
    }
   },
   "outputs": [],
   "source": [
    "import numpy as np\n",
    "import pandas as pd\n",
    "import matplotlib.pyplot as plt\n",
    "from statsmodels.datasets import get_rdataset\n",
    "from sklearn.decomposition import PCA\n",
    "from sklearn.preprocessing import StandardScaler\n",
    "from ISLP import load_data"
   ]
  },
  {
   "cell_type": "markdown",
   "id": "19645c0e",
   "metadata": {},
   "source": [
    "We also collect the new imports\n",
    "needed for this lab."
   ]
  },
  {
   "cell_type": "code",
   "execution_count": null,
   "id": "1e14c3f7",
   "metadata": {
    "execution": {
     "iopub.execute_input": "2024-06-04T23:19:58.981864Z",
     "iopub.status.busy": "2024-06-04T23:19:58.981743Z",
     "iopub.status.idle": "2024-06-04T23:19:59.038480Z",
     "shell.execute_reply": "2024-06-04T23:19:59.038262Z"
    }
   },
   "outputs": [],
   "source": [
    "from sklearn.cluster import \\\n",
    "     (KMeans,\n",
    "      AgglomerativeClustering)\n",
    "from scipy.cluster.hierarchy import \\\n",
    "     (dendrogram,\n",
    "      cut_tree)\n",
    "from ISLP.cluster import compute_linkage"
   ]
  },
  {
   "cell_type": "markdown",
   "id": "a66c0f59",
   "metadata": {},
   "source": [
    "## Principal Components Analysis\n",
    "In this lab, we perform PCA on  `USArrests`, a data set in the\n",
    "`R` computing environment.\n",
    "We retrieve the data using `get_rdataset()`, which can fetch data from\n",
    "many standard `R` packages.\n",
    "\n",
    "The rows of the data set contain the 50 states, in alphabetical order."
   ]
  },
  {
   "cell_type": "code",
   "execution_count": null,
   "id": "9d155861",
   "metadata": {
    "execution": {
     "iopub.execute_input": "2024-06-04T23:19:59.039866Z",
     "iopub.status.busy": "2024-06-04T23:19:59.039756Z",
     "iopub.status.idle": "2024-06-04T23:20:00.015887Z",
     "shell.execute_reply": "2024-06-04T23:20:00.015393Z"
    }
   },
   "outputs": [],
   "source": [
    "USArrests = get_rdataset('USArrests').data\n",
    "USArrests"
   ]
  },
  {
   "cell_type": "markdown",
   "id": "498fa729",
   "metadata": {},
   "source": [
    "The columns of the data set contain the four variables."
   ]
  },
  {
   "cell_type": "code",
   "execution_count": null,
   "id": "98cd6d32",
   "metadata": {
    "execution": {
     "iopub.execute_input": "2024-06-04T23:20:00.019290Z",
     "iopub.status.busy": "2024-06-04T23:20:00.018842Z",
     "iopub.status.idle": "2024-06-04T23:20:00.022851Z",
     "shell.execute_reply": "2024-06-04T23:20:00.022397Z"
    }
   },
   "outputs": [],
   "source": [
    "USArrests.columns"
   ]
  },
  {
   "cell_type": "markdown",
   "id": "80001d60",
   "metadata": {},
   "source": [
    "We first briefly examine the data. We notice that the variables have vastly different means."
   ]
  },
  {
   "cell_type": "code",
   "execution_count": null,
   "id": "93783538",
   "metadata": {
    "execution": {
     "iopub.execute_input": "2024-06-04T23:20:00.025039Z",
     "iopub.status.busy": "2024-06-04T23:20:00.024890Z",
     "iopub.status.idle": "2024-06-04T23:20:00.029072Z",
     "shell.execute_reply": "2024-06-04T23:20:00.028691Z"
    }
   },
   "outputs": [],
   "source": [
    "USArrests.mean()"
   ]
  },
  {
   "cell_type": "markdown",
   "id": "f8157f37",
   "metadata": {},
   "source": [
    "Dataframes have several useful methods for computing\n",
    "column-wise summaries. We can also examine the\n",
    "variance of the four variables using the `var()`  method."
   ]
  },
  {
   "cell_type": "code",
   "execution_count": null,
   "id": "1f89db32",
   "metadata": {
    "execution": {
     "iopub.execute_input": "2024-06-04T23:20:00.031071Z",
     "iopub.status.busy": "2024-06-04T23:20:00.030915Z",
     "iopub.status.idle": "2024-06-04T23:20:00.034379Z",
     "shell.execute_reply": "2024-06-04T23:20:00.034033Z"
    }
   },
   "outputs": [],
   "source": [
    "USArrests.var()"
   ]
  },
  {
   "cell_type": "markdown",
   "id": "ee99bf4e",
   "metadata": {},
   "source": [
    "Not surprisingly, the variables also have vastly different variances.\n",
    "The `UrbanPop` variable measures the percentage of the population\n",
    "in each state living in an urban area, which is not a comparable\n",
    "number to the number of rapes in each state per 100,000 individuals.\n",
    "PCA looks for derived variables that account for most of the variance in the data set.\n",
    "If we do not scale the variables before performing PCA, then the principal components\n",
    "would mostly be driven by the\n",
    "`Assault` variable, since it has by far the largest\n",
    "variance.  So if the variables are measured in different units or vary widely in scale, it is recommended to standardize the variables to have standard deviation one before performing PCA.\n",
    "Typically we set the means to zero as well.\n",
    "\n",
    "This scaling can be done via the `StandardScaler()` transform imported above. We first `fit` the\n",
    "scaler, which computes the necessary means and standard\n",
    "deviations and then apply it to our data using the\n",
    "`transform` method. As before, we combine these steps using the `fit_transform()` method."
   ]
  },
  {
   "cell_type": "code",
   "execution_count": null,
   "id": "dc04eed1",
   "metadata": {
    "execution": {
     "iopub.execute_input": "2024-06-04T23:20:00.036290Z",
     "iopub.status.busy": "2024-06-04T23:20:00.036153Z",
     "iopub.status.idle": "2024-06-04T23:20:00.039673Z",
     "shell.execute_reply": "2024-06-04T23:20:00.039402Z"
    }
   },
   "outputs": [],
   "source": [
    "scaler = StandardScaler(with_std=True,\n",
    "                        with_mean=True)\n",
    "USArrests_scaled = scaler.fit_transform(USArrests)"
   ]
  },
  {
   "cell_type": "markdown",
   "id": "40e431d0",
   "metadata": {},
   "source": [
    "Having scaled the data, we can then\n",
    "perform principal components analysis using the `PCA()` transform\n",
    "from the `sklearn.decomposition` package."
   ]
  },
  {
   "cell_type": "code",
   "execution_count": null,
   "id": "a350773d",
   "metadata": {
    "execution": {
     "iopub.execute_input": "2024-06-04T23:20:00.041302Z",
     "iopub.status.busy": "2024-06-04T23:20:00.041187Z",
     "iopub.status.idle": "2024-06-04T23:20:00.042988Z",
     "shell.execute_reply": "2024-06-04T23:20:00.042688Z"
    }
   },
   "outputs": [],
   "source": [
    "pcaUS = PCA()"
   ]
  },
  {
   "cell_type": "markdown",
   "id": "6fa0064e",
   "metadata": {},
   "source": [
    "(By default, the `PCA()`  transform centers the variables to have\n",
    "mean zero though it does not scale them.) The transform `pcaUS`\n",
    "can be used to find the PCA\n",
    "`scores` returned by `fit()`. Once the `fit` method has been called, the `pcaUS` object also contains a number of useful quantities."
   ]
  },
  {
   "cell_type": "code",
   "execution_count": null,
   "id": "f4fe8410",
   "metadata": {
    "execution": {
     "iopub.execute_input": "2024-06-04T23:20:00.044752Z",
     "iopub.status.busy": "2024-06-04T23:20:00.044629Z",
     "iopub.status.idle": "2024-06-04T23:20:00.048289Z",
     "shell.execute_reply": "2024-06-04T23:20:00.048020Z"
    }
   },
   "outputs": [],
   "source": [
    "pcaUS.fit(USArrests_scaled)"
   ]
  },
  {
   "cell_type": "markdown",
   "id": "1a1af009",
   "metadata": {},
   "source": [
    "After fitting, the `mean_` attribute corresponds to the means\n",
    "of the variables. In this case, since we centered and scaled the data with\n",
    "`scaler()` the means will all be 0."
   ]
  },
  {
   "cell_type": "code",
   "execution_count": null,
   "id": "605a0ca8",
   "metadata": {
    "execution": {
     "iopub.execute_input": "2024-06-04T23:20:00.049772Z",
     "iopub.status.busy": "2024-06-04T23:20:00.049682Z",
     "iopub.status.idle": "2024-06-04T23:20:00.051822Z",
     "shell.execute_reply": "2024-06-04T23:20:00.051552Z"
    }
   },
   "outputs": [],
   "source": [
    "pcaUS.mean_"
   ]
  },
  {
   "cell_type": "markdown",
   "id": "b4f438b3",
   "metadata": {},
   "source": [
    "The scores can be computed using the `transform()` method\n",
    "of `pcaUS` after it has been fit."
   ]
  },
  {
   "cell_type": "code",
   "execution_count": null,
   "id": "963374b1",
   "metadata": {
    "execution": {
     "iopub.execute_input": "2024-06-04T23:20:00.053341Z",
     "iopub.status.busy": "2024-06-04T23:20:00.053256Z",
     "iopub.status.idle": "2024-06-04T23:20:00.055003Z",
     "shell.execute_reply": "2024-06-04T23:20:00.054717Z"
    }
   },
   "outputs": [],
   "source": [
    "scores = pcaUS.transform(USArrests_scaled)"
   ]
  },
  {
   "cell_type": "markdown",
   "id": "99df27b7",
   "metadata": {},
   "source": [
    "We will plot these scores a bit further down.\n",
    "The `components_` attribute provides the principal component loadings:\n",
    "each row of `pcaUS.components_` contains the corresponding\n",
    "principal component loading vector."
   ]
  },
  {
   "cell_type": "code",
   "execution_count": null,
   "id": "8d158f66",
   "metadata": {
    "execution": {
     "iopub.execute_input": "2024-06-04T23:20:00.056542Z",
     "iopub.status.busy": "2024-06-04T23:20:00.056453Z",
     "iopub.status.idle": "2024-06-04T23:20:00.058672Z",
     "shell.execute_reply": "2024-06-04T23:20:00.058391Z"
    }
   },
   "outputs": [],
   "source": [
    "pcaUS.components_ "
   ]
  },
  {
   "cell_type": "markdown",
   "id": "1ebfe5a4",
   "metadata": {},
   "source": [
    "The `biplot`  is a common visualization method used with\n",
    "PCA. It is not built in as a standard\n",
    "part of `sklearn`, though there are python\n",
    "packages that do produce such plots. Here we\n",
    "make a simple biplot manually."
   ]
  },
  {
   "cell_type": "code",
   "execution_count": null,
   "id": "0ca1c80b",
   "metadata": {
    "execution": {
     "iopub.execute_input": "2024-06-04T23:20:00.060083Z",
     "iopub.status.busy": "2024-06-04T23:20:00.059998Z",
     "iopub.status.idle": "2024-06-04T23:20:00.163601Z",
     "shell.execute_reply": "2024-06-04T23:20:00.163039Z"
    }
   },
   "outputs": [],
   "source": [
    "i, j = 0, 1 # which components\n",
    "fig, ax = plt.subplots(1, 1, figsize=(8, 8))\n",
    "ax.scatter(scores[:,0], scores[:,1])\n",
    "ax.set_xlabel('PC%d' % (i+1))\n",
    "ax.set_ylabel('PC%d' % (j+1))\n",
    "for k in range(pcaUS.components_.shape[1]):\n",
    "    ax.arrow(0, 0, pcaUS.components_[i,k], pcaUS.components_[j,k])\n",
    "    ax.text(pcaUS.components_[i,k],\n",
    "            pcaUS.components_[j,k],\n",
    "            USArrests.columns[k])"
   ]
  },
  {
   "cell_type": "markdown",
   "id": "3d0fbebc",
   "metadata": {},
   "source": [
    "Notice that this figure is a reflection of Figure~\\ref{Ch10:fig:USArrests:obs} through the $y$-axis. Recall that the\n",
    "principal components are only unique up to a sign change, so we can\n",
    "reproduce that figure by flipping the\n",
    "signs of the second set of scores and loadings.\n",
    "We also increase the length of the arrows to emphasize the loadings."
   ]
  },
  {
   "cell_type": "code",
   "execution_count": null,
   "id": "4266c73b",
   "metadata": {
    "execution": {
     "iopub.execute_input": "2024-06-04T23:20:00.168170Z",
     "iopub.status.busy": "2024-06-04T23:20:00.167869Z",
     "iopub.status.idle": "2024-06-04T23:20:00.278302Z",
     "shell.execute_reply": "2024-06-04T23:20:00.277775Z"
    }
   },
   "outputs": [],
   "source": [
    "scale_arrow = s_ = 2\n",
    "scores[:,1] *= -1\n",
    "pcaUS.components_[1] *= -1 # flip the y-axis\n",
    "fig, ax = plt.subplots(1, 1, figsize=(8, 8))\n",
    "ax.scatter(scores[:,0], scores[:,1])\n",
    "ax.set_xlabel('PC%d' % (i+1))\n",
    "ax.set_ylabel('PC%d' % (j+1))\n",
    "for k in range(pcaUS.components_.shape[1]):\n",
    "    ax.arrow(0, 0, s_*pcaUS.components_[i,k], s_*pcaUS.components_[j,k])\n",
    "    ax.text(s_*pcaUS.components_[i,k],\n",
    "            s_*pcaUS.components_[j,k],\n",
    "            USArrests.columns[k])"
   ]
  },
  {
   "cell_type": "markdown",
   "id": "f61d0295",
   "metadata": {},
   "source": [
    "The standard deviations of the principal component scores are as follows:"
   ]
  },
  {
   "cell_type": "code",
   "execution_count": null,
   "id": "abf3dd55",
   "metadata": {
    "execution": {
     "iopub.execute_input": "2024-06-04T23:20:00.281501Z",
     "iopub.status.busy": "2024-06-04T23:20:00.281202Z",
     "iopub.status.idle": "2024-06-04T23:20:00.286262Z",
     "shell.execute_reply": "2024-06-04T23:20:00.285205Z"
    }
   },
   "outputs": [],
   "source": [
    "scores.std(0, ddof=1)"
   ]
  },
  {
   "cell_type": "markdown",
   "id": "70497cc6",
   "metadata": {},
   "source": [
    "The variance of each score can be extracted directly from the `pcaUS` object via\n",
    "the `explained_variance_` attribute."
   ]
  },
  {
   "cell_type": "code",
   "execution_count": null,
   "id": "2b86e577",
   "metadata": {
    "execution": {
     "iopub.execute_input": "2024-06-04T23:20:00.289493Z",
     "iopub.status.busy": "2024-06-04T23:20:00.288828Z",
     "iopub.status.idle": "2024-06-04T23:20:00.294507Z",
     "shell.execute_reply": "2024-06-04T23:20:00.294014Z"
    }
   },
   "outputs": [],
   "source": [
    "pcaUS.explained_variance_"
   ]
  },
  {
   "cell_type": "markdown",
   "id": "b03146b4",
   "metadata": {},
   "source": [
    "The proportion of variance explained by each principal \n",
    "component (PVE) is stored as `explained_variance_ratio_`:"
   ]
  },
  {
   "cell_type": "code",
   "execution_count": null,
   "id": "5ffec7f8",
   "metadata": {
    "execution": {
     "iopub.execute_input": "2024-06-04T23:20:00.297422Z",
     "iopub.status.busy": "2024-06-04T23:20:00.297193Z",
     "iopub.status.idle": "2024-06-04T23:20:00.304441Z",
     "shell.execute_reply": "2024-06-04T23:20:00.303923Z"
    }
   },
   "outputs": [],
   "source": [
    "pcaUS.explained_variance_ratio_"
   ]
  },
  {
   "cell_type": "markdown",
   "id": "358f8407",
   "metadata": {},
   "source": [
    "We see that the first principal component explains 62.0% of the\n",
    "variance in the data, the next principal component explains 24.7%\n",
    "of the variance, and so forth.\n",
    "We can plot the PVE explained by each component, as well as the cumulative PVE. We first\n",
    "plot the proportion of variance explained."
   ]
  },
  {
   "cell_type": "code",
   "execution_count": null,
   "id": "427cf5d8",
   "metadata": {
    "execution": {
     "iopub.execute_input": "2024-06-04T23:20:00.307404Z",
     "iopub.status.busy": "2024-06-04T23:20:00.307167Z",
     "iopub.status.idle": "2024-06-04T23:20:00.417318Z",
     "shell.execute_reply": "2024-06-04T23:20:00.417075Z"
    }
   },
   "outputs": [],
   "source": [
    "%%capture\n",
    "fig, axes = plt.subplots(1, 2, figsize=(15, 6))\n",
    "ticks = np.arange(pcaUS.n_components_)+1\n",
    "ax = axes[0]\n",
    "ax.plot(ticks,\n",
    "        pcaUS.explained_variance_ratio_,\n",
    "        marker='o')\n",
    "ax.set_xlabel('Principal Component');\n",
    "ax.set_ylabel('Proportion of Variance Explained')\n",
    "ax.set_ylim([0,1])\n",
    "ax.set_xticks(ticks)"
   ]
  },
  {
   "cell_type": "markdown",
   "id": "4b392ae6",
   "metadata": {},
   "source": [
    "Notice the use of `%%capture`, which suppresses the displaying of the partially completed figure."
   ]
  },
  {
   "cell_type": "code",
   "execution_count": null,
   "id": "4336fd05",
   "metadata": {
    "execution": {
     "iopub.execute_input": "2024-06-04T23:20:00.418792Z",
     "iopub.status.busy": "2024-06-04T23:20:00.418713Z",
     "iopub.status.idle": "2024-06-04T23:20:00.490050Z",
     "shell.execute_reply": "2024-06-04T23:20:00.489809Z"
    }
   },
   "outputs": [],
   "source": [
    "ax = axes[1]\n",
    "ax.plot(ticks,\n",
    "        pcaUS.explained_variance_ratio_.cumsum(),\n",
    "        marker='o')\n",
    "ax.set_xlabel('Principal Component')\n",
    "ax.set_ylabel('Cumulative Proportion of Variance Explained')\n",
    "ax.set_ylim([0, 1])\n",
    "ax.set_xticks(ticks)\n",
    "fig"
   ]
  },
  {
   "cell_type": "markdown",
   "id": "02eb9713",
   "metadata": {},
   "source": [
    "The result is similar to that shown in Figure~\\ref{Ch10:fig:USArrests:scree}.  Note\n",
    "that the method `cumsum()`   computes the cumulative sum of\n",
    "the elements of a numeric vector. For instance:"
   ]
  },
  {
   "cell_type": "code",
   "execution_count": null,
   "id": "505827c8",
   "metadata": {
    "execution": {
     "iopub.execute_input": "2024-06-04T23:20:00.491458Z",
     "iopub.status.busy": "2024-06-04T23:20:00.491361Z",
     "iopub.status.idle": "2024-06-04T23:20:00.493334Z",
     "shell.execute_reply": "2024-06-04T23:20:00.493123Z"
    }
   },
   "outputs": [],
   "source": [
    "a = np.array([1,2,8,-3])\n",
    "np.cumsum(a)"
   ]
  },
  {
   "cell_type": "markdown",
   "id": "380c2ad3",
   "metadata": {},
   "source": [
    "## Matrix Completion\n",
    "\n",
    "We now re-create the analysis carried out on the `USArrests` data in\n",
    "Section~\\ref{Ch10:sec:princ-comp-with}.\n",
    "\n",
    "We saw  in Section~\\ref{ch10:sec2.2}  that solving the optimization\n",
    "problem~(\\ref{Ch10:eq:mc2})   on a centered data matrix $\\bf X$ is\n",
    "equivalent to computing the first $M$ principal\n",
    "components of the data.  We use our scaled\n",
    "and centered `USArrests` data as $\\bf X$ below. The *singular value decomposition* \n",
    "(SVD)  is a general algorithm for solving\n",
    "(\\ref{Ch10:eq:mc2})."
   ]
  },
  {
   "cell_type": "code",
   "execution_count": null,
   "id": "9902f1be",
   "metadata": {
    "execution": {
     "iopub.execute_input": "2024-06-04T23:20:00.494542Z",
     "iopub.status.busy": "2024-06-04T23:20:00.494449Z",
     "iopub.status.idle": "2024-06-04T23:20:00.496446Z",
     "shell.execute_reply": "2024-06-04T23:20:00.496239Z"
    }
   },
   "outputs": [],
   "source": [
    "X = USArrests_scaled\n",
    "U, D, V = np.linalg.svd(X, full_matrices=False)\n",
    "U.shape, D.shape, V.shape"
   ]
  },
  {
   "cell_type": "markdown",
   "id": "028297b8",
   "metadata": {},
   "source": [
    "The `np.linalg.svd()` function returns three components, `U`, `D` and `V`. The matrix `V` is equivalent to the\n",
    "loading matrix from principal components (up to an unimportant sign flip). Using the `full_matrices=False` option ensures that\n",
    "for a tall matrix the shape of `U` is the same as the shape of `X`."
   ]
  },
  {
   "cell_type": "code",
   "execution_count": null,
   "id": "2f56e336",
   "metadata": {
    "execution": {
     "iopub.execute_input": "2024-06-04T23:20:00.497684Z",
     "iopub.status.busy": "2024-06-04T23:20:00.497595Z",
     "iopub.status.idle": "2024-06-04T23:20:00.499525Z",
     "shell.execute_reply": "2024-06-04T23:20:00.499269Z"
    }
   },
   "outputs": [],
   "source": [
    "V"
   ]
  },
  {
   "cell_type": "code",
   "execution_count": null,
   "id": "720e92a9",
   "metadata": {
    "execution": {
     "iopub.execute_input": "2024-06-04T23:20:00.500875Z",
     "iopub.status.busy": "2024-06-04T23:20:00.500774Z",
     "iopub.status.idle": "2024-06-04T23:20:00.502897Z",
     "shell.execute_reply": "2024-06-04T23:20:00.502626Z"
    }
   },
   "outputs": [],
   "source": [
    "pcaUS.components_"
   ]
  },
  {
   "cell_type": "markdown",
   "id": "d361e2ae",
   "metadata": {},
   "source": [
    "The matrix `U` corresponds to a  *standardized* version of the PCA score matrix (each column standardized to have sum-of-squares one). If we multiply each column of `U` by the corresponding element  of `D`, we recover the PCA scores exactly (up to a meaningless sign flip)."
   ]
  },
  {
   "cell_type": "code",
   "execution_count": null,
   "id": "08ad9e05",
   "metadata": {
    "execution": {
     "iopub.execute_input": "2024-06-04T23:20:00.504280Z",
     "iopub.status.busy": "2024-06-04T23:20:00.504187Z",
     "iopub.status.idle": "2024-06-04T23:20:00.506272Z",
     "shell.execute_reply": "2024-06-04T23:20:00.505977Z"
    }
   },
   "outputs": [],
   "source": [
    "(U * D[None,:])[:3]"
   ]
  },
  {
   "cell_type": "code",
   "execution_count": null,
   "id": "7ec6643a",
   "metadata": {
    "execution": {
     "iopub.execute_input": "2024-06-04T23:20:00.507544Z",
     "iopub.status.busy": "2024-06-04T23:20:00.507437Z",
     "iopub.status.idle": "2024-06-04T23:20:00.509358Z",
     "shell.execute_reply": "2024-06-04T23:20:00.509140Z"
    }
   },
   "outputs": [],
   "source": [
    "scores[:3]"
   ]
  },
  {
   "cell_type": "markdown",
   "id": "82a7beb2",
   "metadata": {},
   "source": [
    "While it would be possible to carry out this lab using the `PCA()` estimator,\n",
    "here we use the `np.linalg.svd()` function in order to illustrate its use.\n",
    "\n",
    "We now omit 20 entries in the $50\\times 4$ data matrix at random. We do so\n",
    "by first selecting 20 rows (states) at random, and then selecting one\n",
    "of the four entries in each row at random. This ensures that every row has\n",
    "at least three observed values."
   ]
  },
  {
   "cell_type": "code",
   "execution_count": null,
   "id": "897e5bbb",
   "metadata": {
    "execution": {
     "iopub.execute_input": "2024-06-04T23:20:00.510666Z",
     "iopub.status.busy": "2024-06-04T23:20:00.510571Z",
     "iopub.status.idle": "2024-06-04T23:20:00.512527Z",
     "shell.execute_reply": "2024-06-04T23:20:00.512309Z"
    }
   },
   "outputs": [],
   "source": [
    "n_omit = 20\n",
    "np.random.seed(15)\n",
    "r_idx = np.random.choice(np.arange(X.shape[0]),\n",
    "                         n_omit,\n",
    "                         replace=False)\n",
    "c_idx = np.random.choice(np.arange(X.shape[1]),\n",
    "                         n_omit,\n",
    "                         replace=True)\n",
    "Xna = X.copy()\n",
    "Xna[r_idx, c_idx] = np.nan"
   ]
  },
  {
   "cell_type": "markdown",
   "id": "d1e56611",
   "metadata": {},
   "source": [
    "Here the array `r_idx`\n",
    "contains 20 integers from 0 to 49; this represents the states (rows of `X`) that are selected to contain missing values. And `c_idx` contains\n",
    "20 integers from 0 to 3, representing the features (columns in `X`) that contain the missing values for each of the selected states.\n",
    "\n",
    "We now write some code to implement Algorithm~\\ref{Ch10:alg:hardimpute}. \n",
    "We first write a  function that takes in a matrix, and returns an approximation to the matrix using the `svd()` function.\n",
    "This will be needed in Step 2 of Algorithm~\\ref{Ch10:alg:hardimpute}."
   ]
  },
  {
   "cell_type": "code",
   "execution_count": null,
   "id": "2fd5410d",
   "metadata": {
    "execution": {
     "iopub.execute_input": "2024-06-04T23:20:00.513710Z",
     "iopub.status.busy": "2024-06-04T23:20:00.513635Z",
     "iopub.status.idle": "2024-06-04T23:20:00.515194Z",
     "shell.execute_reply": "2024-06-04T23:20:00.514994Z"
    }
   },
   "outputs": [],
   "source": [
    "def low_rank(X, M=1):\n",
    "    U, D, V = np.linalg.svd(X)\n",
    "    L = U[:,:M] * D[None,:M]\n",
    "    return L.dot(V[:M])"
   ]
  },
  {
   "cell_type": "markdown",
   "id": "bc4a6793",
   "metadata": {},
   "source": [
    "To conduct Step 1 of the algorithm, we initialize `Xhat` --- this is $\\tilde{\\bf X}$ in Algorithm~\\ref{Ch10:alg:hardimpute} ---  by replacing\n",
    "the missing values with the column means of the non-missing entries. These are stored in\n",
    "`Xbar` below after running `np.nanmean()` over the row axis.\n",
    "We make a copy so that when we assign values to `Xhat` below we do not also overwrite the\n",
    "values in `Xna`."
   ]
  },
  {
   "cell_type": "code",
   "execution_count": null,
   "id": "46c135c3",
   "metadata": {
    "execution": {
     "iopub.execute_input": "2024-06-04T23:20:00.516282Z",
     "iopub.status.busy": "2024-06-04T23:20:00.516215Z",
     "iopub.status.idle": "2024-06-04T23:20:00.517899Z",
     "shell.execute_reply": "2024-06-04T23:20:00.517702Z"
    }
   },
   "outputs": [],
   "source": [
    "Xhat = Xna.copy()\n",
    "Xbar = np.nanmean(Xhat, axis=0)\n",
    "Xhat[r_idx, c_idx] = Xbar[c_idx]"
   ]
  },
  {
   "cell_type": "markdown",
   "id": "1732122e",
   "metadata": {},
   "source": [
    "Before we begin Step 2, we set ourselves up to measure the progress of our\n",
    "iterations:"
   ]
  },
  {
   "cell_type": "code",
   "execution_count": null,
   "id": "0fd401ba",
   "metadata": {
    "execution": {
     "iopub.execute_input": "2024-06-04T23:20:00.519024Z",
     "iopub.status.busy": "2024-06-04T23:20:00.518963Z",
     "iopub.status.idle": "2024-06-04T23:20:00.520581Z",
     "shell.execute_reply": "2024-06-04T23:20:00.520375Z"
    }
   },
   "outputs": [],
   "source": [
    "thresh = 1e-7\n",
    "rel_err = 1\n",
    "count = 0\n",
    "ismiss = np.isnan(Xna)\n",
    "mssold = np.mean(Xhat[~ismiss]**2)\n",
    "mss0 = np.mean(Xna[~ismiss]**2)"
   ]
  },
  {
   "cell_type": "markdown",
   "id": "0b74b489",
   "metadata": {},
   "source": [
    "Here  `ismiss` is a logical matrix with the same dimensions as `Xna`;\n",
    "a given element is `True` if the corresponding matrix element is missing. The notation `~ismiss` negates this boolean vector. This is useful\n",
    "because it allows us to access both the missing and non-missing entries. We store the mean of the squared non-missing elements in `mss0`.\n",
    "We store the mean squared error  of the non-missing elements  of the old version of `Xhat` in `mssold` (which currently\n",
    "agrees with `mss0`). We plan to store the mean squared error of the non-missing elements of the current version of `Xhat` in `mss`, and will then\n",
    "iterate Step 2 of  Algorithm~\\ref{Ch10:alg:hardimpute}  until the *relative error*, defined as\n",
    "`(mssold - mss) / mss0`, falls below `thresh = 1e-7`.\n",
    " {Algorithm~\\ref{Ch10:alg:hardimpute} tells us to iterate Step 2 until \\eqref{Ch10:eq:mc6} is no longer decreasing. Determining whether \\eqref{Ch10:eq:mc6}  is decreasing requires us only to keep track of `mssold - mss`. However, in practice, we keep track of `(mssold - mss) / mss0` instead: this makes it so that the number of iterations required for Algorithm~\\ref{Ch10:alg:hardimpute} to converge does not depend on whether we multiplied the raw data $\\bf X$ by a constant factor.}\n",
    "\n",
    "In Step 2(a) of Algorithm~\\ref{Ch10:alg:hardimpute}, we  approximate `Xhat` using `low_rank()`; we call this `Xapp`. In Step 2(b), we  use `Xapp`  to update the estimates for elements in `Xhat` that are missing in `Xna`. Finally, in Step 2(c), we compute the relative error. These three steps are contained in the following `while` loop:"
   ]
  },
  {
   "cell_type": "code",
   "execution_count": null,
   "id": "bcbe5405",
   "metadata": {
    "execution": {
     "iopub.execute_input": "2024-06-04T23:20:00.521714Z",
     "iopub.status.busy": "2024-06-04T23:20:00.521647Z",
     "iopub.status.idle": "2024-06-04T23:20:00.524162Z",
     "shell.execute_reply": "2024-06-04T23:20:00.523946Z"
    }
   },
   "outputs": [],
   "source": [
    "while rel_err > thresh:\n",
    "    count += 1\n",
    "    # Step 2(a)\n",
    "    Xapp = low_rank(Xhat, M=1)\n",
    "    # Step 2(b)\n",
    "    Xhat[ismiss] = Xapp[ismiss]\n",
    "    # Step 2(c)\n",
    "    mss = np.mean(((Xna - Xapp)[~ismiss])**2)\n",
    "    rel_err = (mssold - mss) / mss0\n",
    "    mssold = mss\n",
    "    print(\"Iteration: {0}, MSS:{1:.3f}, Rel.Err {2:.2e}\"\n",
    "          .format(count, mss, rel_err))"
   ]
  },
  {
   "cell_type": "markdown",
   "id": "a3e19a6e",
   "metadata": {},
   "source": [
    "We see that after eight iterations, the relative error has fallen below `thresh = 1e-7`, and so the algorithm terminates. When this happens, the mean squared error of the non-missing elements equals 0.381.\n",
    "\n",
    "Finally, we compute the correlation between the 20 imputed values\n",
    "and the actual values:"
   ]
  },
  {
   "cell_type": "code",
   "execution_count": null,
   "id": "e85cd692",
   "metadata": {
    "execution": {
     "iopub.execute_input": "2024-06-04T23:20:00.525418Z",
     "iopub.status.busy": "2024-06-04T23:20:00.525349Z",
     "iopub.status.idle": "2024-06-04T23:20:00.527505Z",
     "shell.execute_reply": "2024-06-04T23:20:00.527286Z"
    }
   },
   "outputs": [],
   "source": [
    "np.corrcoef(Xapp[ismiss], X[ismiss])[0,1]"
   ]
  },
  {
   "cell_type": "markdown",
   "id": "d78f16f4",
   "metadata": {},
   "source": [
    "In this lab, we implemented  Algorithm~\\ref{Ch10:alg:hardimpute}  ourselves for didactic purposes. However, a reader who wishes to apply matrix completion to their data might look to more specialized `Python`{} implementations."
   ]
  },
  {
   "cell_type": "markdown",
   "id": "1f700d77",
   "metadata": {},
   "source": [
    "## Clustering"
   ]
  },
  {
   "cell_type": "markdown",
   "id": "a042a391",
   "metadata": {},
   "source": [
    "### $K$-Means Clustering\n",
    "\n",
    "The estimator `sklearn.cluster.KMeans()`  performs $K$-means clustering in\n",
    "`Python`.  We begin with a simple simulated example in which there\n",
    "truly are two clusters in the data: the first 25 observations have a\n",
    "mean shift relative to the next 25 observations."
   ]
  },
  {
   "cell_type": "code",
   "execution_count": null,
   "id": "f6e58256",
   "metadata": {
    "execution": {
     "iopub.execute_input": "2024-06-04T23:20:00.528820Z",
     "iopub.status.busy": "2024-06-04T23:20:00.528749Z",
     "iopub.status.idle": "2024-06-04T23:20:00.530487Z",
     "shell.execute_reply": "2024-06-04T23:20:00.530226Z"
    }
   },
   "outputs": [],
   "source": [
    "np.random.seed(0);\n",
    "X = np.random.standard_normal((50,2));\n",
    "X[:25,0] += 3;\n",
    "X[:25,1] -= 4;"
   ]
  },
  {
   "cell_type": "markdown",
   "id": "4f0ff8a0",
   "metadata": {},
   "source": [
    "We now perform $K$-means clustering with $K=2$."
   ]
  },
  {
   "cell_type": "code",
   "execution_count": null,
   "id": "6d739b86",
   "metadata": {
    "execution": {
     "iopub.execute_input": "2024-06-04T23:20:00.531627Z",
     "iopub.status.busy": "2024-06-04T23:20:00.531561Z",
     "iopub.status.idle": "2024-06-04T23:20:00.824303Z",
     "shell.execute_reply": "2024-06-04T23:20:00.823941Z"
    }
   },
   "outputs": [],
   "source": [
    "kmeans = KMeans(n_clusters=2,\n",
    "                random_state=2,\n",
    "                n_init=20).fit(X)"
   ]
  },
  {
   "cell_type": "markdown",
   "id": "c5eeb7a8",
   "metadata": {},
   "source": [
    "We specify `random_state` to make the results reproducible.  The cluster assignments of the 50 observations are contained in `kmeans.labels_`."
   ]
  },
  {
   "cell_type": "code",
   "execution_count": null,
   "id": "701ef903",
   "metadata": {
    "execution": {
     "iopub.execute_input": "2024-06-04T23:20:00.826191Z",
     "iopub.status.busy": "2024-06-04T23:20:00.826070Z",
     "iopub.status.idle": "2024-06-04T23:20:00.828818Z",
     "shell.execute_reply": "2024-06-04T23:20:00.828538Z"
    }
   },
   "outputs": [],
   "source": [
    "kmeans.labels_"
   ]
  },
  {
   "cell_type": "markdown",
   "id": "b6edb148",
   "metadata": {},
   "source": [
    "The $K$-means clustering perfectly separated the observations into two\n",
    "clusters even though we did not supply any group information to\n",
    "`KMeans()`. We can plot the data, with each observation\n",
    "colored according to its cluster assignment."
   ]
  },
  {
   "cell_type": "code",
   "execution_count": null,
   "id": "b00fbcc9",
   "metadata": {
    "execution": {
     "iopub.execute_input": "2024-06-04T23:20:00.830418Z",
     "iopub.status.busy": "2024-06-04T23:20:00.830277Z",
     "iopub.status.idle": "2024-06-04T23:20:00.904250Z",
     "shell.execute_reply": "2024-06-04T23:20:00.903956Z"
    }
   },
   "outputs": [],
   "source": [
    "fig, ax = plt.subplots(1, 1, figsize=(8,8))\n",
    "ax.scatter(X[:,0], X[:,1], c=kmeans.labels_)\n",
    "ax.set_title(\"K-Means Clustering Results with K=2\");"
   ]
  },
  {
   "cell_type": "markdown",
   "id": "7f0c844e",
   "metadata": {},
   "source": [
    "Here the observations can be easily plotted because they are\n",
    "two-dimensional. If there were more than two variables then we could\n",
    "instead perform PCA and plot the first two principal component score\n",
    "vectors to represent the clusters.\n",
    "\n",
    "In this example,   we knew that there really\n",
    "were two clusters because we generated the data. However, for real\n",
    "data, we do not know the true number of clusters, nor whether they  exist in any precise way. We could\n",
    "instead have performed $K$-means clustering on this example with\n",
    "$K=3$."
   ]
  },
  {
   "cell_type": "code",
   "execution_count": null,
   "id": "f2cad047",
   "metadata": {
    "execution": {
     "iopub.execute_input": "2024-06-04T23:20:00.905738Z",
     "iopub.status.busy": "2024-06-04T23:20:00.905623Z",
     "iopub.status.idle": "2024-06-04T23:20:00.982351Z",
     "shell.execute_reply": "2024-06-04T23:20:00.982085Z"
    }
   },
   "outputs": [],
   "source": [
    "kmeans = KMeans(n_clusters=3,\n",
    "                random_state=3,\n",
    "                n_init=20).fit(X)\n",
    "fig, ax = plt.subplots(figsize=(8,8))\n",
    "ax.scatter(X[:,0], X[:,1], c=kmeans.labels_)\n",
    "ax.set_title(\"K-Means Clustering Results with K=3\");"
   ]
  },
  {
   "cell_type": "markdown",
   "id": "1a939178",
   "metadata": {},
   "source": [
    "When $K=3$, $K$-means clustering  splits up the two clusters.\n",
    "We have used the `n_init` argument to run the $K$-means with 20 \n",
    "initial cluster assignments (the default is 10). If a\n",
    "value of `n_init` greater than one is used, then $K$-means\n",
    "clustering will be performed using multiple random assignments in\n",
    "Step 1 of  Algorithm~\\ref{Ch10:alg:km}, and the `KMeans()` \n",
    "function will report only the best results. Here we compare using\n",
    "`n_init=1` to `n_init=20`."
   ]
  },
  {
   "cell_type": "code",
   "execution_count": null,
   "id": "f1436671",
   "metadata": {
    "execution": {
     "iopub.execute_input": "2024-06-04T23:20:00.984089Z",
     "iopub.status.busy": "2024-06-04T23:20:00.983822Z",
     "iopub.status.idle": "2024-06-04T23:20:00.992694Z",
     "shell.execute_reply": "2024-06-04T23:20:00.992450Z"
    }
   },
   "outputs": [],
   "source": [
    "kmeans1 = KMeans(n_clusters=3,\n",
    "                random_state=3,\n",
    "                n_init=1).fit(X)\n",
    "kmeans20 = KMeans(n_clusters=3,\n",
    "                  random_state=3,\n",
    "                  n_init=20).fit(X);\n",
    "kmeans1.inertia_, kmeans20.inertia_"
   ]
  },
  {
   "cell_type": "markdown",
   "id": "d64b1013",
   "metadata": {},
   "source": [
    "Note that `kmeans.inertia_` is the total within-cluster sum\n",
    "of squares, which we seek to minimize by performing $K$-means\n",
    "clustering \\eqref{Ch10:eq:kmeans}. \n",
    "\n",
    "We *strongly* recommend always running $K$-means clustering with\n",
    "a large value of `n_init`, such as 20 or 50, since otherwise an\n",
    "undesirable local optimum may be obtained.\n",
    "\n",
    "When performing $K$-means clustering, in addition to using multiple\n",
    "initial cluster assignments, it is also important to set a random seed\n",
    "using the `random_state` argument to `KMeans()`. This way, the initial\n",
    "cluster assignments in Step 1 can be replicated, and the $K$-means\n",
    "output will be fully reproducible."
   ]
  },
  {
   "cell_type": "markdown",
   "id": "3d49b1de",
   "metadata": {},
   "source": [
    "### Hierarchical Clustering\n",
    "\n",
    "The `AgglomerativeClustering()`  class from\n",
    "the `sklearn.clustering` package implements hierarchical clustering.\n",
    "As its\n",
    "name is long, we use the short hand `HClust` for *hierarchical clustering*. Note that this will not change the return type\n",
    "when using this method, so instances will still be of class `AgglomerativeClustering`.\n",
    "In the following example we use the data from the previous lab to plot the hierarchical clustering\n",
    "dendrogram using complete, single, and average linkage clustering\n",
    "with Euclidean distance as the dissimilarity measure.  We begin by\n",
    "clustering observations using complete linkage."
   ]
  },
  {
   "cell_type": "code",
   "execution_count": null,
   "id": "3a2d2b24",
   "metadata": {
    "execution": {
     "iopub.execute_input": "2024-06-04T23:20:00.994226Z",
     "iopub.status.busy": "2024-06-04T23:20:00.994147Z",
     "iopub.status.idle": "2024-06-04T23:20:00.997621Z",
     "shell.execute_reply": "2024-06-04T23:20:00.997244Z"
    }
   },
   "outputs": [],
   "source": [
    "HClust = AgglomerativeClustering\n",
    "hc_comp = HClust(distance_threshold=0,\n",
    "                 n_clusters=None,\n",
    "                 linkage='complete')\n",
    "hc_comp.fit(X)"
   ]
  },
  {
   "cell_type": "markdown",
   "id": "a86162f3",
   "metadata": {},
   "source": [
    "This computes the entire dendrogram.\n",
    "We could just as easily perform hierarchical clustering with average or single linkage instead:"
   ]
  },
  {
   "cell_type": "code",
   "execution_count": null,
   "id": "dc8c9fa7",
   "metadata": {
    "execution": {
     "iopub.execute_input": "2024-06-04T23:20:00.999073Z",
     "iopub.status.busy": "2024-06-04T23:20:00.998978Z",
     "iopub.status.idle": "2024-06-04T23:20:01.001611Z",
     "shell.execute_reply": "2024-06-04T23:20:01.001348Z"
    }
   },
   "outputs": [],
   "source": [
    "hc_avg = HClust(distance_threshold=0,\n",
    "                n_clusters=None,\n",
    "                linkage='average');\n",
    "hc_avg.fit(X)\n",
    "hc_sing = HClust(distance_threshold=0,\n",
    "                 n_clusters=None,\n",
    "                 linkage='single');\n",
    "hc_sing.fit(X);"
   ]
  },
  {
   "cell_type": "markdown",
   "id": "c367b799",
   "metadata": {},
   "source": [
    "To use a precomputed distance matrix, we provide an additional\n",
    "argument `metric=\"precomputed\"`. In the code below, the first four lines computes the $50\\times 50$ pairwise-distance matrix."
   ]
  },
  {
   "cell_type": "code",
   "execution_count": null,
   "id": "17af050a",
   "metadata": {
    "execution": {
     "iopub.execute_input": "2024-06-04T23:20:01.003143Z",
     "iopub.status.busy": "2024-06-04T23:20:01.003055Z",
     "iopub.status.idle": "2024-06-04T23:20:01.007137Z",
     "shell.execute_reply": "2024-06-04T23:20:01.006871Z"
    }
   },
   "outputs": [],
   "source": [
    "D = np.zeros((X.shape[0], X.shape[0]));\n",
    "for i in range(X.shape[0]):\n",
    "    x_ = np.multiply.outer(np.ones(X.shape[0]), X[i])\n",
    "    D[i] = np.sqrt(np.sum((X - x_)**2, 1));\n",
    "hc_sing_pre = HClust(distance_threshold=0,\n",
    "                     n_clusters=None,\n",
    "                     metric='precomputed',\n",
    "                     linkage='single')\n",
    "hc_sing_pre.fit(D)"
   ]
  },
  {
   "cell_type": "markdown",
   "id": "cd51d288",
   "metadata": {},
   "source": [
    "We use\n",
    "`dendrogram()` from `scipy.cluster.hierarchy` to plot the dendrogram. However,\n",
    "`dendrogram()` expects a so-called *linkage-matrix representation*\n",
    "of the clustering, which is not provided by `AgglomerativeClustering()`,\n",
    "but can be computed. The function `compute_linkage()` in the\n",
    "`ISLP.cluster` package is provided for this purpose.\n",
    "\n",
    "We can now plot the dendrograms. The numbers at the bottom of the plot\n",
    "identify each observation. The `dendrogram()` function has a default method to\n",
    "color different branches of the tree that suggests a pre-defined cut of the tree at a particular depth.\n",
    "We prefer to overwrite this default by setting this threshold to be infinite. Since we want this behavior for many dendrograms, we store these values in a dictionary `cargs` and pass this as keyword arguments using the notation `**cargs`."
   ]
  },
  {
   "cell_type": "code",
   "execution_count": null,
   "id": "b2902747",
   "metadata": {
    "execution": {
     "iopub.execute_input": "2024-06-04T23:20:01.008552Z",
     "iopub.status.busy": "2024-06-04T23:20:01.008452Z",
     "iopub.status.idle": "2024-06-04T23:20:01.157711Z",
     "shell.execute_reply": "2024-06-04T23:20:01.157301Z"
    }
   },
   "outputs": [],
   "source": [
    "cargs = {'color_threshold':-np.inf,\n",
    "         'above_threshold_color':'black'}\n",
    "linkage_comp = compute_linkage(hc_comp)\n",
    "fig, ax = plt.subplots(1, 1, figsize=(8, 8))\n",
    "dendrogram(linkage_comp,\n",
    "           ax=ax,\n",
    "           **cargs);"
   ]
  },
  {
   "cell_type": "markdown",
   "id": "6933178d",
   "metadata": {},
   "source": [
    "We may want to color branches of the tree above\n",
    "and below a cut-threshold differently. This can be achieved\n",
    "by changing the `color_threshold`. Let’s cut the tree at a height of 4,\n",
    "coloring links that merge above 4 in black."
   ]
  },
  {
   "cell_type": "code",
   "execution_count": null,
   "id": "81bc1753",
   "metadata": {
    "execution": {
     "iopub.execute_input": "2024-06-04T23:20:01.159274Z",
     "iopub.status.busy": "2024-06-04T23:20:01.159152Z",
     "iopub.status.idle": "2024-06-04T23:20:01.340885Z",
     "shell.execute_reply": "2024-06-04T23:20:01.340610Z"
    }
   },
   "outputs": [],
   "source": [
    "fig, ax = plt.subplots(1, 1, figsize=(8, 8))\n",
    "dendrogram(linkage_comp,\n",
    "           ax=ax,\n",
    "           color_threshold=4,\n",
    "           above_threshold_color='black');"
   ]
  },
  {
   "cell_type": "markdown",
   "id": "5e4cd4ee",
   "metadata": {},
   "source": [
    "To determine the cluster labels for each observation associated with a\n",
    "given cut of the dendrogram, we can use the `cut_tree()` \n",
    "function from `scipy.cluster.hierarchy`:"
   ]
  },
  {
   "cell_type": "code",
   "execution_count": null,
   "id": "12fa137c",
   "metadata": {
    "execution": {
     "iopub.execute_input": "2024-06-04T23:20:01.342467Z",
     "iopub.status.busy": "2024-06-04T23:20:01.342352Z",
     "iopub.status.idle": "2024-06-04T23:20:01.345327Z",
     "shell.execute_reply": "2024-06-04T23:20:01.345090Z"
    }
   },
   "outputs": [],
   "source": [
    "cut_tree(linkage_comp, n_clusters=4).T"
   ]
  },
  {
   "cell_type": "markdown",
   "id": "404ae519",
   "metadata": {},
   "source": [
    "This can also be achieved by providing an argument `n_clusters`\n",
    "to `HClust()`; however each cut would require recomputing\n",
    "the clustering. Similarly, trees may be cut by distance threshold\n",
    "with an argument of `distance_threshold` to `HClust()`\n",
    "or `height` to `cut_tree()`."
   ]
  },
  {
   "cell_type": "code",
   "execution_count": null,
   "id": "bfbbb0bc",
   "metadata": {
    "execution": {
     "iopub.execute_input": "2024-06-04T23:20:01.346645Z",
     "iopub.status.busy": "2024-06-04T23:20:01.346551Z",
     "iopub.status.idle": "2024-06-04T23:20:01.349500Z",
     "shell.execute_reply": "2024-06-04T23:20:01.349288Z"
    }
   },
   "outputs": [],
   "source": [
    "cut_tree(linkage_comp, height=5)"
   ]
  },
  {
   "cell_type": "markdown",
   "id": "b5fcdb74",
   "metadata": {},
   "source": [
    "To scale the variables before performing hierarchical clustering of\n",
    "the observations, we use `StandardScaler()`  as in our PCA example:"
   ]
  },
  {
   "cell_type": "code",
   "execution_count": null,
   "id": "4a183e53",
   "metadata": {
    "execution": {
     "iopub.execute_input": "2024-06-04T23:20:01.350672Z",
     "iopub.status.busy": "2024-06-04T23:20:01.350588Z",
     "iopub.status.idle": "2024-06-04T23:20:01.504539Z",
     "shell.execute_reply": "2024-06-04T23:20:01.504262Z"
    }
   },
   "outputs": [],
   "source": [
    "scaler = StandardScaler()\n",
    "X_scale = scaler.fit_transform(X)\n",
    "hc_comp_scale = HClust(distance_threshold=0,\n",
    "                       n_clusters=None,\n",
    "                       linkage='complete').fit(X_scale)\n",
    "linkage_comp_scale = compute_linkage(hc_comp_scale)\n",
    "fig, ax = plt.subplots(1, 1, figsize=(8, 8))\n",
    "dendrogram(linkage_comp_scale, ax=ax, **cargs)\n",
    "ax.set_title(\"Hierarchical Clustering with Scaled Features\");"
   ]
  },
  {
   "cell_type": "markdown",
   "id": "42cd318f",
   "metadata": {},
   "source": [
    "Correlation-based distances between observations can be used for\n",
    "clustering. The correlation between two observations measures the\n",
    "similarity of their feature values. {Suppose each observation has\n",
    "  $p$ features, each a single numerical value. We measure the\n",
    "  similarity of two such observations by computing the\n",
    "  correlation of these $p$ pairs of numbers.}\n",
    "With $n$ observations, the $n\\times n$ correlation matrix can then be used as a similarity (or affinity) matrix, i.e. so that one minus the correlation matrix is the dissimilarity matrix used for clustering.\n",
    "\n",
    "Note that using correlation only makes sense for\n",
    "data with at least three features since the absolute correlation\n",
    "between any two observations with measurements on two features is\n",
    "always one. Hence, we will cluster a three-dimensional data set."
   ]
  },
  {
   "cell_type": "code",
   "execution_count": null,
   "id": "fca5af66",
   "metadata": {
    "execution": {
     "iopub.execute_input": "2024-06-04T23:20:01.505992Z",
     "iopub.status.busy": "2024-06-04T23:20:01.505912Z",
     "iopub.status.idle": "2024-06-04T23:20:01.626714Z",
     "shell.execute_reply": "2024-06-04T23:20:01.626470Z"
    }
   },
   "outputs": [],
   "source": [
    "X = np.random.standard_normal((30, 3))\n",
    "corD = 1 - np.corrcoef(X)\n",
    "hc_cor = HClust(linkage='complete',\n",
    "                distance_threshold=0,\n",
    "                n_clusters=None,\n",
    "                metric='precomputed')\n",
    "hc_cor.fit(corD)\n",
    "linkage_cor = compute_linkage(hc_cor)\n",
    "fig, ax = plt.subplots(1, 1, figsize=(8, 8))\n",
    "dendrogram(linkage_cor, ax=ax, **cargs)\n",
    "ax.set_title(\"Complete Linkage with Correlation-Based Dissimilarity\");"
   ]
  },
  {
   "cell_type": "markdown",
   "id": "5ed5d4bf",
   "metadata": {},
   "source": [
    "## NCI60 Data Example\n",
    "Unsupervised techniques are often used in the analysis of genomic\n",
    "data. In particular, PCA and hierarchical clustering are popular\n",
    "tools.  We illustrate these techniques on the `NCI60`  cancer cell line\n",
    "microarray data, which consists of 6830 gene expression\n",
    "measurements on 64 cancer cell lines."
   ]
  },
  {
   "cell_type": "code",
   "execution_count": null,
   "id": "64352331",
   "metadata": {
    "execution": {
     "iopub.execute_input": "2024-06-04T23:20:01.628099Z",
     "iopub.status.busy": "2024-06-04T23:20:01.628029Z",
     "iopub.status.idle": "2024-06-04T23:20:01.633228Z",
     "shell.execute_reply": "2024-06-04T23:20:01.633002Z"
    }
   },
   "outputs": [],
   "source": [
    "NCI60 = load_data('NCI60')\n",
    "nci_labs = NCI60['labels']\n",
    "nci_data = NCI60['data']"
   ]
  },
  {
   "cell_type": "markdown",
   "id": "02384331",
   "metadata": {},
   "source": [
    "Each cell line is labeled with a cancer type. We do not make use of\n",
    "the cancer types in performing PCA and clustering, as these are\n",
    "unsupervised techniques. But after performing PCA and clustering, we\n",
    "will check to see the extent to which these cancer types agree with\n",
    "the results of these unsupervised techniques.\n",
    "\n",
    "The data has 64 rows and 6830 columns."
   ]
  },
  {
   "cell_type": "code",
   "execution_count": null,
   "id": "224f03e9",
   "metadata": {
    "execution": {
     "iopub.execute_input": "2024-06-04T23:20:01.634598Z",
     "iopub.status.busy": "2024-06-04T23:20:01.634524Z",
     "iopub.status.idle": "2024-06-04T23:20:01.636446Z",
     "shell.execute_reply": "2024-06-04T23:20:01.636188Z"
    }
   },
   "outputs": [],
   "source": [
    "nci_data.shape"
   ]
  },
  {
   "cell_type": "markdown",
   "id": "a9fcff33",
   "metadata": {},
   "source": [
    "We begin by examining the cancer types for the cell lines."
   ]
  },
  {
   "cell_type": "code",
   "execution_count": null,
   "id": "7b5e3fe5",
   "metadata": {
    "execution": {
     "iopub.execute_input": "2024-06-04T23:20:01.637751Z",
     "iopub.status.busy": "2024-06-04T23:20:01.637686Z",
     "iopub.status.idle": "2024-06-04T23:20:01.640873Z",
     "shell.execute_reply": "2024-06-04T23:20:01.640636Z"
    }
   },
   "outputs": [],
   "source": [
    "nci_labs.value_counts()"
   ]
  },
  {
   "cell_type": "markdown",
   "id": "2c2b6659",
   "metadata": {},
   "source": [
    "### PCA on the NCI60 Data\n",
    "\n",
    "We first perform PCA on the data after scaling the variables (genes)\n",
    "to have standard deviation one, although here one could reasonably argue\n",
    "that it is better not to scale the genes as they are measured in the same units."
   ]
  },
  {
   "cell_type": "code",
   "execution_count": null,
   "id": "8e1d2d85",
   "metadata": {
    "execution": {
     "iopub.execute_input": "2024-06-04T23:20:01.642205Z",
     "iopub.status.busy": "2024-06-04T23:20:01.642130Z",
     "iopub.status.idle": "2024-06-04T23:20:01.835589Z",
     "shell.execute_reply": "2024-06-04T23:20:01.834884Z"
    }
   },
   "outputs": [],
   "source": [
    "scaler = StandardScaler()\n",
    "nci_scaled = scaler.fit_transform(nci_data)\n",
    "nci_pca = PCA()\n",
    "nci_scores = nci_pca.fit_transform(nci_scaled)"
   ]
  },
  {
   "cell_type": "markdown",
   "id": "19ac96ab",
   "metadata": {},
   "source": [
    "We now plot the first few principal component score vectors, in order\n",
    "to visualize the data. The observations (cell lines) corresponding to\n",
    "a given cancer type will be plotted in the same color, so that we can\n",
    "see to what extent the observations within a cancer type are similar\n",
    "to each other."
   ]
  },
  {
   "cell_type": "code",
   "execution_count": null,
   "id": "5b76ee22",
   "metadata": {
    "execution": {
     "iopub.execute_input": "2024-06-04T23:20:01.838692Z",
     "iopub.status.busy": "2024-06-04T23:20:01.838473Z",
     "iopub.status.idle": "2024-06-04T23:20:02.097401Z",
     "shell.execute_reply": "2024-06-04T23:20:02.097122Z"
    }
   },
   "outputs": [],
   "source": [
    "cancer_types = list(np.unique(nci_labs))\n",
    "nci_groups = np.array([cancer_types.index(lab)\n",
    "                       for lab in nci_labs.values])\n",
    "fig, axes = plt.subplots(1, 2, figsize=(15,6))\n",
    "ax = axes[0]\n",
    "ax.scatter(nci_scores[:,0],\n",
    "           nci_scores[:,1],\n",
    "           c=nci_groups,\n",
    "           marker='o',\n",
    "           s=50)\n",
    "ax.set_xlabel('PC1'); ax.set_ylabel('PC2')\n",
    "ax = axes[1]\n",
    "ax.scatter(nci_scores[:,0],\n",
    "           nci_scores[:,2],\n",
    "           c=nci_groups,\n",
    "           marker='o',\n",
    "           s=50)\n",
    "ax.set_xlabel('PC1'); ax.set_ylabel('PC3');"
   ]
  },
  {
   "cell_type": "markdown",
   "id": "d41c234d",
   "metadata": {},
   "source": [
    "On the whole, cell lines corresponding to a single cancer type do tend to\n",
    "have similar values on the first few principal component score\n",
    "vectors. This indicates that cell lines from the same cancer type tend\n",
    "to have pretty similar gene expression levels."
   ]
  },
  {
   "cell_type": "markdown",
   "id": "ed8042b5",
   "metadata": {},
   "source": [
    "We can also plot the percent variance\n",
    "explained by the principal components as well as the cumulative percent variance explained.\n",
    "This is similar to the plots we made earlier for the `USArrests` data."
   ]
  },
  {
   "cell_type": "code",
   "execution_count": null,
   "id": "9b1b74c2",
   "metadata": {
    "execution": {
     "iopub.execute_input": "2024-06-04T23:20:02.098796Z",
     "iopub.status.busy": "2024-06-04T23:20:02.098709Z",
     "iopub.status.idle": "2024-06-04T23:20:02.211186Z",
     "shell.execute_reply": "2024-06-04T23:20:02.210897Z"
    }
   },
   "outputs": [],
   "source": [
    "fig, axes = plt.subplots(1, 2, figsize=(15,6))\n",
    "ax = axes[0]\n",
    "ticks = np.arange(nci_pca.n_components_)+1\n",
    "ax.plot(ticks,\n",
    "        nci_pca.explained_variance_ratio_,\n",
    "        marker='o')\n",
    "ax.set_xlabel('Principal Component');\n",
    "ax.set_ylabel('PVE')\n",
    "ax = axes[1]\n",
    "ax.plot(ticks,\n",
    "        nci_pca.explained_variance_ratio_.cumsum(),\n",
    "        marker='o');\n",
    "ax.set_xlabel('Principal Component')\n",
    "ax.set_ylabel('Cumulative PVE');"
   ]
  },
  {
   "cell_type": "markdown",
   "id": "632a2c2c",
   "metadata": {},
   "source": [
    "We see that together, the first seven principal components explain\n",
    "around 40% of the variance in the data. This is not a huge amount\n",
    "of the variance. However, looking at the scree plot, we see that while\n",
    "each of the first seven principal components explain a substantial\n",
    "amount of variance, there is a marked decrease in the variance\n",
    "explained by further principal components. That is, there is an\n",
    "*elbow*  in the plot after approximately the seventh\n",
    "principal component.  This suggests that there may be little benefit\n",
    "to examining more than seven or so principal components (though even\n",
    "examining seven principal components may be difficult)."
   ]
  },
  {
   "cell_type": "markdown",
   "id": "affa23a9",
   "metadata": {},
   "source": [
    "### Clustering the Observations of the NCI60 Data\n",
    "\n",
    "We now perform hierarchical clustering of the cell lines in the `NCI60` data using\n",
    "complete, single, and   average linkage. Once again, the goal is to find out whether or not the observations cluster into distinct types of cancer. Euclidean\n",
    "distance is used as the dissimilarity measure. We first write a short\n",
    "function to  produce\n",
    "the three dendrograms."
   ]
  },
  {
   "cell_type": "code",
   "execution_count": null,
   "id": "9b95fed9",
   "metadata": {
    "execution": {
     "iopub.execute_input": "2024-06-04T23:20:02.213627Z",
     "iopub.status.busy": "2024-06-04T23:20:02.213362Z",
     "iopub.status.idle": "2024-06-04T23:20:02.216618Z",
     "shell.execute_reply": "2024-06-04T23:20:02.216339Z"
    }
   },
   "outputs": [],
   "source": [
    "def plot_nci(linkage, ax, cut=-np.inf):\n",
    "    cargs = {'above_threshold_color':'black',\n",
    "             'color_threshold':cut}\n",
    "    hc = HClust(n_clusters=None,\n",
    "                distance_threshold=0,\n",
    "                linkage=linkage.lower()).fit(nci_scaled)\n",
    "    linkage_ = compute_linkage(hc)\n",
    "    dendrogram(linkage_,\n",
    "               ax=ax,\n",
    "               labels=np.asarray(nci_labs),\n",
    "               leaf_font_size=10,\n",
    "               **cargs)\n",
    "    ax.set_title('%s Linkage' % linkage)\n",
    "    return hc"
   ]
  },
  {
   "cell_type": "markdown",
   "id": "55c3a79d",
   "metadata": {},
   "source": [
    "Let’s  plot our results."
   ]
  },
  {
   "cell_type": "code",
   "execution_count": null,
   "id": "6c58d281",
   "metadata": {
    "execution": {
     "iopub.execute_input": "2024-06-04T23:20:02.218730Z",
     "iopub.status.busy": "2024-06-04T23:20:02.218629Z",
     "iopub.status.idle": "2024-06-04T23:20:03.019903Z",
     "shell.execute_reply": "2024-06-04T23:20:03.019670Z"
    }
   },
   "outputs": [],
   "source": [
    "fig, axes = plt.subplots(3, 1, figsize=(15,30))      \n",
    "ax = axes[0]; hc_comp = plot_nci('Complete', ax)\n",
    "ax = axes[1]; hc_avg = plot_nci('Average', ax)\n",
    "ax = axes[2]; hc_sing = plot_nci('Single', ax)"
   ]
  },
  {
   "cell_type": "markdown",
   "id": "4d2ce0f1",
   "metadata": {},
   "source": [
    "We see that the\n",
    "choice of linkage certainly does affect the results\n",
    "obtained. Typically, single linkage will tend to yield *trailing*\n",
    "clusters: very large clusters onto which individual observations\n",
    "attach one-by-one. On the other hand, complete and average linkage\n",
    "tend to yield more balanced, attractive clusters. For this reason,\n",
    "complete and average linkage are generally preferred to single\n",
    "linkage.  Clearly cell lines within a single cancer type do tend to\n",
    "cluster together, although the clustering is not perfect. We will use\n",
    "complete linkage hierarchical clustering for the analysis that\n",
    "follows.\n",
    " \n",
    "We can cut the dendrogram at the height that will yield a particular\n",
    "number of clusters, say four:"
   ]
  },
  {
   "cell_type": "code",
   "execution_count": null,
   "id": "ed965079",
   "metadata": {
    "execution": {
     "iopub.execute_input": "2024-06-04T23:20:03.021337Z",
     "iopub.status.busy": "2024-06-04T23:20:03.021228Z",
     "iopub.status.idle": "2024-06-04T23:20:03.030000Z",
     "shell.execute_reply": "2024-06-04T23:20:03.029729Z"
    }
   },
   "outputs": [],
   "source": [
    "linkage_comp = compute_linkage(hc_comp)\n",
    "comp_cut = cut_tree(linkage_comp, n_clusters=4).reshape(-1)\n",
    "pd.crosstab(nci_labs['label'],\n",
    "            pd.Series(comp_cut.reshape(-1), name='Complete'))"
   ]
  },
  {
   "cell_type": "markdown",
   "id": "4bc69aff",
   "metadata": {},
   "source": [
    "There are some clear patterns. All the leukemia cell lines fall in\n",
    "one cluster, while the breast cancer cell lines are spread out over\n",
    "three different clusters.\n",
    "\n",
    "We can plot a cut on the dendrogram that produces these four clusters:"
   ]
  },
  {
   "cell_type": "code",
   "execution_count": null,
   "id": "c487bbc7",
   "metadata": {
    "execution": {
     "iopub.execute_input": "2024-06-04T23:20:03.031335Z",
     "iopub.status.busy": "2024-06-04T23:20:03.031249Z",
     "iopub.status.idle": "2024-06-04T23:20:03.418631Z",
     "shell.execute_reply": "2024-06-04T23:20:03.417729Z"
    }
   },
   "outputs": [],
   "source": [
    "fig, ax = plt.subplots(figsize=(10,10))\n",
    "plot_nci('Complete', ax, cut=140)\n",
    "ax.axhline(140, c='r', linewidth=4);"
   ]
  },
  {
   "cell_type": "markdown",
   "id": "7976c47b",
   "metadata": {},
   "source": [
    "The `axhline()`  function draws a horizontal line  line on top of any\n",
    "existing set of axes. The argument `140` plots a horizontal\n",
    "line at height 140 on the dendrogram; this is a height that\n",
    "results in four distinct clusters. It is easy to verify that the\n",
    "resulting clusters are the same as the ones we obtained in\n",
    "`comp_cut`.\n",
    "\n",
    "We claimed earlier in Section~\\ref{Ch10:subsec:hc} that\n",
    "$K$-means clustering and hierarchical clustering with the dendrogram\n",
    "cut to obtain the same number of clusters can yield very different\n",
    "results.  How do these `NCI60` hierarchical clustering results compare\n",
    "to what we get if we perform $K$-means clustering with $K=4$?"
   ]
  },
  {
   "cell_type": "code",
   "execution_count": null,
   "id": "345edc5f",
   "metadata": {
    "execution": {
     "iopub.execute_input": "2024-06-04T23:20:03.421007Z",
     "iopub.status.busy": "2024-06-04T23:20:03.420875Z",
     "iopub.status.idle": "2024-06-04T23:20:04.678569Z",
     "shell.execute_reply": "2024-06-04T23:20:04.678043Z"
    }
   },
   "outputs": [],
   "source": [
    "nci_kmeans = KMeans(n_clusters=4, \n",
    "                    random_state=0,\n",
    "                    n_init=20).fit(nci_scaled)\n",
    "pd.crosstab(pd.Series(comp_cut, name='HClust'),\n",
    "            pd.Series(nci_kmeans.labels_, name='K-means'))"
   ]
  },
  {
   "cell_type": "markdown",
   "id": "f4d97be5",
   "metadata": {},
   "source": [
    "We see that the four clusters obtained using hierarchical clustering\n",
    "and $K$-means clustering are somewhat different. First we note\n",
    "that the labels in the two clusterings are arbitrary. That is, swapping\n",
    "the identifier of the cluster does not\n",
    "change the clustering. We see here Cluster 3 in\n",
    "$K$-means clustering is identical to cluster 2 in hierarchical\n",
    "clustering. However, the other clusters differ: for instance,\n",
    "cluster 0 in $K$-means clustering contains a portion of the\n",
    "observations assigned to cluster 0 by hierarchical clustering, as well\n",
    "as all of the observations assigned to cluster 1 by hierarchical\n",
    "clustering.\n",
    "\n",
    "Rather than performing hierarchical clustering on the entire data\n",
    "matrix, we can also perform hierarchical clustering on the first few\n",
    "principal component score vectors, regarding these first few components\n",
    "as a less noisy version of the data."
   ]
  },
  {
   "cell_type": "code",
   "execution_count": null,
   "id": "90d617e0",
   "metadata": {
    "execution": {
     "iopub.execute_input": "2024-06-04T23:20:04.684581Z",
     "iopub.status.busy": "2024-06-04T23:20:04.684302Z",
     "iopub.status.idle": "2024-06-04T23:20:05.125639Z",
     "shell.execute_reply": "2024-06-04T23:20:05.125298Z"
    }
   },
   "outputs": [],
   "source": [
    "hc_pca = HClust(n_clusters=None,\n",
    "                distance_threshold=0,\n",
    "                linkage='complete'\n",
    "                ).fit(nci_scores[:,:5])\n",
    "linkage_pca = compute_linkage(hc_pca)\n",
    "fig, ax = plt.subplots(figsize=(8,8))\n",
    "dendrogram(linkage_pca,\n",
    "           labels=np.asarray(nci_labs),\n",
    "           leaf_font_size=10,\n",
    "           ax=ax,\n",
    "           **cargs)\n",
    "ax.set_title(\"Hier. Clust. on First Five Score Vectors\")\n",
    "pca_labels = pd.Series(cut_tree(linkage_pca,\n",
    "                                n_clusters=4).reshape(-1),\n",
    "                       name='Complete-PCA')\n",
    "pd.crosstab(nci_labs['label'], pca_labels)"
   ]
  }
 ],
 "metadata": {
  "jupytext": {
   "cell_metadata_filter": "-all",
   "formats": "Rmd,ipynb",
   "main_language": "python"
  },
  "language_info": {
   "codemirror_mode": {
    "name": "ipython",
    "version": 3
   },
   "file_extension": ".py",
   "mimetype": "text/x-python",
   "name": "python",
   "nbconvert_exporter": "python",
   "pygments_lexer": "ipython3",
   "version": "3.12.3"
  }
 },
 "nbformat": 4,
 "nbformat_minor": 5
}
