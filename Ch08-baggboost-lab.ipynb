{
 "cells": [
  {
   "cell_type": "markdown",
   "id": "934eb5b1",
   "metadata": {},
   "source": [
    "# Tree-Based Methods\n",
    "\n",
    "<a target=\"_blank\" href=\"https://colab.research.google.com/github/intro-stat-learning/ISLP_labs/blob/v2.2/Ch08-baggboost-lab.ipynb\">\n",
    "<img src=\"https://colab.research.google.com/assets/colab-badge.svg\" alt=\"Open In Colab\"/>\n",
    "</a>\n",
    "\n",
    "[![Binder](https://mybinder.org/badge_logo.svg)](https://mybinder.org/v2/gh/intro-stat-learning/ISLP_labs/v2.2?labpath=Ch08-baggboost-lab.ipynb)"
   ]
  },
  {
   "cell_type": "markdown",
   "id": "54d5b3e6",
   "metadata": {},
   "source": [
    "We import some of our usual libraries at this top\n",
    "level."
   ]
  },
  {
   "cell_type": "code",
   "execution_count": null,
   "id": "0f4c7654",
   "metadata": {
    "execution": {
     "iopub.execute_input": "2024-06-04T23:19:40.079955Z",
     "iopub.status.busy": "2024-06-04T23:19:40.079505Z",
     "iopub.status.idle": "2024-06-04T23:19:40.907476Z",
     "shell.execute_reply": "2024-06-04T23:19:40.907166Z"
    }
   },
   "outputs": [],
   "source": [
    "import numpy as np\n",
    "import pandas as pd\n",
    "from matplotlib.pyplot import subplots\n",
    "import sklearn.model_selection as skm\n",
    "from ISLP import load_data, confusion_table\n",
    "from ISLP.models import ModelSpec as MS"
   ]
  },
  {
   "cell_type": "markdown",
   "id": "8bafdee4",
   "metadata": {},
   "source": [
    "We also  collect the new imports\n",
    "needed for this lab."
   ]
  },
  {
   "cell_type": "code",
   "execution_count": null,
   "id": "8d6cbed4",
   "metadata": {
    "execution": {
     "iopub.execute_input": "2024-06-04T23:19:40.909130Z",
     "iopub.status.busy": "2024-06-04T23:19:40.909012Z",
     "iopub.status.idle": "2024-06-04T23:19:40.959537Z",
     "shell.execute_reply": "2024-06-04T23:19:40.959331Z"
    }
   },
   "outputs": [],
   "source": [
    "from sklearn.tree import (DecisionTreeClassifier as DTC,\n",
    "                          DecisionTreeRegressor as DTR,\n",
    "                          plot_tree,\n",
    "                          export_text)\n",
    "from sklearn.metrics import (accuracy_score,\n",
    "                             log_loss)\n",
    "from sklearn.ensemble import \\\n",
    "     (RandomForestRegressor as RF,\n",
    "      GradientBoostingRegressor as GBR)\n",
    "from ISLP.bart import BART"
   ]
  },
  {
   "cell_type": "markdown",
   "id": "2e4ca47c",
   "metadata": {},
   "source": [
    "## Fitting Classification Trees"
   ]
  },
  {
   "cell_type": "markdown",
   "id": "b0d12b3d",
   "metadata": {},
   "source": [
    "We first use classification trees to analyze the  `Carseats`  data set.\n",
    "In these data, `Sales` is a continuous variable, and so we begin\n",
    "by recoding it as a binary variable. We use the `where()` \n",
    "function to create a variable, called `High`, which takes on a\n",
    "value of `Yes` if the `Sales` variable exceeds 8, and takes\n",
    "on a value of `No` otherwise."
   ]
  },
  {
   "cell_type": "code",
   "execution_count": null,
   "id": "d85f1550",
   "metadata": {
    "execution": {
     "iopub.execute_input": "2024-06-04T23:19:40.960966Z",
     "iopub.status.busy": "2024-06-04T23:19:40.960851Z",
     "iopub.status.idle": "2024-06-04T23:19:40.965270Z",
     "shell.execute_reply": "2024-06-04T23:19:40.965080Z"
    }
   },
   "outputs": [],
   "source": [
    "Carseats = load_data('Carseats')\n",
    "High = np.where(Carseats.Sales > 8, \"Yes\", \"No\")\n",
    "                "
   ]
  },
  {
   "cell_type": "markdown",
   "id": "30777bb3",
   "metadata": {},
   "source": [
    "We now use `DecisionTreeClassifier()`  to fit a classification tree in\n",
    "order to predict `High` using all variables but `Sales`.\n",
    "To do so, we must form a model matrix as we did when fitting regression\n",
    "models."
   ]
  },
  {
   "cell_type": "code",
   "execution_count": null,
   "id": "36229722",
   "metadata": {
    "execution": {
     "iopub.execute_input": "2024-06-04T23:19:40.966447Z",
     "iopub.status.busy": "2024-06-04T23:19:40.966356Z",
     "iopub.status.idle": "2024-06-04T23:19:40.975698Z",
     "shell.execute_reply": "2024-06-04T23:19:40.975481Z"
    }
   },
   "outputs": [],
   "source": [
    "model = MS(Carseats.columns.drop('Sales'), intercept=False)\n",
    "D = model.fit_transform(Carseats)\n",
    "feature_names = list(D.columns)\n",
    "X = np.asarray(D)"
   ]
  },
  {
   "cell_type": "markdown",
   "id": "a9219335",
   "metadata": {},
   "source": [
    "We have converted `D` from a data frame to an array `X`, which is needed in some of the analysis below. We also need the `feature_names` for annotating our plots later.\n",
    "\n",
    "There are several options needed to specify the  classifier,\n",
    "such as `max_depth` (how deep to grow the tree), `min_samples_split`\n",
    "(minimum number of observations in a node to be eligible for splitting)\n",
    "and `criterion` (whether to use Gini or cross-entropy as the split criterion).\n",
    "We also set `random_state` for reproducibility; ties in the split criterion are broken at random."
   ]
  },
  {
   "cell_type": "code",
   "execution_count": null,
   "id": "587701c2",
   "metadata": {
    "execution": {
     "iopub.execute_input": "2024-06-04T23:19:40.976920Z",
     "iopub.status.busy": "2024-06-04T23:19:40.976850Z",
     "iopub.status.idle": "2024-06-04T23:19:40.981259Z",
     "shell.execute_reply": "2024-06-04T23:19:40.981057Z"
    }
   },
   "outputs": [],
   "source": [
    "clf = DTC(criterion='entropy',\n",
    "          max_depth=3,\n",
    "          random_state=0)        \n",
    "clf.fit(X, High)"
   ]
  },
  {
   "cell_type": "markdown",
   "id": "c8af7dd3",
   "metadata": {},
   "source": [
    "In our discussion of qualitative features in Section~\\ref{ch3:sec3},\n",
    "we noted that for a linear regression model such a feature could be\n",
    "represented by including a matrix of dummy variables (one-hot-encoding) in the model\n",
    "matrix, using the formula notation of `statsmodels`.\n",
    "As mentioned in Section~\\ref{Ch8:decison.tree.sec}, there is a more\n",
    "natural way to handle qualitative features when building a decision\n",
    "tree, that does not require such dummy variables; each split amounts to partitioning the levels into two groups.\n",
    "However, \n",
    "the `sklearn` implementation of decision trees does not take\n",
    "advantage of this approach; instead it simply treats the one-hot-encoded levels as separate variables."
   ]
  },
  {
   "cell_type": "code",
   "execution_count": null,
   "id": "a0194963",
   "metadata": {
    "execution": {
     "iopub.execute_input": "2024-06-04T23:19:40.982399Z",
     "iopub.status.busy": "2024-06-04T23:19:40.982321Z",
     "iopub.status.idle": "2024-06-04T23:19:40.984527Z",
     "shell.execute_reply": "2024-06-04T23:19:40.984345Z"
    }
   },
   "outputs": [],
   "source": [
    "accuracy_score(High, clf.predict(X))"
   ]
  },
  {
   "cell_type": "markdown",
   "id": "009ff8da",
   "metadata": {},
   "source": [
    "With only the default arguments, the training error rate is\n",
    "21%.\n",
    "For classification trees, we can\n",
    "access the value of the deviance using `log_loss()`,\n",
    "\\begin{equation*}\n",
    "\\begin{split}\n",
    "-2 \\sum_m \\sum_k n_{mk} \\log \\hat{p}_{mk},\n",
    "\\end{split}\n",
    "\\end{equation*}\n",
    "where $n_{mk}$ is the number of observations in the $m$th terminal\n",
    "node that belong to the $k$th class."
   ]
  },
  {
   "cell_type": "code",
   "execution_count": null,
   "id": "ef173e93",
   "metadata": {
    "execution": {
     "iopub.execute_input": "2024-06-04T23:19:40.985725Z",
     "iopub.status.busy": "2024-06-04T23:19:40.985647Z",
     "iopub.status.idle": "2024-06-04T23:19:40.988104Z",
     "shell.execute_reply": "2024-06-04T23:19:40.987929Z"
    }
   },
   "outputs": [],
   "source": [
    "resid_dev = np.sum(log_loss(High, clf.predict_proba(X)))\n",
    "resid_dev"
   ]
  },
  {
   "cell_type": "markdown",
   "id": "e88410fc",
   "metadata": {},
   "source": [
    "This is closely related to the *entropy*, defined in (\\ref{Ch8:eq:cross-entropy}).\n",
    "A small deviance indicates a\n",
    "tree that provides a good fit to the (training) data.\n",
    " \n",
    "One of the most attractive properties of trees is that they can\n",
    "be graphically displayed. Here we use the `plot()`  function\n",
    "to display the tree structure."
   ]
  },
  {
   "cell_type": "code",
   "execution_count": null,
   "id": "06cd42f6",
   "metadata": {
    "execution": {
     "iopub.execute_input": "2024-06-04T23:19:40.989180Z",
     "iopub.status.busy": "2024-06-04T23:19:40.989116Z",
     "iopub.status.idle": "2024-06-04T23:19:41.199225Z",
     "shell.execute_reply": "2024-06-04T23:19:41.198700Z"
    }
   },
   "outputs": [],
   "source": [
    "ax = subplots(figsize=(12,12))[1]\n",
    "plot_tree(clf,\n",
    "          feature_names=feature_names,\n",
    "          ax=ax);"
   ]
  },
  {
   "cell_type": "markdown",
   "id": "9df3c06d",
   "metadata": {},
   "source": [
    "The most important indicator of `Sales` appears to be `ShelveLoc`.\n",
    "\n",
    "We can see a text representation of the tree using\n",
    "`export_text()`, which displays the split\n",
    "criterion (e.g. `Price <= 92.5`) for each branch.\n",
    "For leaf nodes it shows the overall prediction  \n",
    "(`Yes` or `No`). \n",
    " We can also see the number of observations in that\n",
    "leaf that take on values of `Yes` and `No` by specifying  `show_weights=True`."
   ]
  },
  {
   "cell_type": "code",
   "execution_count": null,
   "id": "b6812ee3",
   "metadata": {
    "execution": {
     "iopub.execute_input": "2024-06-04T23:19:41.202511Z",
     "iopub.status.busy": "2024-06-04T23:19:41.202113Z",
     "iopub.status.idle": "2024-06-04T23:19:41.207460Z",
     "shell.execute_reply": "2024-06-04T23:19:41.206250Z"
    }
   },
   "outputs": [],
   "source": [
    "print(export_text(clf,\n",
    "                  feature_names=feature_names,\n",
    "                  show_weights=True))"
   ]
  },
  {
   "cell_type": "markdown",
   "id": "182468a0",
   "metadata": {},
   "source": [
    "In order to properly evaluate the performance of a classification tree\n",
    "on these data, we must estimate the test error rather than simply\n",
    "computing the training error. We split the observations into a\n",
    "training set and a test set, build the tree using the training set,\n",
    "and evaluate its performance on the test data. This pattern is\n",
    "similar to that in Chapter~\\ref{Ch6:varselect}, with the linear models\n",
    "replaced here by decision trees --- the code for validation\n",
    "is almost identical. This approach leads to correct predictions\n",
    "for 68.5% of the locations in the test data set."
   ]
  },
  {
   "cell_type": "code",
   "execution_count": null,
   "id": "7c731ea6",
   "metadata": {
    "execution": {
     "iopub.execute_input": "2024-06-04T23:19:41.210453Z",
     "iopub.status.busy": "2024-06-04T23:19:41.210211Z",
     "iopub.status.idle": "2024-06-04T23:19:41.223833Z",
     "shell.execute_reply": "2024-06-04T23:19:41.223373Z"
    }
   },
   "outputs": [],
   "source": [
    "validation = skm.ShuffleSplit(n_splits=1,\n",
    "                              test_size=200,\n",
    "                              random_state=0)\n",
    "results = skm.cross_validate(clf,\n",
    "                             D,\n",
    "                             High,\n",
    "                             cv=validation)\n",
    "results['test_score']"
   ]
  },
  {
   "cell_type": "markdown",
   "id": "20619b1d",
   "metadata": {},
   "source": [
    "Next, we consider whether pruning the tree might lead to improved\n",
    "classification performance. We first split the data into a training and\n",
    "test set. We will use cross-validation to prune the tree on the training\n",
    "set, and then evaluate the performance of the pruned tree on the test\n",
    "set."
   ]
  },
  {
   "cell_type": "code",
   "execution_count": null,
   "id": "84680f6a",
   "metadata": {
    "execution": {
     "iopub.execute_input": "2024-06-04T23:19:41.227054Z",
     "iopub.status.busy": "2024-06-04T23:19:41.226781Z",
     "iopub.status.idle": "2024-06-04T23:19:41.230834Z",
     "shell.execute_reply": "2024-06-04T23:19:41.230042Z"
    }
   },
   "outputs": [],
   "source": [
    "(X_train,\n",
    " X_test,\n",
    " High_train,\n",
    " High_test) = skm.train_test_split(X,\n",
    "                                   High,\n",
    "                                   test_size=0.5,\n",
    "                                   random_state=0)\n",
    "                                   "
   ]
  },
  {
   "cell_type": "markdown",
   "id": "76c4fd1f",
   "metadata": {},
   "source": [
    "We first refit the full tree on the training set; here we do not set a `max_depth` parameter, since we will learn that through cross-validation."
   ]
  },
  {
   "cell_type": "code",
   "execution_count": null,
   "id": "1c5dbf1d",
   "metadata": {
    "execution": {
     "iopub.execute_input": "2024-06-04T23:19:41.233920Z",
     "iopub.status.busy": "2024-06-04T23:19:41.233718Z",
     "iopub.status.idle": "2024-06-04T23:19:41.243506Z",
     "shell.execute_reply": "2024-06-04T23:19:41.242998Z"
    }
   },
   "outputs": [],
   "source": [
    "clf = DTC(criterion='entropy', random_state=0)\n",
    "clf.fit(X_train, High_train)\n",
    "accuracy_score(High_test, clf.predict(X_test))"
   ]
  },
  {
   "cell_type": "markdown",
   "id": "4b93ca55",
   "metadata": {},
   "source": [
    "Next we use the `cost_complexity_pruning_path()` method of\n",
    "`clf` to extract cost-complexity values."
   ]
  },
  {
   "cell_type": "code",
   "execution_count": null,
   "id": "8cf23460",
   "metadata": {
    "execution": {
     "iopub.execute_input": "2024-06-04T23:19:41.246374Z",
     "iopub.status.busy": "2024-06-04T23:19:41.246047Z",
     "iopub.status.idle": "2024-06-04T23:19:41.251681Z",
     "shell.execute_reply": "2024-06-04T23:19:41.251155Z"
    }
   },
   "outputs": [],
   "source": [
    "ccp_path = clf.cost_complexity_pruning_path(X_train, High_train)\n",
    "kfold = skm.KFold(10,\n",
    "                  random_state=1,\n",
    "                  shuffle=True)"
   ]
  },
  {
   "cell_type": "markdown",
   "id": "b58875f7",
   "metadata": {},
   "source": [
    "This yields a set of impurities and $\\alpha$ values\n",
    "from which we can extract an optimal one by cross-validation."
   ]
  },
  {
   "cell_type": "code",
   "execution_count": null,
   "id": "62abb2be",
   "metadata": {
    "execution": {
     "iopub.execute_input": "2024-06-04T23:19:41.255029Z",
     "iopub.status.busy": "2024-06-04T23:19:41.254557Z",
     "iopub.status.idle": "2024-06-04T23:19:41.484614Z",
     "shell.execute_reply": "2024-06-04T23:19:41.484364Z"
    }
   },
   "outputs": [],
   "source": [
    "grid = skm.GridSearchCV(clf,\n",
    "                        {'ccp_alpha': ccp_path.ccp_alphas},\n",
    "                        refit=True,\n",
    "                        cv=kfold,\n",
    "                        scoring='accuracy')\n",
    "grid.fit(X_train, High_train)\n",
    "grid.best_score_"
   ]
  },
  {
   "cell_type": "markdown",
   "id": "0787b680",
   "metadata": {},
   "source": [
    "Let’s take a look at the pruned true."
   ]
  },
  {
   "cell_type": "code",
   "execution_count": null,
   "id": "8311d318",
   "metadata": {
    "execution": {
     "iopub.execute_input": "2024-06-04T23:19:41.485939Z",
     "iopub.status.busy": "2024-06-04T23:19:41.485856Z",
     "iopub.status.idle": "2024-06-04T23:19:41.957648Z",
     "shell.execute_reply": "2024-06-04T23:19:41.957387Z"
    }
   },
   "outputs": [],
   "source": [
    "ax = subplots(figsize=(12, 12))[1]\n",
    "best_ = grid.best_estimator_\n",
    "plot_tree(best_,\n",
    "          feature_names=feature_names,\n",
    "          ax=ax);"
   ]
  },
  {
   "cell_type": "markdown",
   "id": "09d16ee7",
   "metadata": {},
   "source": [
    "This is quite a bushy tree. We could count the leaves, or query\n",
    "`best_` instead."
   ]
  },
  {
   "cell_type": "code",
   "execution_count": null,
   "id": "36d1cd8f",
   "metadata": {
    "execution": {
     "iopub.execute_input": "2024-06-04T23:19:41.959153Z",
     "iopub.status.busy": "2024-06-04T23:19:41.959051Z",
     "iopub.status.idle": "2024-06-04T23:19:41.961196Z",
     "shell.execute_reply": "2024-06-04T23:19:41.960938Z"
    }
   },
   "outputs": [],
   "source": [
    "best_.tree_.n_leaves"
   ]
  },
  {
   "cell_type": "markdown",
   "id": "51e45fff",
   "metadata": {},
   "source": [
    "The tree with 30 terminal\n",
    "nodes results in the lowest cross-validation error rate, with an accuracy of\n",
    "68.5%. How well does this pruned tree perform on the test data set? Once\n",
    "again, we apply the `predict()`  function."
   ]
  },
  {
   "cell_type": "code",
   "execution_count": null,
   "id": "f0f7bd8c",
   "metadata": {
    "execution": {
     "iopub.execute_input": "2024-06-04T23:19:41.962629Z",
     "iopub.status.busy": "2024-06-04T23:19:41.962538Z",
     "iopub.status.idle": "2024-06-04T23:19:41.967670Z",
     "shell.execute_reply": "2024-06-04T23:19:41.967362Z"
    }
   },
   "outputs": [],
   "source": [
    "print(accuracy_score(High_test,\n",
    "                     best_.predict(X_test)))\n",
    "confusion = confusion_table(best_.predict(X_test),\n",
    "                            High_test)\n",
    "confusion"
   ]
  },
  {
   "cell_type": "markdown",
   "id": "a0b68fdb",
   "metadata": {},
   "source": [
    "Now 72.0% of the test observations are correctly classified, which is slightly worse than the error for the full tree (with 35 leaves). So cross-validation has not helped us much here; it only pruned off 5 leaves, at a cost of a slightly worse error. These results would change if we were to change the random number seeds above; even though cross-validation gives an unbiased approach to model selection, it does have variance."
   ]
  },
  {
   "cell_type": "markdown",
   "id": "ef41e25e",
   "metadata": {},
   "source": [
    "## Fitting Regression Trees\n",
    "Here we fit a regression tree to the  `Boston`  data set. The\n",
    "steps are similar to those for classification trees."
   ]
  },
  {
   "cell_type": "code",
   "execution_count": null,
   "id": "663d8cba",
   "metadata": {
    "execution": {
     "iopub.execute_input": "2024-06-04T23:19:41.969083Z",
     "iopub.status.busy": "2024-06-04T23:19:41.969008Z",
     "iopub.status.idle": "2024-06-04T23:19:41.977175Z",
     "shell.execute_reply": "2024-06-04T23:19:41.976947Z"
    }
   },
   "outputs": [],
   "source": [
    "Boston = load_data(\"Boston\")\n",
    "model = MS(Boston.columns.drop('medv'), intercept=False)\n",
    "D = model.fit_transform(Boston)\n",
    "feature_names = list(D.columns)\n",
    "X = np.asarray(D)"
   ]
  },
  {
   "cell_type": "markdown",
   "id": "7af68d35",
   "metadata": {},
   "source": [
    "First, we split the data into training and test sets, and fit the tree\n",
    "to the training data. Here we use 30% of the data for the test set."
   ]
  },
  {
   "cell_type": "code",
   "execution_count": null,
   "id": "e2f6482c",
   "metadata": {
    "execution": {
     "iopub.execute_input": "2024-06-04T23:19:41.978554Z",
     "iopub.status.busy": "2024-06-04T23:19:41.978483Z",
     "iopub.status.idle": "2024-06-04T23:19:41.980648Z",
     "shell.execute_reply": "2024-06-04T23:19:41.980414Z"
    }
   },
   "outputs": [],
   "source": [
    "(X_train,\n",
    " X_test,\n",
    " y_train,\n",
    " y_test) = skm.train_test_split(X,\n",
    "                                Boston['medv'],\n",
    "                                test_size=0.3,\n",
    "                                random_state=0)"
   ]
  },
  {
   "cell_type": "markdown",
   "id": "2b25455d",
   "metadata": {},
   "source": [
    "Having formed  our training  and test data sets, we fit the regression tree."
   ]
  },
  {
   "cell_type": "code",
   "execution_count": null,
   "id": "55ff65dd",
   "metadata": {
    "execution": {
     "iopub.execute_input": "2024-06-04T23:19:41.981863Z",
     "iopub.status.busy": "2024-06-04T23:19:41.981787Z",
     "iopub.status.idle": "2024-06-04T23:19:42.157435Z",
     "shell.execute_reply": "2024-06-04T23:19:42.157194Z"
    }
   },
   "outputs": [],
   "source": [
    "reg = DTR(max_depth=3)\n",
    "reg.fit(X_train, y_train)\n",
    "ax = subplots(figsize=(12,12))[1]\n",
    "plot_tree(reg,\n",
    "          feature_names=feature_names,\n",
    "          ax=ax);"
   ]
  },
  {
   "cell_type": "markdown",
   "id": "c198059a",
   "metadata": {},
   "source": [
    "The variable `lstat` measures the percentage of individuals with\n",
    "lower socioeconomic status. The tree indicates that lower\n",
    "values of `lstat` correspond to more expensive houses.\n",
    "The tree predicts a median house price of $12,042 for small-sized homes (`rm < 6.8`), in\n",
    "suburbs in which residents have low socioeconomic status (`lstat  > 14.4`) and the crime-rate is moderate (`crim > 5.8`)."
   ]
  },
  {
   "cell_type": "markdown",
   "id": "6448ca9c",
   "metadata": {},
   "source": [
    "Now we use the cross-validation function to see whether pruning\n",
    "the tree will improve performance."
   ]
  },
  {
   "cell_type": "code",
   "execution_count": null,
   "id": "681b183e",
   "metadata": {
    "execution": {
     "iopub.execute_input": "2024-06-04T23:19:42.158836Z",
     "iopub.status.busy": "2024-06-04T23:19:42.158742Z",
     "iopub.status.idle": "2024-06-04T23:19:42.194904Z",
     "shell.execute_reply": "2024-06-04T23:19:42.194697Z"
    }
   },
   "outputs": [],
   "source": [
    "ccp_path = reg.cost_complexity_pruning_path(X_train, y_train)\n",
    "kfold = skm.KFold(5,\n",
    "                  shuffle=True,\n",
    "                  random_state=10)\n",
    "grid = skm.GridSearchCV(reg,\n",
    "                        {'ccp_alpha': ccp_path.ccp_alphas},\n",
    "                        refit=True,\n",
    "                        cv=kfold,\n",
    "                        scoring='neg_mean_squared_error')\n",
    "G = grid.fit(X_train, y_train)"
   ]
  },
  {
   "cell_type": "markdown",
   "id": "1e802274",
   "metadata": {},
   "source": [
    "In keeping with the cross-validation results, we use the pruned tree\n",
    "to make predictions on the test set."
   ]
  },
  {
   "cell_type": "code",
   "execution_count": null,
   "id": "78a255e3",
   "metadata": {
    "execution": {
     "iopub.execute_input": "2024-06-04T23:19:42.196310Z",
     "iopub.status.busy": "2024-06-04T23:19:42.196237Z",
     "iopub.status.idle": "2024-06-04T23:19:42.198627Z",
     "shell.execute_reply": "2024-06-04T23:19:42.198405Z"
    }
   },
   "outputs": [],
   "source": [
    "best_ = grid.best_estimator_\n",
    "np.mean((y_test - best_.predict(X_test))**2)"
   ]
  },
  {
   "cell_type": "markdown",
   "id": "1be24e79",
   "metadata": {},
   "source": [
    "In other words, the test set MSE associated with the regression tree\n",
    "is 28.07.  The square root of\n",
    "the MSE is therefore around\n",
    "5.30,\n",
    "indicating that this model leads to test predictions that are within around\n",
    "$5300\n",
    "of the true median home value for the suburb.\n",
    "\n",
    "Let’s plot the best tree to see how interpretable it is."
   ]
  },
  {
   "cell_type": "code",
   "execution_count": null,
   "id": "d6f01ff8",
   "metadata": {
    "execution": {
     "iopub.execute_input": "2024-06-04T23:19:42.199859Z",
     "iopub.status.busy": "2024-06-04T23:19:42.199787Z",
     "iopub.status.idle": "2024-06-04T23:19:42.377590Z",
     "shell.execute_reply": "2024-06-04T23:19:42.377308Z"
    }
   },
   "outputs": [],
   "source": [
    "ax = subplots(figsize=(12,12))[1]\n",
    "plot_tree(G.best_estimator_,\n",
    "          feature_names=feature_names,\n",
    "          ax=ax);"
   ]
  },
  {
   "cell_type": "markdown",
   "id": "6fcf4ce3",
   "metadata": {},
   "source": [
    "## Bagging and Random Forests"
   ]
  },
  {
   "cell_type": "markdown",
   "id": "6bab3fe7",
   "metadata": {},
   "source": [
    "Here we apply bagging and random forests to the `Boston` data, using\n",
    "the `RandomForestRegressor()` from the `sklearn.ensemble` package. Recall\n",
    "that bagging is simply a special case of a random forest with\n",
    "$m=p$. Therefore, the `RandomForestRegressor()`  function can be used to\n",
    "perform both bagging and random forests. We start with bagging."
   ]
  },
  {
   "cell_type": "code",
   "execution_count": null,
   "id": "6f7ba658",
   "metadata": {
    "execution": {
     "iopub.execute_input": "2024-06-04T23:19:42.379199Z",
     "iopub.status.busy": "2024-06-04T23:19:42.379090Z",
     "iopub.status.idle": "2024-06-04T23:19:42.503843Z",
     "shell.execute_reply": "2024-06-04T23:19:42.503577Z"
    }
   },
   "outputs": [],
   "source": [
    "bag_boston = RF(max_features=X_train.shape[1], random_state=0)\n",
    "bag_boston.fit(X_train, y_train)"
   ]
  },
  {
   "cell_type": "markdown",
   "id": "ff30e5c3",
   "metadata": {},
   "source": [
    "The argument `max_features` indicates that all 12 predictors should\n",
    "be considered for each split of the tree --- in other words, that\n",
    "bagging should be done.  How well does this bagged model perform on\n",
    "the test set?"
   ]
  },
  {
   "cell_type": "code",
   "execution_count": null,
   "id": "82e484c3",
   "metadata": {
    "execution": {
     "iopub.execute_input": "2024-06-04T23:19:42.505229Z",
     "iopub.status.busy": "2024-06-04T23:19:42.505151Z",
     "iopub.status.idle": "2024-06-04T23:19:42.567276Z",
     "shell.execute_reply": "2024-06-04T23:19:42.567039Z"
    }
   },
   "outputs": [],
   "source": [
    "ax = subplots(figsize=(8,8))[1]\n",
    "y_hat_bag = bag_boston.predict(X_test)\n",
    "ax.scatter(y_hat_bag, y_test)\n",
    "np.mean((y_test - y_hat_bag)**2)"
   ]
  },
  {
   "cell_type": "markdown",
   "id": "9312ebcc",
   "metadata": {},
   "source": [
    "The test set MSE associated with the bagged regression tree is\n",
    "14.63, about half that obtained using an optimally-pruned single\n",
    "tree.  We could change the number of trees grown from the default of\n",
    "100 by\n",
    "using the `n_estimators` argument:"
   ]
  },
  {
   "cell_type": "code",
   "execution_count": null,
   "id": "c8de558e",
   "metadata": {
    "execution": {
     "iopub.execute_input": "2024-06-04T23:19:42.568858Z",
     "iopub.status.busy": "2024-06-04T23:19:42.568766Z",
     "iopub.status.idle": "2024-06-04T23:19:43.181163Z",
     "shell.execute_reply": "2024-06-04T23:19:43.180926Z"
    }
   },
   "outputs": [],
   "source": [
    "bag_boston = RF(max_features=X_train.shape[1],\n",
    "                n_estimators=500,\n",
    "                random_state=0).fit(X_train, y_train)\n",
    "y_hat_bag = bag_boston.predict(X_test)\n",
    "np.mean((y_test - y_hat_bag)**2)"
   ]
  },
  {
   "cell_type": "markdown",
   "id": "7841f5f8",
   "metadata": {},
   "source": [
    "There is not much change. Bagging and random forests cannot overfit by\n",
    "increasing the number of trees, but can underfit if the number is too small.\n",
    "\n",
    "Growing a random forest proceeds in exactly the same way, except that\n",
    "we use a smaller value of the `max_features` argument. By default,\n",
    "`RandomForestRegressor()`  uses $p$ variables when building a random\n",
    "forest of regression trees (i.e. it defaults to bagging), and `RandomForestClassifier()` uses\n",
    "$\\sqrt{p}$ variables when building a\n",
    "random forest of classification trees. Here we use `max_features=6`."
   ]
  },
  {
   "cell_type": "code",
   "execution_count": null,
   "id": "bbebeb55",
   "metadata": {
    "execution": {
     "iopub.execute_input": "2024-06-04T23:19:43.182422Z",
     "iopub.status.busy": "2024-06-04T23:19:43.182350Z",
     "iopub.status.idle": "2024-06-04T23:19:43.262543Z",
     "shell.execute_reply": "2024-06-04T23:19:43.262340Z"
    }
   },
   "outputs": [],
   "source": [
    "RF_boston = RF(max_features=6,\n",
    "               random_state=0).fit(X_train, y_train)\n",
    "y_hat_RF = RF_boston.predict(X_test)\n",
    "np.mean((y_test - y_hat_RF)**2)"
   ]
  },
  {
   "cell_type": "markdown",
   "id": "5e2a4fa4",
   "metadata": {},
   "source": [
    "The test set MSE is 20.04;\n",
    "this indicates that random forests did somewhat worse than bagging\n",
    "in this case. Extracting the `feature_importances_` values from the fitted model, we can view the\n",
    "importance of each variable."
   ]
  },
  {
   "cell_type": "code",
   "execution_count": null,
   "id": "36dcca85",
   "metadata": {
    "execution": {
     "iopub.execute_input": "2024-06-04T23:19:43.263779Z",
     "iopub.status.busy": "2024-06-04T23:19:43.263707Z",
     "iopub.status.idle": "2024-06-04T23:19:43.268724Z",
     "shell.execute_reply": "2024-06-04T23:19:43.268512Z"
    }
   },
   "outputs": [],
   "source": [
    "feature_imp = pd.DataFrame(\n",
    "    {'importance':RF_boston.feature_importances_},\n",
    "    index=feature_names)\n",
    "feature_imp.sort_values(by='importance', ascending=False)"
   ]
  },
  {
   "cell_type": "markdown",
   "id": "a7ed872f",
   "metadata": {},
   "source": [
    " This\n",
    "is a relative measure of the total decrease in node impurity that results from\n",
    "splits over that variable, averaged over all trees (this was plotted in Figure~\\ref{Ch8:fig:varimp} for a model fit to the `Heart` data). \n",
    "\n",
    "The results indicate that across all of the trees considered in the\n",
    "random forest, the wealth level of the community (`lstat`) and the\n",
    "house size (`rm`) are by far the two most important variables."
   ]
  },
  {
   "cell_type": "markdown",
   "id": "cd8a07e7",
   "metadata": {},
   "source": [
    "## Boosting"
   ]
  },
  {
   "cell_type": "markdown",
   "id": "d491bcd5",
   "metadata": {},
   "source": [
    "Here we use `GradientBoostingRegressor()` from `sklearn.ensemble`\n",
    "to fit boosted regression trees to the `Boston` data\n",
    "set. For classification we would  use `GradientBoostingClassifier()`.\n",
    "The argument `n_estimators=5000`\n",
    "indicates that we want 5000 trees, and the option\n",
    "`max_depth=3` limits the depth of each tree. The\n",
    "argument `learning_rate` is the $\\lambda$\n",
    "mentioned earlier in the description of boosting."
   ]
  },
  {
   "cell_type": "code",
   "execution_count": null,
   "id": "4478fc0c",
   "metadata": {
    "execution": {
     "iopub.execute_input": "2024-06-04T23:19:43.270020Z",
     "iopub.status.busy": "2024-06-04T23:19:43.269951Z",
     "iopub.status.idle": "2024-06-04T23:19:45.951552Z",
     "shell.execute_reply": "2024-06-04T23:19:45.951319Z"
    }
   },
   "outputs": [],
   "source": [
    "boost_boston = GBR(n_estimators=5000,\n",
    "                   learning_rate=0.001,\n",
    "                   max_depth=3,\n",
    "                   random_state=0)\n",
    "boost_boston.fit(X_train, y_train)"
   ]
  },
  {
   "cell_type": "markdown",
   "id": "4046f1a2",
   "metadata": {},
   "source": [
    "We can see how the training error decreases with the `train_score_` attribute.\n",
    "To get an idea of how the test error decreases we can use the\n",
    "`staged_predict()` method to get the predicted values along the path."
   ]
  },
  {
   "cell_type": "code",
   "execution_count": null,
   "id": "57ac9a1e",
   "metadata": {
    "execution": {
     "iopub.execute_input": "2024-06-04T23:19:45.952863Z",
     "iopub.status.busy": "2024-06-04T23:19:45.952788Z",
     "iopub.status.idle": "2024-06-04T23:19:46.246579Z",
     "shell.execute_reply": "2024-06-04T23:19:46.246323Z"
    }
   },
   "outputs": [],
   "source": [
    "test_error = np.zeros_like(boost_boston.train_score_)\n",
    "for idx, y_ in enumerate(boost_boston.staged_predict(X_test)):\n",
    "   test_error[idx] = np.mean((y_test - y_)**2)\n",
    "\n",
    "plot_idx = np.arange(boost_boston.train_score_.shape[0])\n",
    "ax = subplots(figsize=(8,8))[1]\n",
    "ax.plot(plot_idx,\n",
    "        boost_boston.train_score_,\n",
    "        'b',\n",
    "        label='Training')\n",
    "ax.plot(plot_idx,\n",
    "        test_error,\n",
    "        'r',\n",
    "        label='Test')\n",
    "ax.legend();"
   ]
  },
  {
   "cell_type": "markdown",
   "id": "dd6568e3",
   "metadata": {},
   "source": [
    "We now use the boosted model to predict `medv` on the test set:"
   ]
  },
  {
   "cell_type": "code",
   "execution_count": null,
   "id": "5e9127e2",
   "metadata": {
    "execution": {
     "iopub.execute_input": "2024-06-04T23:19:46.248030Z",
     "iopub.status.busy": "2024-06-04T23:19:46.247950Z",
     "iopub.status.idle": "2024-06-04T23:19:46.256507Z",
     "shell.execute_reply": "2024-06-04T23:19:46.256269Z"
    }
   },
   "outputs": [],
   "source": [
    "y_hat_boost = boost_boston.predict(X_test);\n",
    "np.mean((y_test - y_hat_boost)**2)"
   ]
  },
  {
   "cell_type": "markdown",
   "id": "77eb1bc9",
   "metadata": {},
   "source": [
    " The test MSE obtained is 14.48,\n",
    "similar to the test MSE for bagging. If we want to, we can\n",
    "perform boosting with a different value of the shrinkage parameter\n",
    "$\\lambda$ in  (\\ref{Ch8:alphaboost}). The default value is 0.001, but\n",
    "this is easily modified.  Here we take $\\lambda=0.2$."
   ]
  },
  {
   "cell_type": "code",
   "execution_count": null,
   "id": "f76d94d9",
   "metadata": {
    "execution": {
     "iopub.execute_input": "2024-06-04T23:19:46.257975Z",
     "iopub.status.busy": "2024-06-04T23:19:46.257861Z",
     "iopub.status.idle": "2024-06-04T23:19:48.006426Z",
     "shell.execute_reply": "2024-06-04T23:19:48.006184Z"
    }
   },
   "outputs": [],
   "source": [
    "boost_boston = GBR(n_estimators=5000,\n",
    "                   learning_rate=0.2,\n",
    "                   max_depth=3,\n",
    "                   random_state=0)\n",
    "boost_boston.fit(X_train,\n",
    "                 y_train)\n",
    "y_hat_boost = boost_boston.predict(X_test);\n",
    "np.mean((y_test - y_hat_boost)**2)"
   ]
  },
  {
   "cell_type": "markdown",
   "id": "5f4ff1aa",
   "metadata": {},
   "source": [
    "In this case, using $\\lambda=0.2$ leads to a almost the same test MSE\n",
    "as when using $\\lambda=0.001$."
   ]
  },
  {
   "cell_type": "markdown",
   "id": "d1311869",
   "metadata": {},
   "source": [
    "## Bayesian Additive Regression Trees"
   ]
  },
  {
   "cell_type": "markdown",
   "id": "b703f799",
   "metadata": {},
   "source": [
    "In this section we demonstrate a  `Python` implementation of BART found in the\n",
    "`ISLP.bart` package. We fit a  model\n",
    "to the `Boston` housing data set. This `BART()` estimator is\n",
    "designed for quantitative outcome variables, though other implementations are available for\n",
    "fitting logistic and probit models to categorical outcomes."
   ]
  },
  {
   "cell_type": "code",
   "execution_count": null,
   "id": "a310d4bd",
   "metadata": {
    "execution": {
     "iopub.execute_input": "2024-06-04T23:19:48.007901Z",
     "iopub.status.busy": "2024-06-04T23:19:48.007823Z",
     "iopub.status.idle": "2024-06-04T23:19:49.070813Z",
     "shell.execute_reply": "2024-06-04T23:19:49.070586Z"
    }
   },
   "outputs": [],
   "source": [
    "bart_boston = BART(random_state=0, burnin=5, ndraw=15)\n",
    "bart_boston.fit(X_train, y_train)"
   ]
  },
  {
   "cell_type": "markdown",
   "id": "dfbffc72",
   "metadata": {},
   "source": [
    "On this data set, with this split into test and training, we see that the test error of BART is similar to that of  random forest."
   ]
  },
  {
   "cell_type": "code",
   "execution_count": null,
   "id": "4e45c7e0",
   "metadata": {
    "execution": {
     "iopub.execute_input": "2024-06-04T23:19:49.072153Z",
     "iopub.status.busy": "2024-06-04T23:19:49.072078Z",
     "iopub.status.idle": "2024-06-04T23:19:49.296517Z",
     "shell.execute_reply": "2024-06-04T23:19:49.296307Z"
    }
   },
   "outputs": [],
   "source": [
    "yhat_test = bart_boston.predict(X_test.astype(np.float32))\n",
    "np.mean((y_test - yhat_test)**2)"
   ]
  },
  {
   "cell_type": "markdown",
   "id": "0de5badb",
   "metadata": {},
   "source": [
    "We can check how many times each variable appeared in the collection of trees.\n",
    "This gives a summary similar to the variable importance plot for boosting and random forests."
   ]
  },
  {
   "cell_type": "code",
   "execution_count": null,
   "id": "77037b29",
   "metadata": {
    "execution": {
     "iopub.execute_input": "2024-06-04T23:19:49.297765Z",
     "iopub.status.busy": "2024-06-04T23:19:49.297699Z",
     "iopub.status.idle": "2024-06-04T23:19:49.299962Z",
     "shell.execute_reply": "2024-06-04T23:19:49.299756Z"
    }
   },
   "outputs": [],
   "source": [
    "var_inclusion = pd.Series(bart_boston.variable_inclusion_.mean(0),\n",
    "                               index=D.columns)\n",
    "var_inclusion"
   ]
  },
  {
   "cell_type": "code",
   "execution_count": null,
   "id": "adc984ea",
   "metadata": {},
   "outputs": [],
   "source": []
  }
 ],
 "metadata": {
  "jupytext": {
   "cell_metadata_filter": "-all",
   "formats": "Rmd,ipynb",
   "main_language": "python"
  },
  "kernelspec": {
   "display_name": "islp",
   "language": "python",
   "name": "python3"
  },
  "language_info": {
   "codemirror_mode": {
    "name": "ipython",
    "version": 3
   },
   "file_extension": ".py",
   "mimetype": "text/x-python",
   "name": "python",
   "nbconvert_exporter": "python",
   "pygments_lexer": "ipython3",
   "version": "3.12.4"
  }
 },
 "nbformat": 4,
 "nbformat_minor": 5
}
